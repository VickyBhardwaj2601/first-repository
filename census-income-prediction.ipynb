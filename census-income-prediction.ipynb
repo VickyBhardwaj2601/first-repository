{
 "cells": [
  {
   "cell_type": "code",
   "execution_count": 1,
   "id": "9abc34f0",
   "metadata": {
    "execution": {
     "iopub.execute_input": "2023-01-20T18:49:55.550859Z",
     "iopub.status.busy": "2023-01-20T18:49:55.550324Z",
     "iopub.status.idle": "2023-01-20T18:49:57.315300Z",
     "shell.execute_reply": "2023-01-20T18:49:57.312889Z"
    },
    "papermill": {
     "duration": 1.797105,
     "end_time": "2023-01-20T18:49:57.318993",
     "exception": false,
     "start_time": "2023-01-20T18:49:55.521888",
     "status": "completed"
    },
    "tags": []
   },
   "outputs": [],
   "source": [
    "import numpy as np # to operate algebriac operations\n",
    "import pandas as pd # to form dataFrames\n",
    "import matplotlib.pyplot as plt # for data visualization\n",
    "import seaborn as sns # for data visualization\n",
    "from sklearn.preprocessing import LabelEncoder  #string to integer conversion\n",
    "from sklearn.model_selection import train_test_split #for selection of model to train\n",
    "from sklearn.linear_model import LinearRegression # to do prediction of data"
   ]
  },
  {
   "cell_type": "code",
   "execution_count": 2,
   "id": "1a554ba2",
   "metadata": {
    "execution": {
     "iopub.execute_input": "2023-01-20T18:49:57.373533Z",
     "iopub.status.busy": "2023-01-20T18:49:57.372194Z",
     "iopub.status.idle": "2023-01-20T18:49:57.519863Z",
     "shell.execute_reply": "2023-01-20T18:49:57.518287Z"
    },
    "papermill": {
     "duration": 0.178848,
     "end_time": "2023-01-20T18:49:57.523446",
     "exception": false,
     "start_time": "2023-01-20T18:49:57.344598",
     "status": "completed"
    },
    "tags": []
   },
   "outputs": [],
   "source": [
    "data = pd.read_csv('/kaggle/input/census-project-dataset/census_income.csv')"
   ]
  },
  {
   "cell_type": "code",
   "execution_count": null,
   "id": "8eef65b4",
   "metadata": {
    "execution": {
     "iopub.execute_input": "2023-01-20T18:49:57.580254Z",
     "iopub.status.busy": "2023-01-20T18:49:57.579132Z",
     "iopub.status.idle": "2023-01-20T18:49:57.589373Z",
     "shell.execute_reply": "2023-01-20T18:49:57.588087Z"
    },
    "papermill": {
     "duration": 0.04036,
     "end_time": "2023-01-20T18:49:57.592092",
     "exception": false,
     "start_time": "2023-01-20T18:49:57.551732",
     "status": "completed"
    },
    "tags": []
   },
   "outputs": [
    {
     "data": {
      "text/plain": [
       "(32561, 15)"
      ]
     },
     "execution_count": 3,
     "metadata": {},
     "output_type": "execute_result"
    }
   ],
   "source": [
    "data.shape"
   ]
  },
  {
   "cell_type": "code",
   "execution_count": 4,
   "id": "1ab425d9",
   "metadata": {
    "execution": {
     "iopub.execute_input": "2023-01-20T18:49:57.643844Z",
     "iopub.status.busy": "2023-01-20T18:49:57.643389Z",
     "iopub.status.idle": "2023-01-20T18:49:57.673674Z",
     "shell.execute_reply": "2023-01-20T18:49:57.672357Z"
    },
    "papermill": {
     "duration": 0.059179,
     "end_time": "2023-01-20T18:49:57.676453",
     "exception": false,
     "start_time": "2023-01-20T18:49:57.617274",
     "status": "completed"
    },
    "tags": []
   },
   "outputs": [
    {
     "data": {
      "text/html": [
       "<div>\n",
       "<style scoped>\n",
       "    .dataframe tbody tr th:only-of-type {\n",
       "        vertical-align: middle;\n",
       "    }\n",
       "\n",
       "    .dataframe tbody tr th {\n",
       "        vertical-align: top;\n",
       "    }\n",
       "\n",
       "    .dataframe thead th {\n",
       "        text-align: right;\n",
       "    }\n",
       "</style>\n",
       "<table border=\"1\" class=\"dataframe\">\n",
       "  <thead>\n",
       "    <tr style=\"text-align: right;\">\n",
       "      <th></th>\n",
       "      <th>age</th>\n",
       "      <th>workclass</th>\n",
       "      <th>fnlwgt</th>\n",
       "      <th>education</th>\n",
       "      <th>education-num</th>\n",
       "      <th>marital-status</th>\n",
       "      <th>occupation</th>\n",
       "      <th>relationship</th>\n",
       "      <th>race</th>\n",
       "      <th>sex</th>\n",
       "      <th>capital-gain</th>\n",
       "      <th>capital-loss</th>\n",
       "      <th>hours-per-week</th>\n",
       "      <th>native-country</th>\n",
       "      <th></th>\n",
       "    </tr>\n",
       "  </thead>\n",
       "  <tbody>\n",
       "    <tr>\n",
       "      <th>0</th>\n",
       "      <td>39</td>\n",
       "      <td>State-gov</td>\n",
       "      <td>77516</td>\n",
       "      <td>Bachelors</td>\n",
       "      <td>13</td>\n",
       "      <td>Never-married</td>\n",
       "      <td>Adm-clerical</td>\n",
       "      <td>Not-in-family</td>\n",
       "      <td>White</td>\n",
       "      <td>Male</td>\n",
       "      <td>2174</td>\n",
       "      <td>0</td>\n",
       "      <td>40</td>\n",
       "      <td>United-States</td>\n",
       "      <td>&lt;=50K</td>\n",
       "    </tr>\n",
       "    <tr>\n",
       "      <th>1</th>\n",
       "      <td>50</td>\n",
       "      <td>Self-emp-not-inc</td>\n",
       "      <td>83311</td>\n",
       "      <td>Bachelors</td>\n",
       "      <td>13</td>\n",
       "      <td>Married-civ-spouse</td>\n",
       "      <td>Exec-managerial</td>\n",
       "      <td>Husband</td>\n",
       "      <td>White</td>\n",
       "      <td>Male</td>\n",
       "      <td>0</td>\n",
       "      <td>0</td>\n",
       "      <td>13</td>\n",
       "      <td>United-States</td>\n",
       "      <td>&lt;=50K</td>\n",
       "    </tr>\n",
       "    <tr>\n",
       "      <th>2</th>\n",
       "      <td>38</td>\n",
       "      <td>Private</td>\n",
       "      <td>215646</td>\n",
       "      <td>HS-grad</td>\n",
       "      <td>9</td>\n",
       "      <td>Divorced</td>\n",
       "      <td>Handlers-cleaners</td>\n",
       "      <td>Not-in-family</td>\n",
       "      <td>White</td>\n",
       "      <td>Male</td>\n",
       "      <td>0</td>\n",
       "      <td>0</td>\n",
       "      <td>40</td>\n",
       "      <td>United-States</td>\n",
       "      <td>&lt;=50K</td>\n",
       "    </tr>\n",
       "    <tr>\n",
       "      <th>3</th>\n",
       "      <td>53</td>\n",
       "      <td>Private</td>\n",
       "      <td>234721</td>\n",
       "      <td>11th</td>\n",
       "      <td>7</td>\n",
       "      <td>Married-civ-spouse</td>\n",
       "      <td>Handlers-cleaners</td>\n",
       "      <td>Husband</td>\n",
       "      <td>Black</td>\n",
       "      <td>Male</td>\n",
       "      <td>0</td>\n",
       "      <td>0</td>\n",
       "      <td>40</td>\n",
       "      <td>United-States</td>\n",
       "      <td>&lt;=50K</td>\n",
       "    </tr>\n",
       "    <tr>\n",
       "      <th>4</th>\n",
       "      <td>28</td>\n",
       "      <td>Private</td>\n",
       "      <td>338409</td>\n",
       "      <td>Bachelors</td>\n",
       "      <td>13</td>\n",
       "      <td>Married-civ-spouse</td>\n",
       "      <td>Prof-specialty</td>\n",
       "      <td>Wife</td>\n",
       "      <td>Black</td>\n",
       "      <td>Female</td>\n",
       "      <td>0</td>\n",
       "      <td>0</td>\n",
       "      <td>40</td>\n",
       "      <td>Cuba</td>\n",
       "      <td>&lt;=50K</td>\n",
       "    </tr>\n",
       "  </tbody>\n",
       "</table>\n",
       "</div>"
      ],
      "text/plain": [
       "   age          workclass   fnlwgt   education   education-num  \\\n",
       "0   39          State-gov    77516   Bachelors              13   \n",
       "1   50   Self-emp-not-inc    83311   Bachelors              13   \n",
       "2   38            Private   215646     HS-grad               9   \n",
       "3   53            Private   234721        11th               7   \n",
       "4   28            Private   338409   Bachelors              13   \n",
       "\n",
       "        marital-status          occupation    relationship    race      sex  \\\n",
       "0        Never-married        Adm-clerical   Not-in-family   White     Male   \n",
       "1   Married-civ-spouse     Exec-managerial         Husband   White     Male   \n",
       "2             Divorced   Handlers-cleaners   Not-in-family   White     Male   \n",
       "3   Married-civ-spouse   Handlers-cleaners         Husband   Black     Male   \n",
       "4   Married-civ-spouse      Prof-specialty            Wife   Black   Female   \n",
       "\n",
       "    capital-gain   capital-loss   hours-per-week  native-country          \n",
       "0           2174              0               40   United-States   <=50K  \n",
       "1              0              0               13   United-States   <=50K  \n",
       "2              0              0               40   United-States   <=50K  \n",
       "3              0              0               40   United-States   <=50K  \n",
       "4              0              0               40            Cuba   <=50K  "
      ]
     },
     "execution_count": 4,
     "metadata": {},
     "output_type": "execute_result"
    }
   ],
   "source": [
    "data.head()"
   ]
  },
  {
   "cell_type": "code",
   "execution_count": 5,
   "id": "c576d487",
   "metadata": {
    "execution": {
     "iopub.execute_input": "2023-01-20T18:49:57.730640Z",
     "iopub.status.busy": "2023-01-20T18:49:57.730165Z",
     "iopub.status.idle": "2023-01-20T18:49:57.840992Z",
     "shell.execute_reply": "2023-01-20T18:49:57.839288Z"
    },
    "papermill": {
     "duration": 0.141395,
     "end_time": "2023-01-20T18:49:57.843837",
     "exception": false,
     "start_time": "2023-01-20T18:49:57.702442",
     "status": "completed"
    },
    "tags": []
   },
   "outputs": [
    {
     "data": {
      "text/html": [
       "<div>\n",
       "<style scoped>\n",
       "    .dataframe tbody tr th:only-of-type {\n",
       "        vertical-align: middle;\n",
       "    }\n",
       "\n",
       "    .dataframe tbody tr th {\n",
       "        vertical-align: top;\n",
       "    }\n",
       "\n",
       "    .dataframe thead th {\n",
       "        text-align: right;\n",
       "    }\n",
       "</style>\n",
       "<table border=\"1\" class=\"dataframe\">\n",
       "  <thead>\n",
       "    <tr style=\"text-align: right;\">\n",
       "      <th></th>\n",
       "      <th>age</th>\n",
       "      <th>workclass</th>\n",
       "      <th>fnlwgt</th>\n",
       "      <th>education</th>\n",
       "      <th>education-num</th>\n",
       "      <th>marital-status</th>\n",
       "      <th>occupation</th>\n",
       "      <th>relationship</th>\n",
       "      <th>race</th>\n",
       "      <th>sex</th>\n",
       "      <th>capital-gain</th>\n",
       "      <th>capital-loss</th>\n",
       "      <th>hours-per-week</th>\n",
       "      <th>native-country</th>\n",
       "      <th>Unnamed: 14</th>\n",
       "    </tr>\n",
       "  </thead>\n",
       "  <tbody>\n",
       "    <tr>\n",
       "      <th>0</th>\n",
       "      <td>39</td>\n",
       "      <td>State-gov</td>\n",
       "      <td>77516</td>\n",
       "      <td>Bachelors</td>\n",
       "      <td>13</td>\n",
       "      <td>Never-married</td>\n",
       "      <td>Adm-clerical</td>\n",
       "      <td>Not-in-family</td>\n",
       "      <td>White</td>\n",
       "      <td>Male</td>\n",
       "      <td>2174</td>\n",
       "      <td>0</td>\n",
       "      <td>40</td>\n",
       "      <td>United-States</td>\n",
       "      <td>&lt;=50K</td>\n",
       "    </tr>\n",
       "    <tr>\n",
       "      <th>1</th>\n",
       "      <td>50</td>\n",
       "      <td>Self-emp-not-inc</td>\n",
       "      <td>83311</td>\n",
       "      <td>Bachelors</td>\n",
       "      <td>13</td>\n",
       "      <td>Married-civ-spouse</td>\n",
       "      <td>Exec-managerial</td>\n",
       "      <td>Husband</td>\n",
       "      <td>White</td>\n",
       "      <td>Male</td>\n",
       "      <td>0</td>\n",
       "      <td>0</td>\n",
       "      <td>13</td>\n",
       "      <td>United-States</td>\n",
       "      <td>&lt;=50K</td>\n",
       "    </tr>\n",
       "    <tr>\n",
       "      <th>2</th>\n",
       "      <td>38</td>\n",
       "      <td>Private</td>\n",
       "      <td>215646</td>\n",
       "      <td>HS-grad</td>\n",
       "      <td>9</td>\n",
       "      <td>Divorced</td>\n",
       "      <td>Handlers-cleaners</td>\n",
       "      <td>Not-in-family</td>\n",
       "      <td>White</td>\n",
       "      <td>Male</td>\n",
       "      <td>0</td>\n",
       "      <td>0</td>\n",
       "      <td>40</td>\n",
       "      <td>United-States</td>\n",
       "      <td>&lt;=50K</td>\n",
       "    </tr>\n",
       "    <tr>\n",
       "      <th>3</th>\n",
       "      <td>53</td>\n",
       "      <td>Private</td>\n",
       "      <td>234721</td>\n",
       "      <td>11th</td>\n",
       "      <td>7</td>\n",
       "      <td>Married-civ-spouse</td>\n",
       "      <td>Handlers-cleaners</td>\n",
       "      <td>Husband</td>\n",
       "      <td>Black</td>\n",
       "      <td>Male</td>\n",
       "      <td>0</td>\n",
       "      <td>0</td>\n",
       "      <td>40</td>\n",
       "      <td>United-States</td>\n",
       "      <td>&lt;=50K</td>\n",
       "    </tr>\n",
       "    <tr>\n",
       "      <th>4</th>\n",
       "      <td>28</td>\n",
       "      <td>Private</td>\n",
       "      <td>338409</td>\n",
       "      <td>Bachelors</td>\n",
       "      <td>13</td>\n",
       "      <td>Married-civ-spouse</td>\n",
       "      <td>Prof-specialty</td>\n",
       "      <td>Wife</td>\n",
       "      <td>Black</td>\n",
       "      <td>Female</td>\n",
       "      <td>0</td>\n",
       "      <td>0</td>\n",
       "      <td>40</td>\n",
       "      <td>Cuba</td>\n",
       "      <td>&lt;=50K</td>\n",
       "    </tr>\n",
       "    <tr>\n",
       "      <th>...</th>\n",
       "      <td>...</td>\n",
       "      <td>...</td>\n",
       "      <td>...</td>\n",
       "      <td>...</td>\n",
       "      <td>...</td>\n",
       "      <td>...</td>\n",
       "      <td>...</td>\n",
       "      <td>...</td>\n",
       "      <td>...</td>\n",
       "      <td>...</td>\n",
       "      <td>...</td>\n",
       "      <td>...</td>\n",
       "      <td>...</td>\n",
       "      <td>...</td>\n",
       "      <td>...</td>\n",
       "    </tr>\n",
       "    <tr>\n",
       "      <th>32556</th>\n",
       "      <td>27</td>\n",
       "      <td>Private</td>\n",
       "      <td>257302</td>\n",
       "      <td>Assoc-acdm</td>\n",
       "      <td>12</td>\n",
       "      <td>Married-civ-spouse</td>\n",
       "      <td>Tech-support</td>\n",
       "      <td>Wife</td>\n",
       "      <td>White</td>\n",
       "      <td>Female</td>\n",
       "      <td>0</td>\n",
       "      <td>0</td>\n",
       "      <td>38</td>\n",
       "      <td>United-States</td>\n",
       "      <td>&lt;=50K</td>\n",
       "    </tr>\n",
       "    <tr>\n",
       "      <th>32557</th>\n",
       "      <td>40</td>\n",
       "      <td>Private</td>\n",
       "      <td>154374</td>\n",
       "      <td>HS-grad</td>\n",
       "      <td>9</td>\n",
       "      <td>Married-civ-spouse</td>\n",
       "      <td>Machine-op-inspct</td>\n",
       "      <td>Husband</td>\n",
       "      <td>White</td>\n",
       "      <td>Male</td>\n",
       "      <td>0</td>\n",
       "      <td>0</td>\n",
       "      <td>40</td>\n",
       "      <td>United-States</td>\n",
       "      <td>&gt;50K</td>\n",
       "    </tr>\n",
       "    <tr>\n",
       "      <th>32558</th>\n",
       "      <td>58</td>\n",
       "      <td>Private</td>\n",
       "      <td>151910</td>\n",
       "      <td>HS-grad</td>\n",
       "      <td>9</td>\n",
       "      <td>Widowed</td>\n",
       "      <td>Adm-clerical</td>\n",
       "      <td>Unmarried</td>\n",
       "      <td>White</td>\n",
       "      <td>Female</td>\n",
       "      <td>0</td>\n",
       "      <td>0</td>\n",
       "      <td>40</td>\n",
       "      <td>United-States</td>\n",
       "      <td>&lt;=50K</td>\n",
       "    </tr>\n",
       "    <tr>\n",
       "      <th>32559</th>\n",
       "      <td>22</td>\n",
       "      <td>Private</td>\n",
       "      <td>201490</td>\n",
       "      <td>HS-grad</td>\n",
       "      <td>9</td>\n",
       "      <td>Never-married</td>\n",
       "      <td>Adm-clerical</td>\n",
       "      <td>Own-child</td>\n",
       "      <td>White</td>\n",
       "      <td>Male</td>\n",
       "      <td>0</td>\n",
       "      <td>0</td>\n",
       "      <td>20</td>\n",
       "      <td>United-States</td>\n",
       "      <td>&lt;=50K</td>\n",
       "    </tr>\n",
       "    <tr>\n",
       "      <th>32560</th>\n",
       "      <td>52</td>\n",
       "      <td>Self-emp-inc</td>\n",
       "      <td>287927</td>\n",
       "      <td>HS-grad</td>\n",
       "      <td>9</td>\n",
       "      <td>Married-civ-spouse</td>\n",
       "      <td>Exec-managerial</td>\n",
       "      <td>Wife</td>\n",
       "      <td>White</td>\n",
       "      <td>Female</td>\n",
       "      <td>15024</td>\n",
       "      <td>0</td>\n",
       "      <td>40</td>\n",
       "      <td>United-States</td>\n",
       "      <td>&gt;50K</td>\n",
       "    </tr>\n",
       "  </tbody>\n",
       "</table>\n",
       "<p>32561 rows × 15 columns</p>\n",
       "</div>"
      ],
      "text/plain": [
       "       age         workclass  fnlwgt   education  education-num  \\\n",
       "0       39         State-gov   77516   Bachelors             13   \n",
       "1       50  Self-emp-not-inc   83311   Bachelors             13   \n",
       "2       38           Private  215646     HS-grad              9   \n",
       "3       53           Private  234721        11th              7   \n",
       "4       28           Private  338409   Bachelors             13   \n",
       "...    ...               ...     ...         ...            ...   \n",
       "32556   27           Private  257302  Assoc-acdm             12   \n",
       "32557   40           Private  154374     HS-grad              9   \n",
       "32558   58           Private  151910     HS-grad              9   \n",
       "32559   22           Private  201490     HS-grad              9   \n",
       "32560   52      Self-emp-inc  287927     HS-grad              9   \n",
       "\n",
       "           marital-status         occupation   relationship   race     sex  \\\n",
       "0           Never-married       Adm-clerical  Not-in-family  White    Male   \n",
       "1      Married-civ-spouse    Exec-managerial        Husband  White    Male   \n",
       "2                Divorced  Handlers-cleaners  Not-in-family  White    Male   \n",
       "3      Married-civ-spouse  Handlers-cleaners        Husband  Black    Male   \n",
       "4      Married-civ-spouse     Prof-specialty           Wife  Black  Female   \n",
       "...                   ...                ...            ...    ...     ...   \n",
       "32556  Married-civ-spouse       Tech-support           Wife  White  Female   \n",
       "32557  Married-civ-spouse  Machine-op-inspct        Husband  White    Male   \n",
       "32558             Widowed       Adm-clerical      Unmarried  White  Female   \n",
       "32559       Never-married       Adm-clerical      Own-child  White    Male   \n",
       "32560  Married-civ-spouse    Exec-managerial           Wife  White  Female   \n",
       "\n",
       "       capital-gain  capital-loss  hours-per-week native-country Unnamed: 14  \n",
       "0              2174             0              40  United-States       <=50K  \n",
       "1                 0             0              13  United-States       <=50K  \n",
       "2                 0             0              40  United-States       <=50K  \n",
       "3                 0             0              40  United-States       <=50K  \n",
       "4                 0             0              40           Cuba       <=50K  \n",
       "...             ...           ...             ...            ...         ...  \n",
       "32556             0             0              38  United-States       <=50K  \n",
       "32557             0             0              40  United-States        >50K  \n",
       "32558             0             0              40  United-States       <=50K  \n",
       "32559             0             0              20  United-States       <=50K  \n",
       "32560         15024             0              40  United-States        >50K  \n",
       "\n",
       "[32561 rows x 15 columns]"
      ]
     },
     "execution_count": 5,
     "metadata": {},
     "output_type": "execute_result"
    }
   ],
   "source": [
    "data = pd.read_csv('/kaggle/input/census-project-dataset/census_income.csv',skipinitialspace = True) #empty column is named as Unnamed after removing the space. \n",
    "data"
   ]
  },
  {
   "cell_type": "code",
   "execution_count": null,
   "id": "e9945b21",
   "metadata": {
    "papermill": {
     "duration": 0.027444,
     "end_time": "2023-01-20T18:49:57.898262",
     "exception": false,
     "start_time": "2023-01-20T18:49:57.870818",
     "status": "completed"
    },
    "tags": []
   },
   "outputs": [],
   "source": []
  },
  {
   "cell_type": "code",
   "execution_count": 6,
   "id": "f7fcd1cb",
   "metadata": {
    "execution": {
     "iopub.execute_input": "2023-01-20T18:49:57.952282Z",
     "iopub.status.busy": "2023-01-20T18:49:57.951486Z",
     "iopub.status.idle": "2023-01-20T18:49:57.966452Z",
     "shell.execute_reply": "2023-01-20T18:49:57.965145Z"
    },
    "papermill": {
     "duration": 0.04456,
     "end_time": "2023-01-20T18:49:57.969140",
     "exception": false,
     "start_time": "2023-01-20T18:49:57.924580",
     "status": "completed"
    },
    "tags": []
   },
   "outputs": [],
   "source": [
    "data = data.rename(columns = {'Unnamed: 14' : 'Annual Income'})"
   ]
  },
  {
   "cell_type": "code",
   "execution_count": 7,
   "id": "8a8bc48d",
   "metadata": {
    "execution": {
     "iopub.execute_input": "2023-01-20T18:49:58.025437Z",
     "iopub.status.busy": "2023-01-20T18:49:58.024865Z",
     "iopub.status.idle": "2023-01-20T18:49:58.053595Z",
     "shell.execute_reply": "2023-01-20T18:49:58.051658Z"
    },
    "papermill": {
     "duration": 0.062268,
     "end_time": "2023-01-20T18:49:58.057165",
     "exception": false,
     "start_time": "2023-01-20T18:49:57.994897",
     "status": "completed"
    },
    "tags": []
   },
   "outputs": [
    {
     "data": {
      "text/html": [
       "<div>\n",
       "<style scoped>\n",
       "    .dataframe tbody tr th:only-of-type {\n",
       "        vertical-align: middle;\n",
       "    }\n",
       "\n",
       "    .dataframe tbody tr th {\n",
       "        vertical-align: top;\n",
       "    }\n",
       "\n",
       "    .dataframe thead th {\n",
       "        text-align: right;\n",
       "    }\n",
       "</style>\n",
       "<table border=\"1\" class=\"dataframe\">\n",
       "  <thead>\n",
       "    <tr style=\"text-align: right;\">\n",
       "      <th></th>\n",
       "      <th>age</th>\n",
       "      <th>workclass</th>\n",
       "      <th>fnlwgt</th>\n",
       "      <th>education</th>\n",
       "      <th>education-num</th>\n",
       "      <th>marital-status</th>\n",
       "      <th>occupation</th>\n",
       "      <th>relationship</th>\n",
       "      <th>race</th>\n",
       "      <th>sex</th>\n",
       "      <th>capital-gain</th>\n",
       "      <th>capital-loss</th>\n",
       "      <th>hours-per-week</th>\n",
       "      <th>native-country</th>\n",
       "      <th>Annual Income</th>\n",
       "    </tr>\n",
       "  </thead>\n",
       "  <tbody>\n",
       "    <tr>\n",
       "      <th>0</th>\n",
       "      <td>39</td>\n",
       "      <td>State-gov</td>\n",
       "      <td>77516</td>\n",
       "      <td>Bachelors</td>\n",
       "      <td>13</td>\n",
       "      <td>Never-married</td>\n",
       "      <td>Adm-clerical</td>\n",
       "      <td>Not-in-family</td>\n",
       "      <td>White</td>\n",
       "      <td>Male</td>\n",
       "      <td>2174</td>\n",
       "      <td>0</td>\n",
       "      <td>40</td>\n",
       "      <td>United-States</td>\n",
       "      <td>&lt;=50K</td>\n",
       "    </tr>\n",
       "    <tr>\n",
       "      <th>1</th>\n",
       "      <td>50</td>\n",
       "      <td>Self-emp-not-inc</td>\n",
       "      <td>83311</td>\n",
       "      <td>Bachelors</td>\n",
       "      <td>13</td>\n",
       "      <td>Married-civ-spouse</td>\n",
       "      <td>Exec-managerial</td>\n",
       "      <td>Husband</td>\n",
       "      <td>White</td>\n",
       "      <td>Male</td>\n",
       "      <td>0</td>\n",
       "      <td>0</td>\n",
       "      <td>13</td>\n",
       "      <td>United-States</td>\n",
       "      <td>&lt;=50K</td>\n",
       "    </tr>\n",
       "    <tr>\n",
       "      <th>2</th>\n",
       "      <td>38</td>\n",
       "      <td>Private</td>\n",
       "      <td>215646</td>\n",
       "      <td>HS-grad</td>\n",
       "      <td>9</td>\n",
       "      <td>Divorced</td>\n",
       "      <td>Handlers-cleaners</td>\n",
       "      <td>Not-in-family</td>\n",
       "      <td>White</td>\n",
       "      <td>Male</td>\n",
       "      <td>0</td>\n",
       "      <td>0</td>\n",
       "      <td>40</td>\n",
       "      <td>United-States</td>\n",
       "      <td>&lt;=50K</td>\n",
       "    </tr>\n",
       "    <tr>\n",
       "      <th>3</th>\n",
       "      <td>53</td>\n",
       "      <td>Private</td>\n",
       "      <td>234721</td>\n",
       "      <td>11th</td>\n",
       "      <td>7</td>\n",
       "      <td>Married-civ-spouse</td>\n",
       "      <td>Handlers-cleaners</td>\n",
       "      <td>Husband</td>\n",
       "      <td>Black</td>\n",
       "      <td>Male</td>\n",
       "      <td>0</td>\n",
       "      <td>0</td>\n",
       "      <td>40</td>\n",
       "      <td>United-States</td>\n",
       "      <td>&lt;=50K</td>\n",
       "    </tr>\n",
       "    <tr>\n",
       "      <th>4</th>\n",
       "      <td>28</td>\n",
       "      <td>Private</td>\n",
       "      <td>338409</td>\n",
       "      <td>Bachelors</td>\n",
       "      <td>13</td>\n",
       "      <td>Married-civ-spouse</td>\n",
       "      <td>Prof-specialty</td>\n",
       "      <td>Wife</td>\n",
       "      <td>Black</td>\n",
       "      <td>Female</td>\n",
       "      <td>0</td>\n",
       "      <td>0</td>\n",
       "      <td>40</td>\n",
       "      <td>Cuba</td>\n",
       "      <td>&lt;=50K</td>\n",
       "    </tr>\n",
       "    <tr>\n",
       "      <th>...</th>\n",
       "      <td>...</td>\n",
       "      <td>...</td>\n",
       "      <td>...</td>\n",
       "      <td>...</td>\n",
       "      <td>...</td>\n",
       "      <td>...</td>\n",
       "      <td>...</td>\n",
       "      <td>...</td>\n",
       "      <td>...</td>\n",
       "      <td>...</td>\n",
       "      <td>...</td>\n",
       "      <td>...</td>\n",
       "      <td>...</td>\n",
       "      <td>...</td>\n",
       "      <td>...</td>\n",
       "    </tr>\n",
       "    <tr>\n",
       "      <th>32556</th>\n",
       "      <td>27</td>\n",
       "      <td>Private</td>\n",
       "      <td>257302</td>\n",
       "      <td>Assoc-acdm</td>\n",
       "      <td>12</td>\n",
       "      <td>Married-civ-spouse</td>\n",
       "      <td>Tech-support</td>\n",
       "      <td>Wife</td>\n",
       "      <td>White</td>\n",
       "      <td>Female</td>\n",
       "      <td>0</td>\n",
       "      <td>0</td>\n",
       "      <td>38</td>\n",
       "      <td>United-States</td>\n",
       "      <td>&lt;=50K</td>\n",
       "    </tr>\n",
       "    <tr>\n",
       "      <th>32557</th>\n",
       "      <td>40</td>\n",
       "      <td>Private</td>\n",
       "      <td>154374</td>\n",
       "      <td>HS-grad</td>\n",
       "      <td>9</td>\n",
       "      <td>Married-civ-spouse</td>\n",
       "      <td>Machine-op-inspct</td>\n",
       "      <td>Husband</td>\n",
       "      <td>White</td>\n",
       "      <td>Male</td>\n",
       "      <td>0</td>\n",
       "      <td>0</td>\n",
       "      <td>40</td>\n",
       "      <td>United-States</td>\n",
       "      <td>&gt;50K</td>\n",
       "    </tr>\n",
       "    <tr>\n",
       "      <th>32558</th>\n",
       "      <td>58</td>\n",
       "      <td>Private</td>\n",
       "      <td>151910</td>\n",
       "      <td>HS-grad</td>\n",
       "      <td>9</td>\n",
       "      <td>Widowed</td>\n",
       "      <td>Adm-clerical</td>\n",
       "      <td>Unmarried</td>\n",
       "      <td>White</td>\n",
       "      <td>Female</td>\n",
       "      <td>0</td>\n",
       "      <td>0</td>\n",
       "      <td>40</td>\n",
       "      <td>United-States</td>\n",
       "      <td>&lt;=50K</td>\n",
       "    </tr>\n",
       "    <tr>\n",
       "      <th>32559</th>\n",
       "      <td>22</td>\n",
       "      <td>Private</td>\n",
       "      <td>201490</td>\n",
       "      <td>HS-grad</td>\n",
       "      <td>9</td>\n",
       "      <td>Never-married</td>\n",
       "      <td>Adm-clerical</td>\n",
       "      <td>Own-child</td>\n",
       "      <td>White</td>\n",
       "      <td>Male</td>\n",
       "      <td>0</td>\n",
       "      <td>0</td>\n",
       "      <td>20</td>\n",
       "      <td>United-States</td>\n",
       "      <td>&lt;=50K</td>\n",
       "    </tr>\n",
       "    <tr>\n",
       "      <th>32560</th>\n",
       "      <td>52</td>\n",
       "      <td>Self-emp-inc</td>\n",
       "      <td>287927</td>\n",
       "      <td>HS-grad</td>\n",
       "      <td>9</td>\n",
       "      <td>Married-civ-spouse</td>\n",
       "      <td>Exec-managerial</td>\n",
       "      <td>Wife</td>\n",
       "      <td>White</td>\n",
       "      <td>Female</td>\n",
       "      <td>15024</td>\n",
       "      <td>0</td>\n",
       "      <td>40</td>\n",
       "      <td>United-States</td>\n",
       "      <td>&gt;50K</td>\n",
       "    </tr>\n",
       "  </tbody>\n",
       "</table>\n",
       "<p>32561 rows × 15 columns</p>\n",
       "</div>"
      ],
      "text/plain": [
       "       age         workclass  fnlwgt   education  education-num  \\\n",
       "0       39         State-gov   77516   Bachelors             13   \n",
       "1       50  Self-emp-not-inc   83311   Bachelors             13   \n",
       "2       38           Private  215646     HS-grad              9   \n",
       "3       53           Private  234721        11th              7   \n",
       "4       28           Private  338409   Bachelors             13   \n",
       "...    ...               ...     ...         ...            ...   \n",
       "32556   27           Private  257302  Assoc-acdm             12   \n",
       "32557   40           Private  154374     HS-grad              9   \n",
       "32558   58           Private  151910     HS-grad              9   \n",
       "32559   22           Private  201490     HS-grad              9   \n",
       "32560   52      Self-emp-inc  287927     HS-grad              9   \n",
       "\n",
       "           marital-status         occupation   relationship   race     sex  \\\n",
       "0           Never-married       Adm-clerical  Not-in-family  White    Male   \n",
       "1      Married-civ-spouse    Exec-managerial        Husband  White    Male   \n",
       "2                Divorced  Handlers-cleaners  Not-in-family  White    Male   \n",
       "3      Married-civ-spouse  Handlers-cleaners        Husband  Black    Male   \n",
       "4      Married-civ-spouse     Prof-specialty           Wife  Black  Female   \n",
       "...                   ...                ...            ...    ...     ...   \n",
       "32556  Married-civ-spouse       Tech-support           Wife  White  Female   \n",
       "32557  Married-civ-spouse  Machine-op-inspct        Husband  White    Male   \n",
       "32558             Widowed       Adm-clerical      Unmarried  White  Female   \n",
       "32559       Never-married       Adm-clerical      Own-child  White    Male   \n",
       "32560  Married-civ-spouse    Exec-managerial           Wife  White  Female   \n",
       "\n",
       "       capital-gain  capital-loss  hours-per-week native-country Annual Income  \n",
       "0              2174             0              40  United-States         <=50K  \n",
       "1                 0             0              13  United-States         <=50K  \n",
       "2                 0             0              40  United-States         <=50K  \n",
       "3                 0             0              40  United-States         <=50K  \n",
       "4                 0             0              40           Cuba         <=50K  \n",
       "...             ...           ...             ...            ...           ...  \n",
       "32556             0             0              38  United-States         <=50K  \n",
       "32557             0             0              40  United-States          >50K  \n",
       "32558             0             0              40  United-States         <=50K  \n",
       "32559             0             0              20  United-States         <=50K  \n",
       "32560         15024             0              40  United-States          >50K  \n",
       "\n",
       "[32561 rows x 15 columns]"
      ]
     },
     "execution_count": 7,
     "metadata": {},
     "output_type": "execute_result"
    }
   ],
   "source": [
    "data"
   ]
  },
  {
   "cell_type": "code",
   "execution_count": null,
   "id": "6d93540c",
   "metadata": {
    "papermill": {
     "duration": 0.028642,
     "end_time": "2023-01-20T18:49:58.113187",
     "exception": false,
     "start_time": "2023-01-20T18:49:58.084545",
     "status": "completed"
    },
    "tags": []
   },
   "outputs": [],
   "source": []
  },
  {
   "cell_type": "code",
   "execution_count": 8,
   "id": "4173f1dc",
   "metadata": {
    "execution": {
     "iopub.execute_input": "2023-01-20T18:49:58.172005Z",
     "iopub.status.busy": "2023-01-20T18:49:58.171541Z",
     "iopub.status.idle": "2023-01-20T18:49:58.224462Z",
     "shell.execute_reply": "2023-01-20T18:49:58.223324Z"
    },
    "papermill": {
     "duration": 0.084491,
     "end_time": "2023-01-20T18:49:58.227044",
     "exception": false,
     "start_time": "2023-01-20T18:49:58.142553",
     "status": "completed"
    },
    "tags": []
   },
   "outputs": [
    {
     "data": {
      "text/plain": [
       "age                  0\n",
       "workclass         1836\n",
       "fnlwgt               0\n",
       "education            0\n",
       "education-num        0\n",
       "marital-status       0\n",
       "occupation        1843\n",
       "relationship         0\n",
       "race                 0\n",
       "sex                  0\n",
       "capital-gain         0\n",
       "capital-loss         0\n",
       "hours-per-week       0\n",
       "native-country     583\n",
       "Annual Income        0\n",
       "dtype: int64"
      ]
     },
     "execution_count": 8,
     "metadata": {},
     "output_type": "execute_result"
    }
   ],
   "source": [
    "data.isin(['?']).sum()"
   ]
  },
  {
   "cell_type": "code",
   "execution_count": 9,
   "id": "df4fc622",
   "metadata": {
    "execution": {
     "iopub.execute_input": "2023-01-20T18:49:58.281526Z",
     "iopub.status.busy": "2023-01-20T18:49:58.281051Z",
     "iopub.status.idle": "2023-01-20T18:49:58.317280Z",
     "shell.execute_reply": "2023-01-20T18:49:58.315447Z"
    },
    "papermill": {
     "duration": 0.067452,
     "end_time": "2023-01-20T18:49:58.320893",
     "exception": false,
     "start_time": "2023-01-20T18:49:58.253441",
     "status": "completed"
    },
    "tags": []
   },
   "outputs": [
    {
     "data": {
      "text/html": [
       "<div>\n",
       "<style scoped>\n",
       "    .dataframe tbody tr th:only-of-type {\n",
       "        vertical-align: middle;\n",
       "    }\n",
       "\n",
       "    .dataframe tbody tr th {\n",
       "        vertical-align: top;\n",
       "    }\n",
       "\n",
       "    .dataframe thead th {\n",
       "        text-align: right;\n",
       "    }\n",
       "</style>\n",
       "<table border=\"1\" class=\"dataframe\">\n",
       "  <thead>\n",
       "    <tr style=\"text-align: right;\">\n",
       "      <th></th>\n",
       "      <th>age</th>\n",
       "      <th>workclass</th>\n",
       "      <th>fnlwgt</th>\n",
       "      <th>education</th>\n",
       "      <th>education-num</th>\n",
       "      <th>marital-status</th>\n",
       "      <th>occupation</th>\n",
       "      <th>relationship</th>\n",
       "      <th>race</th>\n",
       "      <th>sex</th>\n",
       "      <th>capital-gain</th>\n",
       "      <th>capital-loss</th>\n",
       "      <th>hours-per-week</th>\n",
       "      <th>native-country</th>\n",
       "      <th>Annual Income</th>\n",
       "    </tr>\n",
       "  </thead>\n",
       "  <tbody>\n",
       "    <tr>\n",
       "      <th>0</th>\n",
       "      <td>39</td>\n",
       "      <td>State-gov</td>\n",
       "      <td>77516</td>\n",
       "      <td>Bachelors</td>\n",
       "      <td>13</td>\n",
       "      <td>Never-married</td>\n",
       "      <td>Adm-clerical</td>\n",
       "      <td>Not-in-family</td>\n",
       "      <td>White</td>\n",
       "      <td>Male</td>\n",
       "      <td>2174</td>\n",
       "      <td>0</td>\n",
       "      <td>40</td>\n",
       "      <td>United-States</td>\n",
       "      <td>&lt;=50K</td>\n",
       "    </tr>\n",
       "    <tr>\n",
       "      <th>1</th>\n",
       "      <td>50</td>\n",
       "      <td>Self-emp-not-inc</td>\n",
       "      <td>83311</td>\n",
       "      <td>Bachelors</td>\n",
       "      <td>13</td>\n",
       "      <td>Married-civ-spouse</td>\n",
       "      <td>Exec-managerial</td>\n",
       "      <td>Husband</td>\n",
       "      <td>White</td>\n",
       "      <td>Male</td>\n",
       "      <td>0</td>\n",
       "      <td>0</td>\n",
       "      <td>13</td>\n",
       "      <td>United-States</td>\n",
       "      <td>&lt;=50K</td>\n",
       "    </tr>\n",
       "    <tr>\n",
       "      <th>2</th>\n",
       "      <td>38</td>\n",
       "      <td>Private</td>\n",
       "      <td>215646</td>\n",
       "      <td>HS-grad</td>\n",
       "      <td>9</td>\n",
       "      <td>Divorced</td>\n",
       "      <td>Handlers-cleaners</td>\n",
       "      <td>Not-in-family</td>\n",
       "      <td>White</td>\n",
       "      <td>Male</td>\n",
       "      <td>0</td>\n",
       "      <td>0</td>\n",
       "      <td>40</td>\n",
       "      <td>United-States</td>\n",
       "      <td>&lt;=50K</td>\n",
       "    </tr>\n",
       "    <tr>\n",
       "      <th>3</th>\n",
       "      <td>53</td>\n",
       "      <td>Private</td>\n",
       "      <td>234721</td>\n",
       "      <td>11th</td>\n",
       "      <td>7</td>\n",
       "      <td>Married-civ-spouse</td>\n",
       "      <td>Handlers-cleaners</td>\n",
       "      <td>Husband</td>\n",
       "      <td>Black</td>\n",
       "      <td>Male</td>\n",
       "      <td>0</td>\n",
       "      <td>0</td>\n",
       "      <td>40</td>\n",
       "      <td>United-States</td>\n",
       "      <td>&lt;=50K</td>\n",
       "    </tr>\n",
       "    <tr>\n",
       "      <th>4</th>\n",
       "      <td>28</td>\n",
       "      <td>Private</td>\n",
       "      <td>338409</td>\n",
       "      <td>Bachelors</td>\n",
       "      <td>13</td>\n",
       "      <td>Married-civ-spouse</td>\n",
       "      <td>Prof-specialty</td>\n",
       "      <td>Wife</td>\n",
       "      <td>Black</td>\n",
       "      <td>Female</td>\n",
       "      <td>0</td>\n",
       "      <td>0</td>\n",
       "      <td>40</td>\n",
       "      <td>Cuba</td>\n",
       "      <td>&lt;=50K</td>\n",
       "    </tr>\n",
       "    <tr>\n",
       "      <th>...</th>\n",
       "      <td>...</td>\n",
       "      <td>...</td>\n",
       "      <td>...</td>\n",
       "      <td>...</td>\n",
       "      <td>...</td>\n",
       "      <td>...</td>\n",
       "      <td>...</td>\n",
       "      <td>...</td>\n",
       "      <td>...</td>\n",
       "      <td>...</td>\n",
       "      <td>...</td>\n",
       "      <td>...</td>\n",
       "      <td>...</td>\n",
       "      <td>...</td>\n",
       "      <td>...</td>\n",
       "    </tr>\n",
       "    <tr>\n",
       "      <th>495</th>\n",
       "      <td>41</td>\n",
       "      <td>Private</td>\n",
       "      <td>343121</td>\n",
       "      <td>HS-grad</td>\n",
       "      <td>9</td>\n",
       "      <td>Divorced</td>\n",
       "      <td>Adm-clerical</td>\n",
       "      <td>Unmarried</td>\n",
       "      <td>White</td>\n",
       "      <td>Female</td>\n",
       "      <td>0</td>\n",
       "      <td>0</td>\n",
       "      <td>36</td>\n",
       "      <td>United-States</td>\n",
       "      <td>&lt;=50K</td>\n",
       "    </tr>\n",
       "    <tr>\n",
       "      <th>496</th>\n",
       "      <td>20</td>\n",
       "      <td>Private</td>\n",
       "      <td>262749</td>\n",
       "      <td>Some-college</td>\n",
       "      <td>10</td>\n",
       "      <td>Never-married</td>\n",
       "      <td>Machine-op-inspct</td>\n",
       "      <td>Own-child</td>\n",
       "      <td>White</td>\n",
       "      <td>Male</td>\n",
       "      <td>0</td>\n",
       "      <td>0</td>\n",
       "      <td>40</td>\n",
       "      <td>United-States</td>\n",
       "      <td>&lt;=50K</td>\n",
       "    </tr>\n",
       "    <tr>\n",
       "      <th>497</th>\n",
       "      <td>23</td>\n",
       "      <td>Private</td>\n",
       "      <td>403107</td>\n",
       "      <td>5th-6th</td>\n",
       "      <td>3</td>\n",
       "      <td>Never-married</td>\n",
       "      <td>Other-service</td>\n",
       "      <td>Own-child</td>\n",
       "      <td>White</td>\n",
       "      <td>Male</td>\n",
       "      <td>0</td>\n",
       "      <td>0</td>\n",
       "      <td>40</td>\n",
       "      <td>El-Salvador</td>\n",
       "      <td>&lt;=50K</td>\n",
       "    </tr>\n",
       "    <tr>\n",
       "      <th>498</th>\n",
       "      <td>26</td>\n",
       "      <td>Private</td>\n",
       "      <td>64293</td>\n",
       "      <td>Some-college</td>\n",
       "      <td>10</td>\n",
       "      <td>Never-married</td>\n",
       "      <td>Prof-specialty</td>\n",
       "      <td>Not-in-family</td>\n",
       "      <td>White</td>\n",
       "      <td>Female</td>\n",
       "      <td>0</td>\n",
       "      <td>0</td>\n",
       "      <td>35</td>\n",
       "      <td>United-States</td>\n",
       "      <td>&lt;=50K</td>\n",
       "    </tr>\n",
       "    <tr>\n",
       "      <th>499</th>\n",
       "      <td>72</td>\n",
       "      <td>NaN</td>\n",
       "      <td>303588</td>\n",
       "      <td>HS-grad</td>\n",
       "      <td>9</td>\n",
       "      <td>Married-civ-spouse</td>\n",
       "      <td>NaN</td>\n",
       "      <td>Husband</td>\n",
       "      <td>White</td>\n",
       "      <td>Male</td>\n",
       "      <td>0</td>\n",
       "      <td>0</td>\n",
       "      <td>20</td>\n",
       "      <td>United-States</td>\n",
       "      <td>&lt;=50K</td>\n",
       "    </tr>\n",
       "  </tbody>\n",
       "</table>\n",
       "<p>500 rows × 15 columns</p>\n",
       "</div>"
      ],
      "text/plain": [
       "     age         workclass  fnlwgt     education  education-num  \\\n",
       "0     39         State-gov   77516     Bachelors             13   \n",
       "1     50  Self-emp-not-inc   83311     Bachelors             13   \n",
       "2     38           Private  215646       HS-grad              9   \n",
       "3     53           Private  234721          11th              7   \n",
       "4     28           Private  338409     Bachelors             13   \n",
       "..   ...               ...     ...           ...            ...   \n",
       "495   41           Private  343121       HS-grad              9   \n",
       "496   20           Private  262749  Some-college             10   \n",
       "497   23           Private  403107       5th-6th              3   \n",
       "498   26           Private   64293  Some-college             10   \n",
       "499   72               NaN  303588       HS-grad              9   \n",
       "\n",
       "         marital-status         occupation   relationship   race     sex  \\\n",
       "0         Never-married       Adm-clerical  Not-in-family  White    Male   \n",
       "1    Married-civ-spouse    Exec-managerial        Husband  White    Male   \n",
       "2              Divorced  Handlers-cleaners  Not-in-family  White    Male   \n",
       "3    Married-civ-spouse  Handlers-cleaners        Husband  Black    Male   \n",
       "4    Married-civ-spouse     Prof-specialty           Wife  Black  Female   \n",
       "..                  ...                ...            ...    ...     ...   \n",
       "495            Divorced       Adm-clerical      Unmarried  White  Female   \n",
       "496       Never-married  Machine-op-inspct      Own-child  White    Male   \n",
       "497       Never-married      Other-service      Own-child  White    Male   \n",
       "498       Never-married     Prof-specialty  Not-in-family  White  Female   \n",
       "499  Married-civ-spouse                NaN        Husband  White    Male   \n",
       "\n",
       "     capital-gain  capital-loss  hours-per-week native-country Annual Income  \n",
       "0            2174             0              40  United-States         <=50K  \n",
       "1               0             0              13  United-States         <=50K  \n",
       "2               0             0              40  United-States         <=50K  \n",
       "3               0             0              40  United-States         <=50K  \n",
       "4               0             0              40           Cuba         <=50K  \n",
       "..            ...           ...             ...            ...           ...  \n",
       "495             0             0              36  United-States         <=50K  \n",
       "496             0             0              40  United-States         <=50K  \n",
       "497             0             0              40    El-Salvador         <=50K  \n",
       "498             0             0              35  United-States         <=50K  \n",
       "499             0             0              20  United-States         <=50K  \n",
       "\n",
       "[500 rows x 15 columns]"
      ]
     },
     "execution_count": 9,
     "metadata": {},
     "output_type": "execute_result"
    }
   ],
   "source": [
    "data = data.replace('?', np.nan)\n",
    "data.head(500)"
   ]
  },
  {
   "cell_type": "code",
   "execution_count": null,
   "id": "52e8fb27",
   "metadata": {
    "papermill": {
     "duration": 0.029746,
     "end_time": "2023-01-20T18:49:58.380861",
     "exception": false,
     "start_time": "2023-01-20T18:49:58.351115",
     "status": "completed"
    },
    "tags": []
   },
   "outputs": [],
   "source": []
  },
  {
   "cell_type": "code",
   "execution_count": 10,
   "id": "aefad1ab",
   "metadata": {
    "execution": {
     "iopub.execute_input": "2023-01-20T18:49:58.441357Z",
     "iopub.status.busy": "2023-01-20T18:49:58.440892Z",
     "iopub.status.idle": "2023-01-20T18:49:58.507209Z",
     "shell.execute_reply": "2023-01-20T18:49:58.505617Z"
    },
    "papermill": {
     "duration": 0.101021,
     "end_time": "2023-01-20T18:49:58.510109",
     "exception": false,
     "start_time": "2023-01-20T18:49:58.409088",
     "status": "completed"
    },
    "tags": []
   },
   "outputs": [
    {
     "data": {
      "text/html": [
       "<div>\n",
       "<style scoped>\n",
       "    .dataframe tbody tr th:only-of-type {\n",
       "        vertical-align: middle;\n",
       "    }\n",
       "\n",
       "    .dataframe tbody tr th {\n",
       "        vertical-align: top;\n",
       "    }\n",
       "\n",
       "    .dataframe thead th {\n",
       "        text-align: right;\n",
       "    }\n",
       "</style>\n",
       "<table border=\"1\" class=\"dataframe\">\n",
       "  <thead>\n",
       "    <tr style=\"text-align: right;\">\n",
       "      <th></th>\n",
       "      <th>age</th>\n",
       "      <th>workclass</th>\n",
       "      <th>fnlwgt</th>\n",
       "      <th>education</th>\n",
       "      <th>education-num</th>\n",
       "      <th>marital-status</th>\n",
       "      <th>occupation</th>\n",
       "      <th>relationship</th>\n",
       "      <th>race</th>\n",
       "      <th>sex</th>\n",
       "      <th>capital-gain</th>\n",
       "      <th>capital-loss</th>\n",
       "      <th>hours-per-week</th>\n",
       "      <th>native-country</th>\n",
       "      <th>Annual Income</th>\n",
       "    </tr>\n",
       "  </thead>\n",
       "  <tbody>\n",
       "    <tr>\n",
       "      <th>0</th>\n",
       "      <td>39</td>\n",
       "      <td>State-gov</td>\n",
       "      <td>77516</td>\n",
       "      <td>Bachelors</td>\n",
       "      <td>13</td>\n",
       "      <td>Never-married</td>\n",
       "      <td>Adm-clerical</td>\n",
       "      <td>Not-in-family</td>\n",
       "      <td>White</td>\n",
       "      <td>Male</td>\n",
       "      <td>2174</td>\n",
       "      <td>0</td>\n",
       "      <td>40</td>\n",
       "      <td>United-States</td>\n",
       "      <td>&lt;=50K</td>\n",
       "    </tr>\n",
       "    <tr>\n",
       "      <th>1</th>\n",
       "      <td>50</td>\n",
       "      <td>Self-emp-not-inc</td>\n",
       "      <td>83311</td>\n",
       "      <td>Bachelors</td>\n",
       "      <td>13</td>\n",
       "      <td>Married-civ-spouse</td>\n",
       "      <td>Exec-managerial</td>\n",
       "      <td>Husband</td>\n",
       "      <td>White</td>\n",
       "      <td>Male</td>\n",
       "      <td>0</td>\n",
       "      <td>0</td>\n",
       "      <td>13</td>\n",
       "      <td>United-States</td>\n",
       "      <td>&lt;=50K</td>\n",
       "    </tr>\n",
       "    <tr>\n",
       "      <th>2</th>\n",
       "      <td>38</td>\n",
       "      <td>Private</td>\n",
       "      <td>215646</td>\n",
       "      <td>HS-grad</td>\n",
       "      <td>9</td>\n",
       "      <td>Divorced</td>\n",
       "      <td>Handlers-cleaners</td>\n",
       "      <td>Not-in-family</td>\n",
       "      <td>White</td>\n",
       "      <td>Male</td>\n",
       "      <td>0</td>\n",
       "      <td>0</td>\n",
       "      <td>40</td>\n",
       "      <td>United-States</td>\n",
       "      <td>&lt;=50K</td>\n",
       "    </tr>\n",
       "    <tr>\n",
       "      <th>3</th>\n",
       "      <td>53</td>\n",
       "      <td>Private</td>\n",
       "      <td>234721</td>\n",
       "      <td>11th</td>\n",
       "      <td>7</td>\n",
       "      <td>Married-civ-spouse</td>\n",
       "      <td>Handlers-cleaners</td>\n",
       "      <td>Husband</td>\n",
       "      <td>Black</td>\n",
       "      <td>Male</td>\n",
       "      <td>0</td>\n",
       "      <td>0</td>\n",
       "      <td>40</td>\n",
       "      <td>United-States</td>\n",
       "      <td>&lt;=50K</td>\n",
       "    </tr>\n",
       "    <tr>\n",
       "      <th>4</th>\n",
       "      <td>28</td>\n",
       "      <td>Private</td>\n",
       "      <td>338409</td>\n",
       "      <td>Bachelors</td>\n",
       "      <td>13</td>\n",
       "      <td>Married-civ-spouse</td>\n",
       "      <td>Prof-specialty</td>\n",
       "      <td>Wife</td>\n",
       "      <td>Black</td>\n",
       "      <td>Female</td>\n",
       "      <td>0</td>\n",
       "      <td>0</td>\n",
       "      <td>40</td>\n",
       "      <td>Cuba</td>\n",
       "      <td>&lt;=50K</td>\n",
       "    </tr>\n",
       "    <tr>\n",
       "      <th>...</th>\n",
       "      <td>...</td>\n",
       "      <td>...</td>\n",
       "      <td>...</td>\n",
       "      <td>...</td>\n",
       "      <td>...</td>\n",
       "      <td>...</td>\n",
       "      <td>...</td>\n",
       "      <td>...</td>\n",
       "      <td>...</td>\n",
       "      <td>...</td>\n",
       "      <td>...</td>\n",
       "      <td>...</td>\n",
       "      <td>...</td>\n",
       "      <td>...</td>\n",
       "      <td>...</td>\n",
       "    </tr>\n",
       "    <tr>\n",
       "      <th>32556</th>\n",
       "      <td>27</td>\n",
       "      <td>Private</td>\n",
       "      <td>257302</td>\n",
       "      <td>Assoc-acdm</td>\n",
       "      <td>12</td>\n",
       "      <td>Married-civ-spouse</td>\n",
       "      <td>Tech-support</td>\n",
       "      <td>Wife</td>\n",
       "      <td>White</td>\n",
       "      <td>Female</td>\n",
       "      <td>0</td>\n",
       "      <td>0</td>\n",
       "      <td>38</td>\n",
       "      <td>United-States</td>\n",
       "      <td>&lt;=50K</td>\n",
       "    </tr>\n",
       "    <tr>\n",
       "      <th>32557</th>\n",
       "      <td>40</td>\n",
       "      <td>Private</td>\n",
       "      <td>154374</td>\n",
       "      <td>HS-grad</td>\n",
       "      <td>9</td>\n",
       "      <td>Married-civ-spouse</td>\n",
       "      <td>Machine-op-inspct</td>\n",
       "      <td>Husband</td>\n",
       "      <td>White</td>\n",
       "      <td>Male</td>\n",
       "      <td>0</td>\n",
       "      <td>0</td>\n",
       "      <td>40</td>\n",
       "      <td>United-States</td>\n",
       "      <td>&gt;50K</td>\n",
       "    </tr>\n",
       "    <tr>\n",
       "      <th>32558</th>\n",
       "      <td>58</td>\n",
       "      <td>Private</td>\n",
       "      <td>151910</td>\n",
       "      <td>HS-grad</td>\n",
       "      <td>9</td>\n",
       "      <td>Widowed</td>\n",
       "      <td>Adm-clerical</td>\n",
       "      <td>Unmarried</td>\n",
       "      <td>White</td>\n",
       "      <td>Female</td>\n",
       "      <td>0</td>\n",
       "      <td>0</td>\n",
       "      <td>40</td>\n",
       "      <td>United-States</td>\n",
       "      <td>&lt;=50K</td>\n",
       "    </tr>\n",
       "    <tr>\n",
       "      <th>32559</th>\n",
       "      <td>22</td>\n",
       "      <td>Private</td>\n",
       "      <td>201490</td>\n",
       "      <td>HS-grad</td>\n",
       "      <td>9</td>\n",
       "      <td>Never-married</td>\n",
       "      <td>Adm-clerical</td>\n",
       "      <td>Own-child</td>\n",
       "      <td>White</td>\n",
       "      <td>Male</td>\n",
       "      <td>0</td>\n",
       "      <td>0</td>\n",
       "      <td>20</td>\n",
       "      <td>United-States</td>\n",
       "      <td>&lt;=50K</td>\n",
       "    </tr>\n",
       "    <tr>\n",
       "      <th>32560</th>\n",
       "      <td>52</td>\n",
       "      <td>Self-emp-inc</td>\n",
       "      <td>287927</td>\n",
       "      <td>HS-grad</td>\n",
       "      <td>9</td>\n",
       "      <td>Married-civ-spouse</td>\n",
       "      <td>Exec-managerial</td>\n",
       "      <td>Wife</td>\n",
       "      <td>White</td>\n",
       "      <td>Female</td>\n",
       "      <td>15024</td>\n",
       "      <td>0</td>\n",
       "      <td>40</td>\n",
       "      <td>United-States</td>\n",
       "      <td>&gt;50K</td>\n",
       "    </tr>\n",
       "  </tbody>\n",
       "</table>\n",
       "<p>30162 rows × 15 columns</p>\n",
       "</div>"
      ],
      "text/plain": [
       "       age         workclass  fnlwgt   education  education-num  \\\n",
       "0       39         State-gov   77516   Bachelors             13   \n",
       "1       50  Self-emp-not-inc   83311   Bachelors             13   \n",
       "2       38           Private  215646     HS-grad              9   \n",
       "3       53           Private  234721        11th              7   \n",
       "4       28           Private  338409   Bachelors             13   \n",
       "...    ...               ...     ...         ...            ...   \n",
       "32556   27           Private  257302  Assoc-acdm             12   \n",
       "32557   40           Private  154374     HS-grad              9   \n",
       "32558   58           Private  151910     HS-grad              9   \n",
       "32559   22           Private  201490     HS-grad              9   \n",
       "32560   52      Self-emp-inc  287927     HS-grad              9   \n",
       "\n",
       "           marital-status         occupation   relationship   race     sex  \\\n",
       "0           Never-married       Adm-clerical  Not-in-family  White    Male   \n",
       "1      Married-civ-spouse    Exec-managerial        Husband  White    Male   \n",
       "2                Divorced  Handlers-cleaners  Not-in-family  White    Male   \n",
       "3      Married-civ-spouse  Handlers-cleaners        Husband  Black    Male   \n",
       "4      Married-civ-spouse     Prof-specialty           Wife  Black  Female   \n",
       "...                   ...                ...            ...    ...     ...   \n",
       "32556  Married-civ-spouse       Tech-support           Wife  White  Female   \n",
       "32557  Married-civ-spouse  Machine-op-inspct        Husband  White    Male   \n",
       "32558             Widowed       Adm-clerical      Unmarried  White  Female   \n",
       "32559       Never-married       Adm-clerical      Own-child  White    Male   \n",
       "32560  Married-civ-spouse    Exec-managerial           Wife  White  Female   \n",
       "\n",
       "       capital-gain  capital-loss  hours-per-week native-country Annual Income  \n",
       "0              2174             0              40  United-States         <=50K  \n",
       "1                 0             0              13  United-States         <=50K  \n",
       "2                 0             0              40  United-States         <=50K  \n",
       "3                 0             0              40  United-States         <=50K  \n",
       "4                 0             0              40           Cuba         <=50K  \n",
       "...             ...           ...             ...            ...           ...  \n",
       "32556             0             0              38  United-States         <=50K  \n",
       "32557             0             0              40  United-States          >50K  \n",
       "32558             0             0              40  United-States         <=50K  \n",
       "32559             0             0              20  United-States         <=50K  \n",
       "32560         15024             0              40  United-States          >50K  \n",
       "\n",
       "[30162 rows x 15 columns]"
      ]
     },
     "execution_count": 10,
     "metadata": {},
     "output_type": "execute_result"
    }
   ],
   "source": [
    "data = data.dropna()\n",
    "data"
   ]
  },
  {
   "cell_type": "code",
   "execution_count": null,
   "id": "bbf3e94c",
   "metadata": {
    "papermill": {
     "duration": 0.027783,
     "end_time": "2023-01-20T18:49:58.567038",
     "exception": false,
     "start_time": "2023-01-20T18:49:58.539255",
     "status": "completed"
    },
    "tags": []
   },
   "outputs": [],
   "source": []
  },
  {
   "cell_type": "code",
   "execution_count": 11,
   "id": "ae8481ab",
   "metadata": {
    "execution": {
     "iopub.execute_input": "2023-01-20T18:49:58.623500Z",
     "iopub.status.busy": "2023-01-20T18:49:58.622613Z",
     "iopub.status.idle": "2023-01-20T18:49:58.627403Z",
     "shell.execute_reply": "2023-01-20T18:49:58.625958Z"
    },
    "papermill": {
     "duration": 0.035578,
     "end_time": "2023-01-20T18:49:58.630054",
     "exception": false,
     "start_time": "2023-01-20T18:49:58.594476",
     "status": "completed"
    },
    "tags": []
   },
   "outputs": [],
   "source": [
    "#DAta Manipulation"
   ]
  },
  {
   "cell_type": "code",
   "execution_count": 12,
   "id": "b22feee9",
   "metadata": {
    "execution": {
     "iopub.execute_input": "2023-01-20T18:49:58.689001Z",
     "iopub.status.busy": "2023-01-20T18:49:58.688446Z",
     "iopub.status.idle": "2023-01-20T18:49:58.702740Z",
     "shell.execute_reply": "2023-01-20T18:49:58.701145Z"
    },
    "papermill": {
     "duration": 0.046939,
     "end_time": "2023-01-20T18:49:58.705566",
     "exception": false,
     "start_time": "2023-01-20T18:49:58.658627",
     "status": "completed"
    },
    "tags": []
   },
   "outputs": [
    {
     "data": {
      "text/html": [
       "<div>\n",
       "<style scoped>\n",
       "    .dataframe tbody tr th:only-of-type {\n",
       "        vertical-align: middle;\n",
       "    }\n",
       "\n",
       "    .dataframe tbody tr th {\n",
       "        vertical-align: top;\n",
       "    }\n",
       "\n",
       "    .dataframe thead th {\n",
       "        text-align: right;\n",
       "    }\n",
       "</style>\n",
       "<table border=\"1\" class=\"dataframe\">\n",
       "  <thead>\n",
       "    <tr style=\"text-align: right;\">\n",
       "      <th></th>\n",
       "      <th>education</th>\n",
       "    </tr>\n",
       "  </thead>\n",
       "  <tbody>\n",
       "    <tr>\n",
       "      <th>0</th>\n",
       "      <td>Bachelors</td>\n",
       "    </tr>\n",
       "    <tr>\n",
       "      <th>1</th>\n",
       "      <td>Bachelors</td>\n",
       "    </tr>\n",
       "    <tr>\n",
       "      <th>2</th>\n",
       "      <td>HS-grad</td>\n",
       "    </tr>\n",
       "    <tr>\n",
       "      <th>3</th>\n",
       "      <td>11th</td>\n",
       "    </tr>\n",
       "    <tr>\n",
       "      <th>4</th>\n",
       "      <td>Bachelors</td>\n",
       "    </tr>\n",
       "    <tr>\n",
       "      <th>...</th>\n",
       "      <td>...</td>\n",
       "    </tr>\n",
       "    <tr>\n",
       "      <th>32556</th>\n",
       "      <td>Assoc-acdm</td>\n",
       "    </tr>\n",
       "    <tr>\n",
       "      <th>32557</th>\n",
       "      <td>HS-grad</td>\n",
       "    </tr>\n",
       "    <tr>\n",
       "      <th>32558</th>\n",
       "      <td>HS-grad</td>\n",
       "    </tr>\n",
       "    <tr>\n",
       "      <th>32559</th>\n",
       "      <td>HS-grad</td>\n",
       "    </tr>\n",
       "    <tr>\n",
       "      <th>32560</th>\n",
       "      <td>HS-grad</td>\n",
       "    </tr>\n",
       "  </tbody>\n",
       "</table>\n",
       "<p>30162 rows × 1 columns</p>\n",
       "</div>"
      ],
      "text/plain": [
       "        education\n",
       "0       Bachelors\n",
       "1       Bachelors\n",
       "2         HS-grad\n",
       "3            11th\n",
       "4       Bachelors\n",
       "...           ...\n",
       "32556  Assoc-acdm\n",
       "32557     HS-grad\n",
       "32558     HS-grad\n",
       "32559     HS-grad\n",
       "32560     HS-grad\n",
       "\n",
       "[30162 rows x 1 columns]"
      ]
     },
     "execution_count": 12,
     "metadata": {},
     "output_type": "execute_result"
    }
   ],
   "source": [
    "#a\n",
    "\n",
    "census_ed = data[['education']]\n",
    "census_ed"
   ]
  },
  {
   "cell_type": "code",
   "execution_count": 13,
   "id": "9f56a1e2",
   "metadata": {
    "execution": {
     "iopub.execute_input": "2023-01-20T18:49:58.764703Z",
     "iopub.status.busy": "2023-01-20T18:49:58.764240Z",
     "iopub.status.idle": "2023-01-20T18:49:58.795571Z",
     "shell.execute_reply": "2023-01-20T18:49:58.793514Z"
    },
    "papermill": {
     "duration": 0.06435,
     "end_time": "2023-01-20T18:49:58.798847",
     "exception": false,
     "start_time": "2023-01-20T18:49:58.734497",
     "status": "completed"
    },
    "tags": []
   },
   "outputs": [
    {
     "data": {
      "text/html": [
       "<div>\n",
       "<style scoped>\n",
       "    .dataframe tbody tr th:only-of-type {\n",
       "        vertical-align: middle;\n",
       "    }\n",
       "\n",
       "    .dataframe tbody tr th {\n",
       "        vertical-align: top;\n",
       "    }\n",
       "\n",
       "    .dataframe thead th {\n",
       "        text-align: right;\n",
       "    }\n",
       "</style>\n",
       "<table border=\"1\" class=\"dataframe\">\n",
       "  <thead>\n",
       "    <tr style=\"text-align: right;\">\n",
       "      <th></th>\n",
       "      <th>age</th>\n",
       "      <th>workclass</th>\n",
       "      <th>fnlwgt</th>\n",
       "      <th>education</th>\n",
       "      <th>education-num</th>\n",
       "      <th>marital-status</th>\n",
       "      <th>occupation</th>\n",
       "      <th>relationship</th>\n",
       "    </tr>\n",
       "  </thead>\n",
       "  <tbody>\n",
       "    <tr>\n",
       "      <th>0</th>\n",
       "      <td>39</td>\n",
       "      <td>State-gov</td>\n",
       "      <td>77516</td>\n",
       "      <td>Bachelors</td>\n",
       "      <td>13</td>\n",
       "      <td>Never-married</td>\n",
       "      <td>Adm-clerical</td>\n",
       "      <td>Not-in-family</td>\n",
       "    </tr>\n",
       "    <tr>\n",
       "      <th>1</th>\n",
       "      <td>50</td>\n",
       "      <td>Self-emp-not-inc</td>\n",
       "      <td>83311</td>\n",
       "      <td>Bachelors</td>\n",
       "      <td>13</td>\n",
       "      <td>Married-civ-spouse</td>\n",
       "      <td>Exec-managerial</td>\n",
       "      <td>Husband</td>\n",
       "    </tr>\n",
       "    <tr>\n",
       "      <th>2</th>\n",
       "      <td>38</td>\n",
       "      <td>Private</td>\n",
       "      <td>215646</td>\n",
       "      <td>HS-grad</td>\n",
       "      <td>9</td>\n",
       "      <td>Divorced</td>\n",
       "      <td>Handlers-cleaners</td>\n",
       "      <td>Not-in-family</td>\n",
       "    </tr>\n",
       "    <tr>\n",
       "      <th>3</th>\n",
       "      <td>53</td>\n",
       "      <td>Private</td>\n",
       "      <td>234721</td>\n",
       "      <td>11th</td>\n",
       "      <td>7</td>\n",
       "      <td>Married-civ-spouse</td>\n",
       "      <td>Handlers-cleaners</td>\n",
       "      <td>Husband</td>\n",
       "    </tr>\n",
       "    <tr>\n",
       "      <th>4</th>\n",
       "      <td>28</td>\n",
       "      <td>Private</td>\n",
       "      <td>338409</td>\n",
       "      <td>Bachelors</td>\n",
       "      <td>13</td>\n",
       "      <td>Married-civ-spouse</td>\n",
       "      <td>Prof-specialty</td>\n",
       "      <td>Wife</td>\n",
       "    </tr>\n",
       "    <tr>\n",
       "      <th>...</th>\n",
       "      <td>...</td>\n",
       "      <td>...</td>\n",
       "      <td>...</td>\n",
       "      <td>...</td>\n",
       "      <td>...</td>\n",
       "      <td>...</td>\n",
       "      <td>...</td>\n",
       "      <td>...</td>\n",
       "    </tr>\n",
       "    <tr>\n",
       "      <th>32556</th>\n",
       "      <td>27</td>\n",
       "      <td>Private</td>\n",
       "      <td>257302</td>\n",
       "      <td>Assoc-acdm</td>\n",
       "      <td>12</td>\n",
       "      <td>Married-civ-spouse</td>\n",
       "      <td>Tech-support</td>\n",
       "      <td>Wife</td>\n",
       "    </tr>\n",
       "    <tr>\n",
       "      <th>32557</th>\n",
       "      <td>40</td>\n",
       "      <td>Private</td>\n",
       "      <td>154374</td>\n",
       "      <td>HS-grad</td>\n",
       "      <td>9</td>\n",
       "      <td>Married-civ-spouse</td>\n",
       "      <td>Machine-op-inspct</td>\n",
       "      <td>Husband</td>\n",
       "    </tr>\n",
       "    <tr>\n",
       "      <th>32558</th>\n",
       "      <td>58</td>\n",
       "      <td>Private</td>\n",
       "      <td>151910</td>\n",
       "      <td>HS-grad</td>\n",
       "      <td>9</td>\n",
       "      <td>Widowed</td>\n",
       "      <td>Adm-clerical</td>\n",
       "      <td>Unmarried</td>\n",
       "    </tr>\n",
       "    <tr>\n",
       "      <th>32559</th>\n",
       "      <td>22</td>\n",
       "      <td>Private</td>\n",
       "      <td>201490</td>\n",
       "      <td>HS-grad</td>\n",
       "      <td>9</td>\n",
       "      <td>Never-married</td>\n",
       "      <td>Adm-clerical</td>\n",
       "      <td>Own-child</td>\n",
       "    </tr>\n",
       "    <tr>\n",
       "      <th>32560</th>\n",
       "      <td>52</td>\n",
       "      <td>Self-emp-inc</td>\n",
       "      <td>287927</td>\n",
       "      <td>HS-grad</td>\n",
       "      <td>9</td>\n",
       "      <td>Married-civ-spouse</td>\n",
       "      <td>Exec-managerial</td>\n",
       "      <td>Wife</td>\n",
       "    </tr>\n",
       "  </tbody>\n",
       "</table>\n",
       "<p>30162 rows × 8 columns</p>\n",
       "</div>"
      ],
      "text/plain": [
       "       age         workclass  fnlwgt   education  education-num  \\\n",
       "0       39         State-gov   77516   Bachelors             13   \n",
       "1       50  Self-emp-not-inc   83311   Bachelors             13   \n",
       "2       38           Private  215646     HS-grad              9   \n",
       "3       53           Private  234721        11th              7   \n",
       "4       28           Private  338409   Bachelors             13   \n",
       "...    ...               ...     ...         ...            ...   \n",
       "32556   27           Private  257302  Assoc-acdm             12   \n",
       "32557   40           Private  154374     HS-grad              9   \n",
       "32558   58           Private  151910     HS-grad              9   \n",
       "32559   22           Private  201490     HS-grad              9   \n",
       "32560   52      Self-emp-inc  287927     HS-grad              9   \n",
       "\n",
       "           marital-status         occupation   relationship  \n",
       "0           Never-married       Adm-clerical  Not-in-family  \n",
       "1      Married-civ-spouse    Exec-managerial        Husband  \n",
       "2                Divorced  Handlers-cleaners  Not-in-family  \n",
       "3      Married-civ-spouse  Handlers-cleaners        Husband  \n",
       "4      Married-civ-spouse     Prof-specialty           Wife  \n",
       "...                   ...                ...            ...  \n",
       "32556  Married-civ-spouse       Tech-support           Wife  \n",
       "32557  Married-civ-spouse  Machine-op-inspct        Husband  \n",
       "32558             Widowed       Adm-clerical      Unmarried  \n",
       "32559       Never-married       Adm-clerical      Own-child  \n",
       "32560  Married-civ-spouse    Exec-managerial           Wife  \n",
       "\n",
       "[30162 rows x 8 columns]"
      ]
     },
     "execution_count": 13,
     "metadata": {},
     "output_type": "execute_result"
    }
   ],
   "source": [
    "#b\n",
    "census_seq = data.loc[:,'age':'relationship']\n",
    "census_seq"
   ]
  },
  {
   "cell_type": "code",
   "execution_count": 14,
   "id": "578917a9",
   "metadata": {
    "execution": {
     "iopub.execute_input": "2023-01-20T18:49:58.856858Z",
     "iopub.status.busy": "2023-01-20T18:49:58.856387Z",
     "iopub.status.idle": "2023-01-20T18:49:58.884751Z",
     "shell.execute_reply": "2023-01-20T18:49:58.883731Z"
    },
    "papermill": {
     "duration": 0.061173,
     "end_time": "2023-01-20T18:49:58.887723",
     "exception": false,
     "start_time": "2023-01-20T18:49:58.826550",
     "status": "completed"
    },
    "tags": []
   },
   "outputs": [
    {
     "data": {
      "text/html": [
       "<div>\n",
       "<style scoped>\n",
       "    .dataframe tbody tr th:only-of-type {\n",
       "        vertical-align: middle;\n",
       "    }\n",
       "\n",
       "    .dataframe tbody tr th {\n",
       "        vertical-align: top;\n",
       "    }\n",
       "\n",
       "    .dataframe thead th {\n",
       "        text-align: right;\n",
       "    }\n",
       "</style>\n",
       "<table border=\"1\" class=\"dataframe\">\n",
       "  <thead>\n",
       "    <tr style=\"text-align: right;\">\n",
       "      <th></th>\n",
       "      <th>age</th>\n",
       "      <th>workclass</th>\n",
       "      <th>fnlwgt</th>\n",
       "      <th>education</th>\n",
       "      <th>education-num</th>\n",
       "      <th>marital-status</th>\n",
       "      <th>occupation</th>\n",
       "      <th>relationship</th>\n",
       "    </tr>\n",
       "  </thead>\n",
       "  <tbody>\n",
       "    <tr>\n",
       "      <th>0</th>\n",
       "      <td>39</td>\n",
       "      <td>State-gov</td>\n",
       "      <td>77516</td>\n",
       "      <td>Bachelors</td>\n",
       "      <td>13</td>\n",
       "      <td>Never-married</td>\n",
       "      <td>Adm-clerical</td>\n",
       "      <td>Not-in-family</td>\n",
       "    </tr>\n",
       "    <tr>\n",
       "      <th>1</th>\n",
       "      <td>50</td>\n",
       "      <td>Self-emp-not-inc</td>\n",
       "      <td>83311</td>\n",
       "      <td>Bachelors</td>\n",
       "      <td>13</td>\n",
       "      <td>Married-civ-spouse</td>\n",
       "      <td>Exec-managerial</td>\n",
       "      <td>Husband</td>\n",
       "    </tr>\n",
       "    <tr>\n",
       "      <th>2</th>\n",
       "      <td>38</td>\n",
       "      <td>Private</td>\n",
       "      <td>215646</td>\n",
       "      <td>HS-grad</td>\n",
       "      <td>9</td>\n",
       "      <td>Divorced</td>\n",
       "      <td>Handlers-cleaners</td>\n",
       "      <td>Not-in-family</td>\n",
       "    </tr>\n",
       "    <tr>\n",
       "      <th>3</th>\n",
       "      <td>53</td>\n",
       "      <td>Private</td>\n",
       "      <td>234721</td>\n",
       "      <td>11th</td>\n",
       "      <td>7</td>\n",
       "      <td>Married-civ-spouse</td>\n",
       "      <td>Handlers-cleaners</td>\n",
       "      <td>Husband</td>\n",
       "    </tr>\n",
       "    <tr>\n",
       "      <th>4</th>\n",
       "      <td>28</td>\n",
       "      <td>Private</td>\n",
       "      <td>338409</td>\n",
       "      <td>Bachelors</td>\n",
       "      <td>13</td>\n",
       "      <td>Married-civ-spouse</td>\n",
       "      <td>Prof-specialty</td>\n",
       "      <td>Wife</td>\n",
       "    </tr>\n",
       "    <tr>\n",
       "      <th>...</th>\n",
       "      <td>...</td>\n",
       "      <td>...</td>\n",
       "      <td>...</td>\n",
       "      <td>...</td>\n",
       "      <td>...</td>\n",
       "      <td>...</td>\n",
       "      <td>...</td>\n",
       "      <td>...</td>\n",
       "    </tr>\n",
       "    <tr>\n",
       "      <th>32556</th>\n",
       "      <td>27</td>\n",
       "      <td>Private</td>\n",
       "      <td>257302</td>\n",
       "      <td>Assoc-acdm</td>\n",
       "      <td>12</td>\n",
       "      <td>Married-civ-spouse</td>\n",
       "      <td>Tech-support</td>\n",
       "      <td>Wife</td>\n",
       "    </tr>\n",
       "    <tr>\n",
       "      <th>32557</th>\n",
       "      <td>40</td>\n",
       "      <td>Private</td>\n",
       "      <td>154374</td>\n",
       "      <td>HS-grad</td>\n",
       "      <td>9</td>\n",
       "      <td>Married-civ-spouse</td>\n",
       "      <td>Machine-op-inspct</td>\n",
       "      <td>Husband</td>\n",
       "    </tr>\n",
       "    <tr>\n",
       "      <th>32558</th>\n",
       "      <td>58</td>\n",
       "      <td>Private</td>\n",
       "      <td>151910</td>\n",
       "      <td>HS-grad</td>\n",
       "      <td>9</td>\n",
       "      <td>Widowed</td>\n",
       "      <td>Adm-clerical</td>\n",
       "      <td>Unmarried</td>\n",
       "    </tr>\n",
       "    <tr>\n",
       "      <th>32559</th>\n",
       "      <td>22</td>\n",
       "      <td>Private</td>\n",
       "      <td>201490</td>\n",
       "      <td>HS-grad</td>\n",
       "      <td>9</td>\n",
       "      <td>Never-married</td>\n",
       "      <td>Adm-clerical</td>\n",
       "      <td>Own-child</td>\n",
       "    </tr>\n",
       "    <tr>\n",
       "      <th>32560</th>\n",
       "      <td>52</td>\n",
       "      <td>Self-emp-inc</td>\n",
       "      <td>287927</td>\n",
       "      <td>HS-grad</td>\n",
       "      <td>9</td>\n",
       "      <td>Married-civ-spouse</td>\n",
       "      <td>Exec-managerial</td>\n",
       "      <td>Wife</td>\n",
       "    </tr>\n",
       "  </tbody>\n",
       "</table>\n",
       "<p>30162 rows × 8 columns</p>\n",
       "</div>"
      ],
      "text/plain": [
       "       age         workclass  fnlwgt   education  education-num  \\\n",
       "0       39         State-gov   77516   Bachelors             13   \n",
       "1       50  Self-emp-not-inc   83311   Bachelors             13   \n",
       "2       38           Private  215646     HS-grad              9   \n",
       "3       53           Private  234721        11th              7   \n",
       "4       28           Private  338409   Bachelors             13   \n",
       "...    ...               ...     ...         ...            ...   \n",
       "32556   27           Private  257302  Assoc-acdm             12   \n",
       "32557   40           Private  154374     HS-grad              9   \n",
       "32558   58           Private  151910     HS-grad              9   \n",
       "32559   22           Private  201490     HS-grad              9   \n",
       "32560   52      Self-emp-inc  287927     HS-grad              9   \n",
       "\n",
       "           marital-status         occupation   relationship  \n",
       "0           Never-married       Adm-clerical  Not-in-family  \n",
       "1      Married-civ-spouse    Exec-managerial        Husband  \n",
       "2                Divorced  Handlers-cleaners  Not-in-family  \n",
       "3      Married-civ-spouse  Handlers-cleaners        Husband  \n",
       "4      Married-civ-spouse     Prof-specialty           Wife  \n",
       "...                   ...                ...            ...  \n",
       "32556  Married-civ-spouse       Tech-support           Wife  \n",
       "32557  Married-civ-spouse  Machine-op-inspct        Husband  \n",
       "32558             Widowed       Adm-clerical      Unmarried  \n",
       "32559       Never-married       Adm-clerical      Own-child  \n",
       "32560  Married-civ-spouse    Exec-managerial           Wife  \n",
       "\n",
       "[30162 rows x 8 columns]"
      ]
     },
     "execution_count": 14,
     "metadata": {},
     "output_type": "execute_result"
    }
   ],
   "source": [
    "#or\n",
    "census_seq = data.iloc[:,0:8]\n",
    "census_seq"
   ]
  },
  {
   "cell_type": "code",
   "execution_count": 15,
   "id": "c8d0c679",
   "metadata": {
    "execution": {
     "iopub.execute_input": "2023-01-20T18:49:58.945903Z",
     "iopub.status.busy": "2023-01-20T18:49:58.945492Z",
     "iopub.status.idle": "2023-01-20T18:49:58.964018Z",
     "shell.execute_reply": "2023-01-20T18:49:58.962381Z"
    },
    "papermill": {
     "duration": 0.051654,
     "end_time": "2023-01-20T18:49:58.968083",
     "exception": false,
     "start_time": "2023-01-20T18:49:58.916429",
     "status": "completed"
    },
    "tags": []
   },
   "outputs": [
    {
     "data": {
      "text/html": [
       "<div>\n",
       "<style scoped>\n",
       "    .dataframe tbody tr th:only-of-type {\n",
       "        vertical-align: middle;\n",
       "    }\n",
       "\n",
       "    .dataframe tbody tr th {\n",
       "        vertical-align: top;\n",
       "    }\n",
       "\n",
       "    .dataframe thead th {\n",
       "        text-align: right;\n",
       "    }\n",
       "</style>\n",
       "<table border=\"1\" class=\"dataframe\">\n",
       "  <thead>\n",
       "    <tr style=\"text-align: right;\">\n",
       "      <th></th>\n",
       "      <th>marital-status</th>\n",
       "      <th>race</th>\n",
       "      <th>capital-loss</th>\n",
       "    </tr>\n",
       "  </thead>\n",
       "  <tbody>\n",
       "    <tr>\n",
       "      <th>0</th>\n",
       "      <td>Never-married</td>\n",
       "      <td>White</td>\n",
       "      <td>0</td>\n",
       "    </tr>\n",
       "    <tr>\n",
       "      <th>1</th>\n",
       "      <td>Married-civ-spouse</td>\n",
       "      <td>White</td>\n",
       "      <td>0</td>\n",
       "    </tr>\n",
       "    <tr>\n",
       "      <th>2</th>\n",
       "      <td>Divorced</td>\n",
       "      <td>White</td>\n",
       "      <td>0</td>\n",
       "    </tr>\n",
       "    <tr>\n",
       "      <th>3</th>\n",
       "      <td>Married-civ-spouse</td>\n",
       "      <td>Black</td>\n",
       "      <td>0</td>\n",
       "    </tr>\n",
       "    <tr>\n",
       "      <th>4</th>\n",
       "      <td>Married-civ-spouse</td>\n",
       "      <td>Black</td>\n",
       "      <td>0</td>\n",
       "    </tr>\n",
       "    <tr>\n",
       "      <th>...</th>\n",
       "      <td>...</td>\n",
       "      <td>...</td>\n",
       "      <td>...</td>\n",
       "    </tr>\n",
       "    <tr>\n",
       "      <th>32556</th>\n",
       "      <td>Married-civ-spouse</td>\n",
       "      <td>White</td>\n",
       "      <td>0</td>\n",
       "    </tr>\n",
       "    <tr>\n",
       "      <th>32557</th>\n",
       "      <td>Married-civ-spouse</td>\n",
       "      <td>White</td>\n",
       "      <td>0</td>\n",
       "    </tr>\n",
       "    <tr>\n",
       "      <th>32558</th>\n",
       "      <td>Widowed</td>\n",
       "      <td>White</td>\n",
       "      <td>0</td>\n",
       "    </tr>\n",
       "    <tr>\n",
       "      <th>32559</th>\n",
       "      <td>Never-married</td>\n",
       "      <td>White</td>\n",
       "      <td>0</td>\n",
       "    </tr>\n",
       "    <tr>\n",
       "      <th>32560</th>\n",
       "      <td>Married-civ-spouse</td>\n",
       "      <td>White</td>\n",
       "      <td>0</td>\n",
       "    </tr>\n",
       "  </tbody>\n",
       "</table>\n",
       "<p>30162 rows × 3 columns</p>\n",
       "</div>"
      ],
      "text/plain": [
       "           marital-status   race  capital-loss\n",
       "0           Never-married  White             0\n",
       "1      Married-civ-spouse  White             0\n",
       "2                Divorced  White             0\n",
       "3      Married-civ-spouse  Black             0\n",
       "4      Married-civ-spouse  Black             0\n",
       "...                   ...    ...           ...\n",
       "32556  Married-civ-spouse  White             0\n",
       "32557  Married-civ-spouse  White             0\n",
       "32558             Widowed  White             0\n",
       "32559       Never-married  White             0\n",
       "32560  Married-civ-spouse  White             0\n",
       "\n",
       "[30162 rows x 3 columns]"
      ]
     },
     "execution_count": 15,
     "metadata": {},
     "output_type": "execute_result"
    }
   ],
   "source": [
    "#c\n",
    "\n",
    "census_col = data.iloc[:,[5,8,11]]\n",
    "census_col"
   ]
  },
  {
   "cell_type": "code",
   "execution_count": 16,
   "id": "96badebf",
   "metadata": {
    "execution": {
     "iopub.execute_input": "2023-01-20T18:49:59.030631Z",
     "iopub.status.busy": "2023-01-20T18:49:59.028998Z",
     "iopub.status.idle": "2023-01-20T18:49:59.037915Z",
     "shell.execute_reply": "2023-01-20T18:49:59.036774Z"
    },
    "papermill": {
     "duration": 0.042493,
     "end_time": "2023-01-20T18:49:59.040571",
     "exception": false,
     "start_time": "2023-01-20T18:49:58.998078",
     "status": "completed"
    },
    "tags": []
   },
   "outputs": [
    {
     "data": {
      "text/plain": [
       "Index(['age', 'workclass', 'fnlwgt', 'education', 'education-num',\n",
       "       'marital-status', 'occupation', 'relationship', 'race', 'sex',\n",
       "       'capital-gain', 'capital-loss', 'hours-per-week', 'native-country',\n",
       "       'Annual Income'],\n",
       "      dtype='object')"
      ]
     },
     "execution_count": 16,
     "metadata": {},
     "output_type": "execute_result"
    }
   ],
   "source": [
    "#d\n",
    "data.columns\n"
   ]
  },
  {
   "cell_type": "code",
   "execution_count": 17,
   "id": "45791bee",
   "metadata": {
    "execution": {
     "iopub.execute_input": "2023-01-20T18:49:59.100356Z",
     "iopub.status.busy": "2023-01-20T18:49:59.099002Z",
     "iopub.status.idle": "2023-01-20T18:49:59.112661Z",
     "shell.execute_reply": "2023-01-20T18:49:59.111586Z"
    },
    "papermill": {
     "duration": 0.045636,
     "end_time": "2023-01-20T18:49:59.115399",
     "exception": false,
     "start_time": "2023-01-20T18:49:59.069763",
     "status": "completed"
    },
    "tags": []
   },
   "outputs": [],
   "source": [
    "male_gov = data[(data['sex']== 'Male') & (data['workclass']== 'State-gov')]"
   ]
  },
  {
   "cell_type": "code",
   "execution_count": 18,
   "id": "2beb9e0c",
   "metadata": {
    "execution": {
     "iopub.execute_input": "2023-01-20T18:49:59.176826Z",
     "iopub.status.busy": "2023-01-20T18:49:59.176038Z",
     "iopub.status.idle": "2023-01-20T18:49:59.183758Z",
     "shell.execute_reply": "2023-01-20T18:49:59.182603Z"
    },
    "papermill": {
     "duration": 0.040787,
     "end_time": "2023-01-20T18:49:59.186159",
     "exception": false,
     "start_time": "2023-01-20T18:49:59.145372",
     "status": "completed"
    },
    "tags": []
   },
   "outputs": [
    {
     "data": {
      "text/plain": [
       "(795, 15)"
      ]
     },
     "execution_count": 18,
     "metadata": {},
     "output_type": "execute_result"
    }
   ],
   "source": [
    "male_gov.shape #shape is a tuple hence , n0t callable.\n",
    "#do not use brackets after shape"
   ]
  },
  {
   "cell_type": "code",
   "execution_count": 19,
   "id": "66b7bf17",
   "metadata": {
    "execution": {
     "iopub.execute_input": "2023-01-20T18:49:59.249620Z",
     "iopub.status.busy": "2023-01-20T18:49:59.249138Z",
     "iopub.status.idle": "2023-01-20T18:49:59.263833Z",
     "shell.execute_reply": "2023-01-20T18:49:59.262663Z"
    },
    "papermill": {
     "duration": 0.051925,
     "end_time": "2023-01-20T18:49:59.267611",
     "exception": false,
     "start_time": "2023-01-20T18:49:59.215686",
     "status": "completed"
    },
    "tags": []
   },
   "outputs": [],
   "source": [
    "#e\n",
    "\n",
    "census_us = data[(data['age']==39) & ((data['education']=='Bachelors') | (data['native-country']=='United-States'))]"
   ]
  },
  {
   "cell_type": "code",
   "execution_count": 20,
   "id": "3d5f0098",
   "metadata": {
    "execution": {
     "iopub.execute_input": "2023-01-20T18:49:59.333531Z",
     "iopub.status.busy": "2023-01-20T18:49:59.332890Z",
     "iopub.status.idle": "2023-01-20T18:49:59.360912Z",
     "shell.execute_reply": "2023-01-20T18:49:59.359366Z"
    },
    "papermill": {
     "duration": 0.060857,
     "end_time": "2023-01-20T18:49:59.363356",
     "exception": false,
     "start_time": "2023-01-20T18:49:59.302499",
     "status": "completed"
    },
    "tags": []
   },
   "outputs": [
    {
     "data": {
      "text/html": [
       "<div>\n",
       "<style scoped>\n",
       "    .dataframe tbody tr th:only-of-type {\n",
       "        vertical-align: middle;\n",
       "    }\n",
       "\n",
       "    .dataframe tbody tr th {\n",
       "        vertical-align: top;\n",
       "    }\n",
       "\n",
       "    .dataframe thead th {\n",
       "        text-align: right;\n",
       "    }\n",
       "</style>\n",
       "<table border=\"1\" class=\"dataframe\">\n",
       "  <thead>\n",
       "    <tr style=\"text-align: right;\">\n",
       "      <th></th>\n",
       "      <th>age</th>\n",
       "      <th>workclass</th>\n",
       "      <th>fnlwgt</th>\n",
       "      <th>education</th>\n",
       "      <th>education-num</th>\n",
       "      <th>marital-status</th>\n",
       "      <th>occupation</th>\n",
       "      <th>relationship</th>\n",
       "      <th>race</th>\n",
       "      <th>sex</th>\n",
       "      <th>capital-gain</th>\n",
       "      <th>capital-loss</th>\n",
       "      <th>hours-per-week</th>\n",
       "      <th>native-country</th>\n",
       "      <th>Annual Income</th>\n",
       "    </tr>\n",
       "  </thead>\n",
       "  <tbody>\n",
       "    <tr>\n",
       "      <th>0</th>\n",
       "      <td>39</td>\n",
       "      <td>State-gov</td>\n",
       "      <td>77516</td>\n",
       "      <td>Bachelors</td>\n",
       "      <td>13</td>\n",
       "      <td>Never-married</td>\n",
       "      <td>Adm-clerical</td>\n",
       "      <td>Not-in-family</td>\n",
       "      <td>White</td>\n",
       "      <td>Male</td>\n",
       "      <td>2174</td>\n",
       "      <td>0</td>\n",
       "      <td>40</td>\n",
       "      <td>United-States</td>\n",
       "      <td>&lt;=50K</td>\n",
       "    </tr>\n",
       "    <tr>\n",
       "      <th>28</th>\n",
       "      <td>39</td>\n",
       "      <td>Private</td>\n",
       "      <td>367260</td>\n",
       "      <td>HS-grad</td>\n",
       "      <td>9</td>\n",
       "      <td>Divorced</td>\n",
       "      <td>Exec-managerial</td>\n",
       "      <td>Not-in-family</td>\n",
       "      <td>White</td>\n",
       "      <td>Male</td>\n",
       "      <td>0</td>\n",
       "      <td>0</td>\n",
       "      <td>80</td>\n",
       "      <td>United-States</td>\n",
       "      <td>&lt;=50K</td>\n",
       "    </tr>\n",
       "    <tr>\n",
       "      <th>129</th>\n",
       "      <td>39</td>\n",
       "      <td>Private</td>\n",
       "      <td>365739</td>\n",
       "      <td>Some-college</td>\n",
       "      <td>10</td>\n",
       "      <td>Divorced</td>\n",
       "      <td>Craft-repair</td>\n",
       "      <td>Not-in-family</td>\n",
       "      <td>White</td>\n",
       "      <td>Male</td>\n",
       "      <td>0</td>\n",
       "      <td>0</td>\n",
       "      <td>40</td>\n",
       "      <td>United-States</td>\n",
       "      <td>&lt;=50K</td>\n",
       "    </tr>\n",
       "    <tr>\n",
       "      <th>166</th>\n",
       "      <td>39</td>\n",
       "      <td>Federal-gov</td>\n",
       "      <td>235485</td>\n",
       "      <td>Assoc-acdm</td>\n",
       "      <td>12</td>\n",
       "      <td>Never-married</td>\n",
       "      <td>Exec-managerial</td>\n",
       "      <td>Not-in-family</td>\n",
       "      <td>White</td>\n",
       "      <td>Male</td>\n",
       "      <td>0</td>\n",
       "      <td>0</td>\n",
       "      <td>42</td>\n",
       "      <td>United-States</td>\n",
       "      <td>&lt;=50K</td>\n",
       "    </tr>\n",
       "    <tr>\n",
       "      <th>320</th>\n",
       "      <td>39</td>\n",
       "      <td>Self-emp-not-inc</td>\n",
       "      <td>174308</td>\n",
       "      <td>HS-grad</td>\n",
       "      <td>9</td>\n",
       "      <td>Married-civ-spouse</td>\n",
       "      <td>Exec-managerial</td>\n",
       "      <td>Husband</td>\n",
       "      <td>White</td>\n",
       "      <td>Male</td>\n",
       "      <td>0</td>\n",
       "      <td>0</td>\n",
       "      <td>40</td>\n",
       "      <td>United-States</td>\n",
       "      <td>&lt;=50K</td>\n",
       "    </tr>\n",
       "    <tr>\n",
       "      <th>...</th>\n",
       "      <td>...</td>\n",
       "      <td>...</td>\n",
       "      <td>...</td>\n",
       "      <td>...</td>\n",
       "      <td>...</td>\n",
       "      <td>...</td>\n",
       "      <td>...</td>\n",
       "      <td>...</td>\n",
       "      <td>...</td>\n",
       "      <td>...</td>\n",
       "      <td>...</td>\n",
       "      <td>...</td>\n",
       "      <td>...</td>\n",
       "      <td>...</td>\n",
       "      <td>...</td>\n",
       "    </tr>\n",
       "    <tr>\n",
       "      <th>32146</th>\n",
       "      <td>39</td>\n",
       "      <td>Private</td>\n",
       "      <td>117381</td>\n",
       "      <td>Some-college</td>\n",
       "      <td>10</td>\n",
       "      <td>Divorced</td>\n",
       "      <td>Transport-moving</td>\n",
       "      <td>Not-in-family</td>\n",
       "      <td>White</td>\n",
       "      <td>Male</td>\n",
       "      <td>0</td>\n",
       "      <td>0</td>\n",
       "      <td>65</td>\n",
       "      <td>United-States</td>\n",
       "      <td>&lt;=50K</td>\n",
       "    </tr>\n",
       "    <tr>\n",
       "      <th>32260</th>\n",
       "      <td>39</td>\n",
       "      <td>Federal-gov</td>\n",
       "      <td>232036</td>\n",
       "      <td>Some-college</td>\n",
       "      <td>10</td>\n",
       "      <td>Married-civ-spouse</td>\n",
       "      <td>Adm-clerical</td>\n",
       "      <td>Husband</td>\n",
       "      <td>White</td>\n",
       "      <td>Male</td>\n",
       "      <td>0</td>\n",
       "      <td>0</td>\n",
       "      <td>40</td>\n",
       "      <td>United-States</td>\n",
       "      <td>&gt;50K</td>\n",
       "    </tr>\n",
       "    <tr>\n",
       "      <th>32428</th>\n",
       "      <td>39</td>\n",
       "      <td>Federal-gov</td>\n",
       "      <td>110622</td>\n",
       "      <td>Bachelors</td>\n",
       "      <td>13</td>\n",
       "      <td>Married-civ-spouse</td>\n",
       "      <td>Adm-clerical</td>\n",
       "      <td>Wife</td>\n",
       "      <td>Asian-Pac-Islander</td>\n",
       "      <td>Female</td>\n",
       "      <td>0</td>\n",
       "      <td>0</td>\n",
       "      <td>40</td>\n",
       "      <td>Philippines</td>\n",
       "      <td>&lt;=50K</td>\n",
       "    </tr>\n",
       "    <tr>\n",
       "      <th>32468</th>\n",
       "      <td>39</td>\n",
       "      <td>Self-emp-not-inc</td>\n",
       "      <td>193689</td>\n",
       "      <td>HS-grad</td>\n",
       "      <td>9</td>\n",
       "      <td>Never-married</td>\n",
       "      <td>Exec-managerial</td>\n",
       "      <td>Not-in-family</td>\n",
       "      <td>White</td>\n",
       "      <td>Male</td>\n",
       "      <td>0</td>\n",
       "      <td>0</td>\n",
       "      <td>65</td>\n",
       "      <td>United-States</td>\n",
       "      <td>&lt;=50K</td>\n",
       "    </tr>\n",
       "    <tr>\n",
       "      <th>32545</th>\n",
       "      <td>39</td>\n",
       "      <td>Local-gov</td>\n",
       "      <td>111499</td>\n",
       "      <td>Assoc-acdm</td>\n",
       "      <td>12</td>\n",
       "      <td>Married-civ-spouse</td>\n",
       "      <td>Adm-clerical</td>\n",
       "      <td>Wife</td>\n",
       "      <td>White</td>\n",
       "      <td>Female</td>\n",
       "      <td>0</td>\n",
       "      <td>0</td>\n",
       "      <td>20</td>\n",
       "      <td>United-States</td>\n",
       "      <td>&gt;50K</td>\n",
       "    </tr>\n",
       "  </tbody>\n",
       "</table>\n",
       "<p>742 rows × 15 columns</p>\n",
       "</div>"
      ],
      "text/plain": [
       "       age         workclass  fnlwgt     education  education-num  \\\n",
       "0       39         State-gov   77516     Bachelors             13   \n",
       "28      39           Private  367260       HS-grad              9   \n",
       "129     39           Private  365739  Some-college             10   \n",
       "166     39       Federal-gov  235485    Assoc-acdm             12   \n",
       "320     39  Self-emp-not-inc  174308       HS-grad              9   \n",
       "...    ...               ...     ...           ...            ...   \n",
       "32146   39           Private  117381  Some-college             10   \n",
       "32260   39       Federal-gov  232036  Some-college             10   \n",
       "32428   39       Federal-gov  110622     Bachelors             13   \n",
       "32468   39  Self-emp-not-inc  193689       HS-grad              9   \n",
       "32545   39         Local-gov  111499    Assoc-acdm             12   \n",
       "\n",
       "           marital-status        occupation   relationship  \\\n",
       "0           Never-married      Adm-clerical  Not-in-family   \n",
       "28               Divorced   Exec-managerial  Not-in-family   \n",
       "129              Divorced      Craft-repair  Not-in-family   \n",
       "166         Never-married   Exec-managerial  Not-in-family   \n",
       "320    Married-civ-spouse   Exec-managerial        Husband   \n",
       "...                   ...               ...            ...   \n",
       "32146            Divorced  Transport-moving  Not-in-family   \n",
       "32260  Married-civ-spouse      Adm-clerical        Husband   \n",
       "32428  Married-civ-spouse      Adm-clerical           Wife   \n",
       "32468       Never-married   Exec-managerial  Not-in-family   \n",
       "32545  Married-civ-spouse      Adm-clerical           Wife   \n",
       "\n",
       "                     race     sex  capital-gain  capital-loss  hours-per-week  \\\n",
       "0                   White    Male          2174             0              40   \n",
       "28                  White    Male             0             0              80   \n",
       "129                 White    Male             0             0              40   \n",
       "166                 White    Male             0             0              42   \n",
       "320                 White    Male             0             0              40   \n",
       "...                   ...     ...           ...           ...             ...   \n",
       "32146               White    Male             0             0              65   \n",
       "32260               White    Male             0             0              40   \n",
       "32428  Asian-Pac-Islander  Female             0             0              40   \n",
       "32468               White    Male             0             0              65   \n",
       "32545               White  Female             0             0              20   \n",
       "\n",
       "      native-country Annual Income  \n",
       "0      United-States         <=50K  \n",
       "28     United-States         <=50K  \n",
       "129    United-States         <=50K  \n",
       "166    United-States         <=50K  \n",
       "320    United-States         <=50K  \n",
       "...              ...           ...  \n",
       "32146  United-States         <=50K  \n",
       "32260  United-States          >50K  \n",
       "32428    Philippines         <=50K  \n",
       "32468  United-States         <=50K  \n",
       "32545  United-States          >50K  \n",
       "\n",
       "[742 rows x 15 columns]"
      ]
     },
     "execution_count": 20,
     "metadata": {},
     "output_type": "execute_result"
    }
   ],
   "source": [
    "census_us"
   ]
  },
  {
   "cell_type": "code",
   "execution_count": 21,
   "id": "ad10afea",
   "metadata": {
    "execution": {
     "iopub.execute_input": "2023-01-20T18:49:59.429287Z",
     "iopub.status.busy": "2023-01-20T18:49:59.428222Z",
     "iopub.status.idle": "2023-01-20T18:49:59.458816Z",
     "shell.execute_reply": "2023-01-20T18:49:59.457368Z"
    },
    "papermill": {
     "duration": 0.064364,
     "end_time": "2023-01-20T18:49:59.461345",
     "exception": false,
     "start_time": "2023-01-20T18:49:59.396981",
     "status": "completed"
    },
    "tags": []
   },
   "outputs": [
    {
     "data": {
      "text/html": [
       "<div>\n",
       "<style scoped>\n",
       "    .dataframe tbody tr th:only-of-type {\n",
       "        vertical-align: middle;\n",
       "    }\n",
       "\n",
       "    .dataframe tbody tr th {\n",
       "        vertical-align: top;\n",
       "    }\n",
       "\n",
       "    .dataframe thead th {\n",
       "        text-align: right;\n",
       "    }\n",
       "</style>\n",
       "<table border=\"1\" class=\"dataframe\">\n",
       "  <thead>\n",
       "    <tr style=\"text-align: right;\">\n",
       "      <th></th>\n",
       "      <th>age</th>\n",
       "      <th>workclass</th>\n",
       "      <th>fnlwgt</th>\n",
       "      <th>education</th>\n",
       "      <th>education-num</th>\n",
       "      <th>marital-status</th>\n",
       "      <th>occupation</th>\n",
       "      <th>relationship</th>\n",
       "      <th>race</th>\n",
       "      <th>sex</th>\n",
       "      <th>capital-gain</th>\n",
       "      <th>capital-loss</th>\n",
       "      <th>hours-per-week</th>\n",
       "      <th>native-country</th>\n",
       "      <th>Annual Income</th>\n",
       "    </tr>\n",
       "  </thead>\n",
       "  <tbody>\n",
       "    <tr>\n",
       "      <th>28959</th>\n",
       "      <td>33</td>\n",
       "      <td>Private</td>\n",
       "      <td>69727</td>\n",
       "      <td>7th-8th</td>\n",
       "      <td>4</td>\n",
       "      <td>Married-civ-spouse</td>\n",
       "      <td>Farming-fishing</td>\n",
       "      <td>Husband</td>\n",
       "      <td>White</td>\n",
       "      <td>Male</td>\n",
       "      <td>0</td>\n",
       "      <td>0</td>\n",
       "      <td>40</td>\n",
       "      <td>Mexico</td>\n",
       "      <td>&lt;=50K</td>\n",
       "    </tr>\n",
       "    <tr>\n",
       "      <th>3270</th>\n",
       "      <td>73</td>\n",
       "      <td>Private</td>\n",
       "      <td>123160</td>\n",
       "      <td>10th</td>\n",
       "      <td>6</td>\n",
       "      <td>Widowed</td>\n",
       "      <td>Other-service</td>\n",
       "      <td>Not-in-family</td>\n",
       "      <td>White</td>\n",
       "      <td>Female</td>\n",
       "      <td>0</td>\n",
       "      <td>0</td>\n",
       "      <td>10</td>\n",
       "      <td>United-States</td>\n",
       "      <td>&lt;=50K</td>\n",
       "    </tr>\n",
       "    <tr>\n",
       "      <th>9680</th>\n",
       "      <td>29</td>\n",
       "      <td>Private</td>\n",
       "      <td>115677</td>\n",
       "      <td>Bachelors</td>\n",
       "      <td>13</td>\n",
       "      <td>Never-married</td>\n",
       "      <td>Tech-support</td>\n",
       "      <td>Not-in-family</td>\n",
       "      <td>White</td>\n",
       "      <td>Male</td>\n",
       "      <td>0</td>\n",
       "      <td>0</td>\n",
       "      <td>40</td>\n",
       "      <td>United-States</td>\n",
       "      <td>&lt;=50K</td>\n",
       "    </tr>\n",
       "    <tr>\n",
       "      <th>24430</th>\n",
       "      <td>38</td>\n",
       "      <td>Private</td>\n",
       "      <td>193372</td>\n",
       "      <td>Some-college</td>\n",
       "      <td>10</td>\n",
       "      <td>Never-married</td>\n",
       "      <td>Exec-managerial</td>\n",
       "      <td>Own-child</td>\n",
       "      <td>White</td>\n",
       "      <td>Female</td>\n",
       "      <td>0</td>\n",
       "      <td>0</td>\n",
       "      <td>40</td>\n",
       "      <td>United-States</td>\n",
       "      <td>&lt;=50K</td>\n",
       "    </tr>\n",
       "    <tr>\n",
       "      <th>10240</th>\n",
       "      <td>29</td>\n",
       "      <td>Private</td>\n",
       "      <td>162002</td>\n",
       "      <td>HS-grad</td>\n",
       "      <td>9</td>\n",
       "      <td>Never-married</td>\n",
       "      <td>Other-service</td>\n",
       "      <td>Own-child</td>\n",
       "      <td>White</td>\n",
       "      <td>Female</td>\n",
       "      <td>0</td>\n",
       "      <td>0</td>\n",
       "      <td>35</td>\n",
       "      <td>United-States</td>\n",
       "      <td>&lt;=50K</td>\n",
       "    </tr>\n",
       "    <tr>\n",
       "      <th>...</th>\n",
       "      <td>...</td>\n",
       "      <td>...</td>\n",
       "      <td>...</td>\n",
       "      <td>...</td>\n",
       "      <td>...</td>\n",
       "      <td>...</td>\n",
       "      <td>...</td>\n",
       "      <td>...</td>\n",
       "      <td>...</td>\n",
       "      <td>...</td>\n",
       "      <td>...</td>\n",
       "      <td>...</td>\n",
       "      <td>...</td>\n",
       "      <td>...</td>\n",
       "      <td>...</td>\n",
       "    </tr>\n",
       "    <tr>\n",
       "      <th>11584</th>\n",
       "      <td>53</td>\n",
       "      <td>Private</td>\n",
       "      <td>171924</td>\n",
       "      <td>Bachelors</td>\n",
       "      <td>13</td>\n",
       "      <td>Divorced</td>\n",
       "      <td>Prof-specialty</td>\n",
       "      <td>Not-in-family</td>\n",
       "      <td>White</td>\n",
       "      <td>Male</td>\n",
       "      <td>14344</td>\n",
       "      <td>0</td>\n",
       "      <td>55</td>\n",
       "      <td>United-States</td>\n",
       "      <td>&gt;50K</td>\n",
       "    </tr>\n",
       "    <tr>\n",
       "      <th>2044</th>\n",
       "      <td>53</td>\n",
       "      <td>Private</td>\n",
       "      <td>274528</td>\n",
       "      <td>Bachelors</td>\n",
       "      <td>13</td>\n",
       "      <td>Divorced</td>\n",
       "      <td>Exec-managerial</td>\n",
       "      <td>Not-in-family</td>\n",
       "      <td>White</td>\n",
       "      <td>Male</td>\n",
       "      <td>0</td>\n",
       "      <td>0</td>\n",
       "      <td>70</td>\n",
       "      <td>United-States</td>\n",
       "      <td>&lt;=50K</td>\n",
       "    </tr>\n",
       "    <tr>\n",
       "      <th>16943</th>\n",
       "      <td>36</td>\n",
       "      <td>Private</td>\n",
       "      <td>200360</td>\n",
       "      <td>Some-college</td>\n",
       "      <td>10</td>\n",
       "      <td>Never-married</td>\n",
       "      <td>Craft-repair</td>\n",
       "      <td>Not-in-family</td>\n",
       "      <td>White</td>\n",
       "      <td>Male</td>\n",
       "      <td>0</td>\n",
       "      <td>0</td>\n",
       "      <td>40</td>\n",
       "      <td>United-States</td>\n",
       "      <td>&lt;=50K</td>\n",
       "    </tr>\n",
       "    <tr>\n",
       "      <th>22768</th>\n",
       "      <td>53</td>\n",
       "      <td>Local-gov</td>\n",
       "      <td>82783</td>\n",
       "      <td>HS-grad</td>\n",
       "      <td>9</td>\n",
       "      <td>Divorced</td>\n",
       "      <td>Exec-managerial</td>\n",
       "      <td>Not-in-family</td>\n",
       "      <td>White</td>\n",
       "      <td>Male</td>\n",
       "      <td>0</td>\n",
       "      <td>0</td>\n",
       "      <td>40</td>\n",
       "      <td>United-States</td>\n",
       "      <td>&lt;=50K</td>\n",
       "    </tr>\n",
       "    <tr>\n",
       "      <th>6732</th>\n",
       "      <td>31</td>\n",
       "      <td>Private</td>\n",
       "      <td>595000</td>\n",
       "      <td>HS-grad</td>\n",
       "      <td>9</td>\n",
       "      <td>Never-married</td>\n",
       "      <td>Handlers-cleaners</td>\n",
       "      <td>Other-relative</td>\n",
       "      <td>Black</td>\n",
       "      <td>Female</td>\n",
       "      <td>0</td>\n",
       "      <td>0</td>\n",
       "      <td>35</td>\n",
       "      <td>United-States</td>\n",
       "      <td>&lt;=50K</td>\n",
       "    </tr>\n",
       "  </tbody>\n",
       "</table>\n",
       "<p>200 rows × 15 columns</p>\n",
       "</div>"
      ],
      "text/plain": [
       "       age  workclass  fnlwgt     education  education-num  \\\n",
       "28959   33    Private   69727       7th-8th              4   \n",
       "3270    73    Private  123160          10th              6   \n",
       "9680    29    Private  115677     Bachelors             13   \n",
       "24430   38    Private  193372  Some-college             10   \n",
       "10240   29    Private  162002       HS-grad              9   \n",
       "...    ...        ...     ...           ...            ...   \n",
       "11584   53    Private  171924     Bachelors             13   \n",
       "2044    53    Private  274528     Bachelors             13   \n",
       "16943   36    Private  200360  Some-college             10   \n",
       "22768   53  Local-gov   82783       HS-grad              9   \n",
       "6732    31    Private  595000       HS-grad              9   \n",
       "\n",
       "           marital-status         occupation    relationship   race     sex  \\\n",
       "28959  Married-civ-spouse    Farming-fishing         Husband  White    Male   \n",
       "3270              Widowed      Other-service   Not-in-family  White  Female   \n",
       "9680        Never-married       Tech-support   Not-in-family  White    Male   \n",
       "24430       Never-married    Exec-managerial       Own-child  White  Female   \n",
       "10240       Never-married      Other-service       Own-child  White  Female   \n",
       "...                   ...                ...             ...    ...     ...   \n",
       "11584            Divorced     Prof-specialty   Not-in-family  White    Male   \n",
       "2044             Divorced    Exec-managerial   Not-in-family  White    Male   \n",
       "16943       Never-married       Craft-repair   Not-in-family  White    Male   \n",
       "22768            Divorced    Exec-managerial   Not-in-family  White    Male   \n",
       "6732        Never-married  Handlers-cleaners  Other-relative  Black  Female   \n",
       "\n",
       "       capital-gain  capital-loss  hours-per-week native-country Annual Income  \n",
       "28959             0             0              40         Mexico         <=50K  \n",
       "3270              0             0              10  United-States         <=50K  \n",
       "9680              0             0              40  United-States         <=50K  \n",
       "24430             0             0              40  United-States         <=50K  \n",
       "10240             0             0              35  United-States         <=50K  \n",
       "...             ...           ...             ...            ...           ...  \n",
       "11584         14344             0              55  United-States          >50K  \n",
       "2044              0             0              70  United-States         <=50K  \n",
       "16943             0             0              40  United-States         <=50K  \n",
       "22768             0             0              40  United-States         <=50K  \n",
       "6732              0             0              35  United-States         <=50K  \n",
       "\n",
       "[200 rows x 15 columns]"
      ]
     },
     "execution_count": 21,
     "metadata": {},
     "output_type": "execute_result"
    }
   ],
   "source": [
    "#f\n",
    "#to choose random values from the dataset use sample command.\n",
    "census_200 = data.sample(200, random_state = 2)\n",
    "census_200\n",
    "\n",
    "#random state freeze the values of data or rows that are selected\n",
    "#same rows in output everytime we run the cell."
   ]
  },
  {
   "cell_type": "code",
   "execution_count": 22,
   "id": "b8dd5a63",
   "metadata": {
    "execution": {
     "iopub.execute_input": "2023-01-20T18:49:59.525922Z",
     "iopub.status.busy": "2023-01-20T18:49:59.524733Z",
     "iopub.status.idle": "2023-01-20T18:49:59.535809Z",
     "shell.execute_reply": "2023-01-20T18:49:59.534447Z"
    },
    "papermill": {
     "duration": 0.046648,
     "end_time": "2023-01-20T18:49:59.539390",
     "exception": false,
     "start_time": "2023-01-20T18:49:59.492742",
     "status": "completed"
    },
    "tags": []
   },
   "outputs": [
    {
     "data": {
      "text/plain": [
       "Private             22286\n",
       "Self-emp-not-inc     2499\n",
       "Local-gov            2067\n",
       "State-gov            1279\n",
       "Self-emp-inc         1074\n",
       "Federal-gov           943\n",
       "Without-pay            14\n",
       "Name: workclass, dtype: int64"
      ]
     },
     "execution_count": 22,
     "metadata": {},
     "output_type": "execute_result"
    }
   ],
   "source": [
    "#g\n",
    "data['workclass'].value_counts()"
   ]
  },
  {
   "cell_type": "code",
   "execution_count": 23,
   "id": "5815fe4a",
   "metadata": {
    "execution": {
     "iopub.execute_input": "2023-01-20T18:49:59.606982Z",
     "iopub.status.busy": "2023-01-20T18:49:59.606554Z",
     "iopub.status.idle": "2023-01-20T18:49:59.617319Z",
     "shell.execute_reply": "2023-01-20T18:49:59.616384Z"
    },
    "papermill": {
     "duration": 0.049062,
     "end_time": "2023-01-20T18:49:59.619585",
     "exception": false,
     "start_time": "2023-01-20T18:49:59.570523",
     "status": "completed"
    },
    "tags": []
   },
   "outputs": [
    {
     "data": {
      "text/plain": [
       "Private             22286\n",
       "Self-emp-not-inc     2499\n",
       "Local-gov            2067\n",
       "State-gov            1279\n",
       "Self-emp-inc         1074\n",
       "Federal-gov           943\n",
       "Without-pay            14\n",
       "Name: workclass, dtype: int64"
      ]
     },
     "execution_count": 23,
     "metadata": {},
     "output_type": "execute_result"
    }
   ],
   "source": [
    "data.workclass.value_counts()"
   ]
  },
  {
   "cell_type": "code",
   "execution_count": 24,
   "id": "3e23b963",
   "metadata": {
    "execution": {
     "iopub.execute_input": "2023-01-20T18:49:59.685483Z",
     "iopub.status.busy": "2023-01-20T18:49:59.684726Z",
     "iopub.status.idle": "2023-01-20T18:49:59.711490Z",
     "shell.execute_reply": "2023-01-20T18:49:59.710347Z"
    },
    "papermill": {
     "duration": 0.06505,
     "end_time": "2023-01-20T18:49:59.714043",
     "exception": false,
     "start_time": "2023-01-20T18:49:59.648993",
     "status": "completed"
    },
    "tags": []
   },
   "outputs": [
    {
     "data": {
      "text/html": [
       "<div>\n",
       "<style scoped>\n",
       "    .dataframe tbody tr th:only-of-type {\n",
       "        vertical-align: middle;\n",
       "    }\n",
       "\n",
       "    .dataframe tbody tr th {\n",
       "        vertical-align: top;\n",
       "    }\n",
       "\n",
       "    .dataframe thead th {\n",
       "        text-align: right;\n",
       "    }\n",
       "</style>\n",
       "<table border=\"1\" class=\"dataframe\">\n",
       "  <thead>\n",
       "    <tr style=\"text-align: right;\">\n",
       "      <th></th>\n",
       "      <th>capital-gain</th>\n",
       "    </tr>\n",
       "    <tr>\n",
       "      <th>workclass</th>\n",
       "      <th></th>\n",
       "    </tr>\n",
       "  </thead>\n",
       "  <tbody>\n",
       "    <tr>\n",
       "      <th>Without-pay</th>\n",
       "      <td>487.857143</td>\n",
       "    </tr>\n",
       "    <tr>\n",
       "      <th>State-gov</th>\n",
       "      <td>684.306489</td>\n",
       "    </tr>\n",
       "    <tr>\n",
       "      <th>Local-gov</th>\n",
       "      <td>829.230285</td>\n",
       "    </tr>\n",
       "    <tr>\n",
       "      <th>Federal-gov</th>\n",
       "      <td>832.321315</td>\n",
       "    </tr>\n",
       "    <tr>\n",
       "      <th>Private</th>\n",
       "      <td>879.858207</td>\n",
       "    </tr>\n",
       "    <tr>\n",
       "      <th>Self-emp-not-inc</th>\n",
       "      <td>1913.134454</td>\n",
       "    </tr>\n",
       "    <tr>\n",
       "      <th>Self-emp-inc</th>\n",
       "      <td>4810.746741</td>\n",
       "    </tr>\n",
       "  </tbody>\n",
       "</table>\n",
       "</div>"
      ],
      "text/plain": [
       "                  capital-gain\n",
       "workclass                     \n",
       "Without-pay         487.857143\n",
       "State-gov           684.306489\n",
       "Local-gov           829.230285\n",
       "Federal-gov         832.321315\n",
       "Private             879.858207\n",
       "Self-emp-not-inc   1913.134454\n",
       "Self-emp-inc       4810.746741"
      ]
     },
     "execution_count": 24,
     "metadata": {},
     "output_type": "execute_result"
    }
   ],
   "source": [
    "#h\n",
    "\n",
    "data.groupby(['workclass'])[['capital-gain']].mean().sort_values(by= 'capital-gain' ,ascending= True)"
   ]
  },
  {
   "cell_type": "code",
   "execution_count": 25,
   "id": "0252b165",
   "metadata": {
    "execution": {
     "iopub.execute_input": "2023-01-20T18:49:59.779159Z",
     "iopub.status.busy": "2023-01-20T18:49:59.778711Z",
     "iopub.status.idle": "2023-01-20T18:49:59.815944Z",
     "shell.execute_reply": "2023-01-20T18:49:59.813987Z"
    },
    "papermill": {
     "duration": 0.072629,
     "end_time": "2023-01-20T18:49:59.818775",
     "exception": false,
     "start_time": "2023-01-20T18:49:59.746146",
     "status": "completed"
    },
    "tags": []
   },
   "outputs": [
    {
     "data": {
      "text/html": [
       "<div>\n",
       "<style scoped>\n",
       "    .dataframe tbody tr th:only-of-type {\n",
       "        vertical-align: middle;\n",
       "    }\n",
       "\n",
       "    .dataframe tbody tr th {\n",
       "        vertical-align: top;\n",
       "    }\n",
       "\n",
       "    .dataframe thead th {\n",
       "        text-align: right;\n",
       "    }\n",
       "</style>\n",
       "<table border=\"1\" class=\"dataframe\">\n",
       "  <thead>\n",
       "    <tr style=\"text-align: right;\">\n",
       "      <th></th>\n",
       "      <th>age</th>\n",
       "      <th>workclass</th>\n",
       "      <th>fnlwgt</th>\n",
       "      <th>education</th>\n",
       "      <th>education-num</th>\n",
       "      <th>marital-status</th>\n",
       "      <th>occupation</th>\n",
       "      <th>relationship</th>\n",
       "      <th>race</th>\n",
       "      <th>sex</th>\n",
       "      <th>capital-gain</th>\n",
       "      <th>capital-loss</th>\n",
       "      <th>hours-per-week</th>\n",
       "      <th>native-country</th>\n",
       "      <th>Annual Income</th>\n",
       "    </tr>\n",
       "  </thead>\n",
       "  <tbody>\n",
       "    <tr>\n",
       "      <th>7</th>\n",
       "      <td>52</td>\n",
       "      <td>Self-emp-not-inc</td>\n",
       "      <td>209642</td>\n",
       "      <td>HS-grad</td>\n",
       "      <td>9</td>\n",
       "      <td>Married-civ-spouse</td>\n",
       "      <td>Exec-managerial</td>\n",
       "      <td>Husband</td>\n",
       "      <td>White</td>\n",
       "      <td>Male</td>\n",
       "      <td>0</td>\n",
       "      <td>0</td>\n",
       "      <td>45</td>\n",
       "      <td>United-States</td>\n",
       "      <td>&gt;50K</td>\n",
       "    </tr>\n",
       "    <tr>\n",
       "      <th>8</th>\n",
       "      <td>31</td>\n",
       "      <td>Private</td>\n",
       "      <td>45781</td>\n",
       "      <td>Masters</td>\n",
       "      <td>14</td>\n",
       "      <td>Never-married</td>\n",
       "      <td>Prof-specialty</td>\n",
       "      <td>Not-in-family</td>\n",
       "      <td>White</td>\n",
       "      <td>Female</td>\n",
       "      <td>14084</td>\n",
       "      <td>0</td>\n",
       "      <td>50</td>\n",
       "      <td>United-States</td>\n",
       "      <td>&gt;50K</td>\n",
       "    </tr>\n",
       "    <tr>\n",
       "      <th>9</th>\n",
       "      <td>42</td>\n",
       "      <td>Private</td>\n",
       "      <td>159449</td>\n",
       "      <td>Bachelors</td>\n",
       "      <td>13</td>\n",
       "      <td>Married-civ-spouse</td>\n",
       "      <td>Exec-managerial</td>\n",
       "      <td>Husband</td>\n",
       "      <td>White</td>\n",
       "      <td>Male</td>\n",
       "      <td>5178</td>\n",
       "      <td>0</td>\n",
       "      <td>40</td>\n",
       "      <td>United-States</td>\n",
       "      <td>&gt;50K</td>\n",
       "    </tr>\n",
       "    <tr>\n",
       "      <th>10</th>\n",
       "      <td>37</td>\n",
       "      <td>Private</td>\n",
       "      <td>280464</td>\n",
       "      <td>Some-college</td>\n",
       "      <td>10</td>\n",
       "      <td>Married-civ-spouse</td>\n",
       "      <td>Exec-managerial</td>\n",
       "      <td>Husband</td>\n",
       "      <td>Black</td>\n",
       "      <td>Male</td>\n",
       "      <td>0</td>\n",
       "      <td>0</td>\n",
       "      <td>80</td>\n",
       "      <td>United-States</td>\n",
       "      <td>&gt;50K</td>\n",
       "    </tr>\n",
       "    <tr>\n",
       "      <th>11</th>\n",
       "      <td>30</td>\n",
       "      <td>State-gov</td>\n",
       "      <td>141297</td>\n",
       "      <td>Bachelors</td>\n",
       "      <td>13</td>\n",
       "      <td>Married-civ-spouse</td>\n",
       "      <td>Prof-specialty</td>\n",
       "      <td>Husband</td>\n",
       "      <td>Asian-Pac-Islander</td>\n",
       "      <td>Male</td>\n",
       "      <td>0</td>\n",
       "      <td>0</td>\n",
       "      <td>40</td>\n",
       "      <td>India</td>\n",
       "      <td>&gt;50K</td>\n",
       "    </tr>\n",
       "    <tr>\n",
       "      <th>...</th>\n",
       "      <td>...</td>\n",
       "      <td>...</td>\n",
       "      <td>...</td>\n",
       "      <td>...</td>\n",
       "      <td>...</td>\n",
       "      <td>...</td>\n",
       "      <td>...</td>\n",
       "      <td>...</td>\n",
       "      <td>...</td>\n",
       "      <td>...</td>\n",
       "      <td>...</td>\n",
       "      <td>...</td>\n",
       "      <td>...</td>\n",
       "      <td>...</td>\n",
       "      <td>...</td>\n",
       "    </tr>\n",
       "    <tr>\n",
       "      <th>32538</th>\n",
       "      <td>38</td>\n",
       "      <td>Private</td>\n",
       "      <td>139180</td>\n",
       "      <td>Bachelors</td>\n",
       "      <td>13</td>\n",
       "      <td>Divorced</td>\n",
       "      <td>Prof-specialty</td>\n",
       "      <td>Unmarried</td>\n",
       "      <td>Black</td>\n",
       "      <td>Female</td>\n",
       "      <td>15020</td>\n",
       "      <td>0</td>\n",
       "      <td>45</td>\n",
       "      <td>United-States</td>\n",
       "      <td>&gt;50K</td>\n",
       "    </tr>\n",
       "    <tr>\n",
       "      <th>32545</th>\n",
       "      <td>39</td>\n",
       "      <td>Local-gov</td>\n",
       "      <td>111499</td>\n",
       "      <td>Assoc-acdm</td>\n",
       "      <td>12</td>\n",
       "      <td>Married-civ-spouse</td>\n",
       "      <td>Adm-clerical</td>\n",
       "      <td>Wife</td>\n",
       "      <td>White</td>\n",
       "      <td>Female</td>\n",
       "      <td>0</td>\n",
       "      <td>0</td>\n",
       "      <td>20</td>\n",
       "      <td>United-States</td>\n",
       "      <td>&gt;50K</td>\n",
       "    </tr>\n",
       "    <tr>\n",
       "      <th>32554</th>\n",
       "      <td>53</td>\n",
       "      <td>Private</td>\n",
       "      <td>321865</td>\n",
       "      <td>Masters</td>\n",
       "      <td>14</td>\n",
       "      <td>Married-civ-spouse</td>\n",
       "      <td>Exec-managerial</td>\n",
       "      <td>Husband</td>\n",
       "      <td>White</td>\n",
       "      <td>Male</td>\n",
       "      <td>0</td>\n",
       "      <td>0</td>\n",
       "      <td>40</td>\n",
       "      <td>United-States</td>\n",
       "      <td>&gt;50K</td>\n",
       "    </tr>\n",
       "    <tr>\n",
       "      <th>32557</th>\n",
       "      <td>40</td>\n",
       "      <td>Private</td>\n",
       "      <td>154374</td>\n",
       "      <td>HS-grad</td>\n",
       "      <td>9</td>\n",
       "      <td>Married-civ-spouse</td>\n",
       "      <td>Machine-op-inspct</td>\n",
       "      <td>Husband</td>\n",
       "      <td>White</td>\n",
       "      <td>Male</td>\n",
       "      <td>0</td>\n",
       "      <td>0</td>\n",
       "      <td>40</td>\n",
       "      <td>United-States</td>\n",
       "      <td>&gt;50K</td>\n",
       "    </tr>\n",
       "    <tr>\n",
       "      <th>32560</th>\n",
       "      <td>52</td>\n",
       "      <td>Self-emp-inc</td>\n",
       "      <td>287927</td>\n",
       "      <td>HS-grad</td>\n",
       "      <td>9</td>\n",
       "      <td>Married-civ-spouse</td>\n",
       "      <td>Exec-managerial</td>\n",
       "      <td>Wife</td>\n",
       "      <td>White</td>\n",
       "      <td>Female</td>\n",
       "      <td>15024</td>\n",
       "      <td>0</td>\n",
       "      <td>40</td>\n",
       "      <td>United-States</td>\n",
       "      <td>&gt;50K</td>\n",
       "    </tr>\n",
       "  </tbody>\n",
       "</table>\n",
       "<p>7508 rows × 15 columns</p>\n",
       "</div>"
      ],
      "text/plain": [
       "       age         workclass  fnlwgt     education  education-num  \\\n",
       "7       52  Self-emp-not-inc  209642       HS-grad              9   \n",
       "8       31           Private   45781       Masters             14   \n",
       "9       42           Private  159449     Bachelors             13   \n",
       "10      37           Private  280464  Some-college             10   \n",
       "11      30         State-gov  141297     Bachelors             13   \n",
       "...    ...               ...     ...           ...            ...   \n",
       "32538   38           Private  139180     Bachelors             13   \n",
       "32545   39         Local-gov  111499    Assoc-acdm             12   \n",
       "32554   53           Private  321865       Masters             14   \n",
       "32557   40           Private  154374       HS-grad              9   \n",
       "32560   52      Self-emp-inc  287927       HS-grad              9   \n",
       "\n",
       "           marital-status         occupation   relationship  \\\n",
       "7      Married-civ-spouse    Exec-managerial        Husband   \n",
       "8           Never-married     Prof-specialty  Not-in-family   \n",
       "9      Married-civ-spouse    Exec-managerial        Husband   \n",
       "10     Married-civ-spouse    Exec-managerial        Husband   \n",
       "11     Married-civ-spouse     Prof-specialty        Husband   \n",
       "...                   ...                ...            ...   \n",
       "32538            Divorced     Prof-specialty      Unmarried   \n",
       "32545  Married-civ-spouse       Adm-clerical           Wife   \n",
       "32554  Married-civ-spouse    Exec-managerial        Husband   \n",
       "32557  Married-civ-spouse  Machine-op-inspct        Husband   \n",
       "32560  Married-civ-spouse    Exec-managerial           Wife   \n",
       "\n",
       "                     race     sex  capital-gain  capital-loss  hours-per-week  \\\n",
       "7                   White    Male             0             0              45   \n",
       "8                   White  Female         14084             0              50   \n",
       "9                   White    Male          5178             0              40   \n",
       "10                  Black    Male             0             0              80   \n",
       "11     Asian-Pac-Islander    Male             0             0              40   \n",
       "...                   ...     ...           ...           ...             ...   \n",
       "32538               Black  Female         15020             0              45   \n",
       "32545               White  Female             0             0              20   \n",
       "32554               White    Male             0             0              40   \n",
       "32557               White    Male             0             0              40   \n",
       "32560               White  Female         15024             0              40   \n",
       "\n",
       "      native-country Annual Income  \n",
       "7      United-States          >50K  \n",
       "8      United-States          >50K  \n",
       "9      United-States          >50K  \n",
       "10     United-States          >50K  \n",
       "11             India          >50K  \n",
       "...              ...           ...  \n",
       "32538  United-States          >50K  \n",
       "32545  United-States          >50K  \n",
       "32554  United-States          >50K  \n",
       "32557  United-States          >50K  \n",
       "32560  United-States          >50K  \n",
       "\n",
       "[7508 rows x 15 columns]"
      ]
     },
     "execution_count": 25,
     "metadata": {},
     "output_type": "execute_result"
    }
   ],
   "source": [
    "#i\n",
    "\n",
    "data1 = data[(data['Annual Income']=='>50K')]\n",
    "data1"
   ]
  },
  {
   "cell_type": "code",
   "execution_count": 26,
   "id": "1356ed01",
   "metadata": {
    "execution": {
     "iopub.execute_input": "2023-01-20T18:49:59.886902Z",
     "iopub.status.busy": "2023-01-20T18:49:59.886433Z",
     "iopub.status.idle": "2023-01-20T18:49:59.916524Z",
     "shell.execute_reply": "2023-01-20T18:49:59.915284Z"
    },
    "papermill": {
     "duration": 0.068493,
     "end_time": "2023-01-20T18:49:59.919409",
     "exception": false,
     "start_time": "2023-01-20T18:49:59.850916",
     "status": "completed"
    },
    "tags": []
   },
   "outputs": [
    {
     "data": {
      "text/plain": [
       "56.697207678883075"
      ]
     },
     "execution_count": 26,
     "metadata": {},
     "output_type": "execute_result"
    }
   ],
   "source": [
    "#j\n",
    "\n",
    "d1= len((data[(data['native-country']=='United-States') & (data['workclass'] == 'Private') & (data['Annual Income'] == '<=50K')]))\n",
    "\n",
    "percentage= (d1 / len(data[data['native-country']=='United-States'])) * 100\n",
    "percentage"
   ]
  },
  {
   "cell_type": "code",
   "execution_count": 27,
   "id": "5e07f1ec",
   "metadata": {
    "execution": {
     "iopub.execute_input": "2023-01-20T18:49:59.988999Z",
     "iopub.status.busy": "2023-01-20T18:49:59.988095Z",
     "iopub.status.idle": "2023-01-20T18:50:00.042928Z",
     "shell.execute_reply": "2023-01-20T18:50:00.040821Z"
    },
    "papermill": {
     "duration": 0.093185,
     "end_time": "2023-01-20T18:50:00.047670",
     "exception": false,
     "start_time": "2023-01-20T18:49:59.954485",
     "status": "completed"
    },
    "tags": []
   },
   "outputs": [
    {
     "name": "stderr",
     "output_type": "stream",
     "text": [
      "/opt/conda/lib/python3.7/site-packages/ipykernel_launcher.py:5: UserWarning: Boolean Series key will be reindexed to match DataFrame index.\n",
      "  \"\"\"\n"
     ]
    },
    {
     "data": {
      "text/plain": [
       "56.697207678883075"
      ]
     },
     "execution_count": 27,
     "metadata": {},
     "output_type": "execute_result"
    }
   ],
   "source": [
    "#OR\n",
    "#without using len() we can write .shape[0] which gives the no. of rows\n",
    "\n",
    "data2 = data[(data['native-country'] == 'United-States')]\n",
    "(data2[(data2['workclass']=='Private')&(data['Annual Income'] == '<=50K')].shape[0]/data2.shape[0])*100"
   ]
  },
  {
   "cell_type": "code",
   "execution_count": null,
   "id": "c934670b",
   "metadata": {
    "papermill": {
     "duration": 0.037208,
     "end_time": "2023-01-20T18:50:00.118092",
     "exception": false,
     "start_time": "2023-01-20T18:50:00.080884",
     "status": "completed"
    },
    "tags": []
   },
   "outputs": [],
   "source": []
  },
  {
   "cell_type": "code",
   "execution_count": 28,
   "id": "bb4bb325",
   "metadata": {
    "execution": {
     "iopub.execute_input": "2023-01-20T18:50:00.186211Z",
     "iopub.status.busy": "2023-01-20T18:50:00.185533Z",
     "iopub.status.idle": "2023-01-20T18:50:00.195917Z",
     "shell.execute_reply": "2023-01-20T18:50:00.194766Z"
    },
    "papermill": {
     "duration": 0.047572,
     "end_time": "2023-01-20T18:50:00.198261",
     "exception": false,
     "start_time": "2023-01-20T18:50:00.150689",
     "status": "completed"
    },
    "tags": []
   },
   "outputs": [
    {
     "data": {
      "text/plain": [
       "Married-civ-spouse       14065\n",
       "Never-married             9726\n",
       "Divorced                  4214\n",
       "Separated                  939\n",
       "Widowed                    827\n",
       "Married-spouse-absent      370\n",
       "Married-AF-spouse           21\n",
       "Name: marital-status, dtype: int64"
      ]
     },
     "execution_count": 28,
     "metadata": {},
     "output_type": "execute_result"
    }
   ],
   "source": [
    "#k\n",
    "data['marital-status'].value_counts()"
   ]
  },
  {
   "cell_type": "code",
   "execution_count": 29,
   "id": "6b7c630f",
   "metadata": {
    "execution": {
     "iopub.execute_input": "2023-01-20T18:50:00.265673Z",
     "iopub.status.busy": "2023-01-20T18:50:00.265056Z",
     "iopub.status.idle": "2023-01-20T18:50:00.285242Z",
     "shell.execute_reply": "2023-01-20T18:50:00.284247Z"
    },
    "papermill": {
     "duration": 0.058519,
     "end_time": "2023-01-20T18:50:00.288595",
     "exception": false,
     "start_time": "2023-01-20T18:50:00.230076",
     "status": "completed"
    },
    "tags": []
   },
   "outputs": [
    {
     "data": {
      "text/plain": [
       "47.92785624295471"
      ]
     },
     "execution_count": 29,
     "metadata": {},
     "output_type": "execute_result"
    }
   ],
   "source": [
    "l = ['Married-civ-spouse','Married-spouse-absent', 'Married-AF-spouse']\n",
    "c = 0\n",
    "for i in l:\n",
    "    c+=data['marital-status'].value_counts()[i]\n",
    "(c/data.shape[0])*100"
   ]
  },
  {
   "cell_type": "code",
   "execution_count": 30,
   "id": "58a1d12d",
   "metadata": {
    "execution": {
     "iopub.execute_input": "2023-01-20T18:50:00.358608Z",
     "iopub.status.busy": "2023-01-20T18:50:00.357932Z",
     "iopub.status.idle": "2023-01-20T18:50:00.367369Z",
     "shell.execute_reply": "2023-01-20T18:50:00.365791Z"
    },
    "papermill": {
     "duration": 0.046127,
     "end_time": "2023-01-20T18:50:00.370111",
     "exception": false,
     "start_time": "2023-01-20T18:50:00.323984",
     "status": "completed"
    },
    "tags": []
   },
   "outputs": [
    {
     "data": {
      "text/plain": [
       "370"
      ]
     },
     "execution_count": 30,
     "metadata": {},
     "output_type": "execute_result"
    }
   ],
   "source": [
    "data['marital-status'].value_counts()['Married-spouse-absent']"
   ]
  },
  {
   "cell_type": "code",
   "execution_count": 31,
   "id": "f286e53f",
   "metadata": {
    "execution": {
     "iopub.execute_input": "2023-01-20T18:50:00.441764Z",
     "iopub.status.busy": "2023-01-20T18:50:00.440881Z",
     "iopub.status.idle": "2023-01-20T18:50:00.454895Z",
     "shell.execute_reply": "2023-01-20T18:50:00.453811Z"
    },
    "papermill": {
     "duration": 0.055959,
     "end_time": "2023-01-20T18:50:00.458381",
     "exception": false,
     "start_time": "2023-01-20T18:50:00.402422",
     "status": "completed"
    },
    "tags": []
   },
   "outputs": [],
   "source": [
    "#L\n",
    "\n",
    "grad = data[(data['education']=='HS-grad') & (data['Annual Income']=='>50K')].shape"
   ]
  },
  {
   "cell_type": "code",
   "execution_count": 32,
   "id": "b98e4609",
   "metadata": {
    "execution": {
     "iopub.execute_input": "2023-01-20T18:50:00.532616Z",
     "iopub.status.busy": "2023-01-20T18:50:00.532187Z",
     "iopub.status.idle": "2023-01-20T18:50:00.538432Z",
     "shell.execute_reply": "2023-01-20T18:50:00.537427Z"
    },
    "papermill": {
     "duration": 0.049081,
     "end_time": "2023-01-20T18:50:00.540706",
     "exception": false,
     "start_time": "2023-01-20T18:50:00.491625",
     "status": "completed"
    },
    "tags": []
   },
   "outputs": [
    {
     "data": {
      "text/plain": [
       "(1617, 15)"
      ]
     },
     "execution_count": 32,
     "metadata": {},
     "output_type": "execute_result"
    }
   ],
   "source": [
    "grad"
   ]
  },
  {
   "cell_type": "code",
   "execution_count": 33,
   "id": "346b03a5",
   "metadata": {
    "execution": {
     "iopub.execute_input": "2023-01-20T18:50:00.616527Z",
     "iopub.status.busy": "2023-01-20T18:50:00.615964Z",
     "iopub.status.idle": "2023-01-20T18:50:00.628697Z",
     "shell.execute_reply": "2023-01-20T18:50:00.627549Z"
    },
    "papermill": {
     "duration": 0.053606,
     "end_time": "2023-01-20T18:50:00.631112",
     "exception": false,
     "start_time": "2023-01-20T18:50:00.577506",
     "status": "completed"
    },
    "tags": []
   },
   "outputs": [
    {
     "data": {
      "text/plain": [
       "16.432926829268293"
      ]
     },
     "execution_count": 33,
     "metadata": {},
     "output_type": "execute_result"
    }
   ],
   "source": [
    "(grad[0]/data[(data['education']=='HS-grad')].shape[0]) * 100"
   ]
  },
  {
   "cell_type": "markdown",
   "id": "d921ea9a",
   "metadata": {
    "papermill": {
     "duration": 0.033194,
     "end_time": "2023-01-20T18:50:00.698145",
     "exception": false,
     "start_time": "2023-01-20T18:50:00.664951",
     "status": "completed"
    },
    "tags": []
   },
   "source": [
    "# Linear Regression Model fitting"
   ]
  },
  {
   "cell_type": "code",
   "execution_count": 34,
   "id": "dbb06489",
   "metadata": {
    "execution": {
     "iopub.execute_input": "2023-01-20T18:50:00.773641Z",
     "iopub.status.busy": "2023-01-20T18:50:00.772760Z",
     "iopub.status.idle": "2023-01-20T18:50:00.782120Z",
     "shell.execute_reply": "2023-01-20T18:50:00.780272Z"
    },
    "papermill": {
     "duration": 0.052363,
     "end_time": "2023-01-20T18:50:00.785381",
     "exception": false,
     "start_time": "2023-01-20T18:50:00.733018",
     "status": "completed"
    },
    "tags": []
   },
   "outputs": [],
   "source": [
    "x = pd.DataFrame(data['education-num'])\n",
    "y = pd.DataFrame(data['hours-per-week'])"
   ]
  },
  {
   "cell_type": "code",
   "execution_count": 35,
   "id": "56065b2f",
   "metadata": {
    "execution": {
     "iopub.execute_input": "2023-01-20T18:50:00.860529Z",
     "iopub.status.busy": "2023-01-20T18:50:00.859290Z",
     "iopub.status.idle": "2023-01-20T18:50:00.873267Z",
     "shell.execute_reply": "2023-01-20T18:50:00.871789Z"
    },
    "papermill": {
     "duration": 0.054414,
     "end_time": "2023-01-20T18:50:00.876679",
     "exception": false,
     "start_time": "2023-01-20T18:50:00.822265",
     "status": "completed"
    },
    "tags": []
   },
   "outputs": [],
   "source": [
    "x_train,x_test,y_train,y_test = train_test_split(x,y,test_size = 0.3, random_state = 42)"
   ]
  },
  {
   "cell_type": "code",
   "execution_count": 36,
   "id": "9bd737f4",
   "metadata": {
    "execution": {
     "iopub.execute_input": "2023-01-20T18:50:00.943894Z",
     "iopub.status.busy": "2023-01-20T18:50:00.943488Z",
     "iopub.status.idle": "2023-01-20T18:50:00.951061Z",
     "shell.execute_reply": "2023-01-20T18:50:00.949138Z"
    },
    "papermill": {
     "duration": 0.046775,
     "end_time": "2023-01-20T18:50:00.955533",
     "exception": false,
     "start_time": "2023-01-20T18:50:00.908758",
     "status": "completed"
    },
    "tags": []
   },
   "outputs": [
    {
     "name": "stdout",
     "output_type": "stream",
     "text": [
      "(21113, 1)\n",
      "(9049, 1)\n",
      "(21113, 1)\n",
      "(9049, 1)\n"
     ]
    }
   ],
   "source": [
    "print(x_train.shape)\n",
    "print(x_test.shape)\n",
    "print(y_train.shape)\n",
    "print(y_test.shape)"
   ]
  },
  {
   "cell_type": "code",
   "execution_count": 37,
   "id": "5ef874ee",
   "metadata": {
    "execution": {
     "iopub.execute_input": "2023-01-20T18:50:01.028584Z",
     "iopub.status.busy": "2023-01-20T18:50:01.028091Z",
     "iopub.status.idle": "2023-01-20T18:50:01.033464Z",
     "shell.execute_reply": "2023-01-20T18:50:01.031850Z"
    },
    "papermill": {
     "duration": 0.043589,
     "end_time": "2023-01-20T18:50:01.036302",
     "exception": false,
     "start_time": "2023-01-20T18:50:00.992713",
     "status": "completed"
    },
    "tags": []
   },
   "outputs": [],
   "source": [
    "LR = LinearRegression()"
   ]
  },
  {
   "cell_type": "code",
   "execution_count": 38,
   "id": "38df6246",
   "metadata": {
    "execution": {
     "iopub.execute_input": "2023-01-20T18:50:01.109916Z",
     "iopub.status.busy": "2023-01-20T18:50:01.109473Z",
     "iopub.status.idle": "2023-01-20T18:50:01.146419Z",
     "shell.execute_reply": "2023-01-20T18:50:01.144644Z"
    },
    "papermill": {
     "duration": 0.079058,
     "end_time": "2023-01-20T18:50:01.150538",
     "exception": false,
     "start_time": "2023-01-20T18:50:01.071480",
     "status": "completed"
    },
    "tags": []
   },
   "outputs": [
    {
     "data": {
      "text/plain": [
       "LinearRegression()"
      ]
     },
     "execution_count": 38,
     "metadata": {},
     "output_type": "execute_result"
    }
   ],
   "source": [
    "LR.fit(x_train,y_train)"
   ]
  },
  {
   "cell_type": "code",
   "execution_count": 39,
   "id": "14340701",
   "metadata": {
    "execution": {
     "iopub.execute_input": "2023-01-20T18:50:01.225631Z",
     "iopub.status.busy": "2023-01-20T18:50:01.225118Z",
     "iopub.status.idle": "2023-01-20T18:50:01.234123Z",
     "shell.execute_reply": "2023-01-20T18:50:01.232343Z"
    },
    "papermill": {
     "duration": 0.051874,
     "end_time": "2023-01-20T18:50:01.237194",
     "exception": false,
     "start_time": "2023-01-20T18:50:01.185320",
     "status": "completed"
    },
    "tags": []
   },
   "outputs": [],
   "source": [
    "y_pred = LR.predict(x_test)"
   ]
  },
  {
   "cell_type": "code",
   "execution_count": 40,
   "id": "3178ef5d",
   "metadata": {
    "execution": {
     "iopub.execute_input": "2023-01-20T18:50:01.313207Z",
     "iopub.status.busy": "2023-01-20T18:50:01.312715Z",
     "iopub.status.idle": "2023-01-20T18:50:01.321795Z",
     "shell.execute_reply": "2023-01-20T18:50:01.320376Z"
    },
    "papermill": {
     "duration": 0.051241,
     "end_time": "2023-01-20T18:50:01.325835",
     "exception": false,
     "start_time": "2023-01-20T18:50:01.274594",
     "status": "completed"
    },
    "tags": []
   },
   "outputs": [
    {
     "data": {
      "text/plain": [
       "array([[44.30810976],\n",
       "       [40.20968024],\n",
       "       [40.20968024],\n",
       "       ...,\n",
       "       [42.94196659],\n",
       "       [40.20968024],\n",
       "       [42.94196659]])"
      ]
     },
     "execution_count": 40,
     "metadata": {},
     "output_type": "execute_result"
    }
   ],
   "source": [
    "y_pred"
   ]
  },
  {
   "cell_type": "code",
   "execution_count": 41,
   "id": "65bb74c2",
   "metadata": {
    "execution": {
     "iopub.execute_input": "2023-01-20T18:50:01.398795Z",
     "iopub.status.busy": "2023-01-20T18:50:01.398260Z",
     "iopub.status.idle": "2023-01-20T18:50:01.404619Z",
     "shell.execute_reply": "2023-01-20T18:50:01.402914Z"
    },
    "papermill": {
     "duration": 0.047797,
     "end_time": "2023-01-20T18:50:01.407914",
     "exception": false,
     "start_time": "2023-01-20T18:50:01.360117",
     "status": "completed"
    },
    "tags": []
   },
   "outputs": [],
   "source": [
    "from sklearn.metrics import mean_squared_error\n",
    "from sklearn.metrics import mean_squared_error"
   ]
  },
  {
   "cell_type": "code",
   "execution_count": 42,
   "id": "3cf059a5",
   "metadata": {
    "execution": {
     "iopub.execute_input": "2023-01-20T18:50:01.482601Z",
     "iopub.status.busy": "2023-01-20T18:50:01.482156Z",
     "iopub.status.idle": "2023-01-20T18:50:01.489112Z",
     "shell.execute_reply": "2023-01-20T18:50:01.487189Z"
    },
    "papermill": {
     "duration": 0.049991,
     "end_time": "2023-01-20T18:50:01.492273",
     "exception": false,
     "start_time": "2023-01-20T18:50:01.442282",
     "status": "completed"
    },
    "tags": []
   },
   "outputs": [],
   "source": [
    "mse = mean_squared_error"
   ]
  },
  {
   "cell_type": "code",
   "execution_count": 43,
   "id": "97d2ae8e",
   "metadata": {
    "execution": {
     "iopub.execute_input": "2023-01-20T18:50:01.561673Z",
     "iopub.status.busy": "2023-01-20T18:50:01.561156Z",
     "iopub.status.idle": "2023-01-20T18:50:01.571522Z",
     "shell.execute_reply": "2023-01-20T18:50:01.569884Z"
    },
    "papermill": {
     "duration": 0.048644,
     "end_time": "2023-01-20T18:50:01.574409",
     "exception": false,
     "start_time": "2023-01-20T18:50:01.525765",
     "status": "completed"
    },
    "tags": []
   },
   "outputs": [
    {
     "data": {
      "text/plain": [
       "137.81263845871413"
      ]
     },
     "execution_count": 43,
     "metadata": {},
     "output_type": "execute_result"
    }
   ],
   "source": [
    "mse1= mse(y_test,y_pred)\n",
    "mse1"
   ]
  },
  {
   "cell_type": "code",
   "execution_count": 44,
   "id": "a1507990",
   "metadata": {
    "execution": {
     "iopub.execute_input": "2023-01-20T18:50:01.648191Z",
     "iopub.status.busy": "2023-01-20T18:50:01.647781Z",
     "iopub.status.idle": "2023-01-20T18:50:01.655196Z",
     "shell.execute_reply": "2023-01-20T18:50:01.653879Z"
    },
    "papermill": {
     "duration": 0.046808,
     "end_time": "2023-01-20T18:50:01.658036",
     "exception": false,
     "start_time": "2023-01-20T18:50:01.611228",
     "status": "completed"
    },
    "tags": []
   },
   "outputs": [
    {
     "data": {
      "text/plain": [
       "11.73936277907426"
      ]
     },
     "execution_count": 44,
     "metadata": {},
     "output_type": "execute_result"
    }
   ],
   "source": [
    "rmse = np.sqrt(mse1)\n",
    "rmse"
   ]
  },
  {
   "cell_type": "markdown",
   "id": "d4f1ada3",
   "metadata": {
    "papermill": {
     "duration": 0.032373,
     "end_time": "2023-01-20T18:50:01.722986",
     "exception": false,
     "start_time": "2023-01-20T18:50:01.690613",
     "status": "completed"
    },
    "tags": []
   },
   "source": [
    "# Logistic Regression Model Fitting"
   ]
  },
  {
   "cell_type": "markdown",
   "id": "4ce4391a",
   "metadata": {
    "papermill": {
     "duration": 0.033299,
     "end_time": "2023-01-20T18:50:01.790080",
     "exception": false,
     "start_time": "2023-01-20T18:50:01.756781",
     "status": "completed"
    },
    "tags": []
   },
   "source": [
    "## simple Logistic regression"
   ]
  },
  {
   "cell_type": "code",
   "execution_count": 45,
   "id": "4649ca6e",
   "metadata": {
    "execution": {
     "iopub.execute_input": "2023-01-20T18:50:01.865821Z",
     "iopub.status.busy": "2023-01-20T18:50:01.865223Z",
     "iopub.status.idle": "2023-01-20T18:50:01.872316Z",
     "shell.execute_reply": "2023-01-20T18:50:01.870429Z"
    },
    "papermill": {
     "duration": 0.049418,
     "end_time": "2023-01-20T18:50:01.875388",
     "exception": false,
     "start_time": "2023-01-20T18:50:01.825970",
     "status": "completed"
    },
    "tags": []
   },
   "outputs": [],
   "source": [
    "from sklearn.linear_model import LogisticRegression "
   ]
  },
  {
   "cell_type": "code",
   "execution_count": 46,
   "id": "56e9a96e",
   "metadata": {
    "execution": {
     "iopub.execute_input": "2023-01-20T18:50:01.945618Z",
     "iopub.status.busy": "2023-01-20T18:50:01.945190Z",
     "iopub.status.idle": "2023-01-20T18:50:01.951534Z",
     "shell.execute_reply": "2023-01-20T18:50:01.949938Z"
    },
    "papermill": {
     "duration": 0.04282,
     "end_time": "2023-01-20T18:50:01.954464",
     "exception": false,
     "start_time": "2023-01-20T18:50:01.911644",
     "status": "completed"
    },
    "tags": []
   },
   "outputs": [],
   "source": [
    "x1 = data['occupation']\n",
    "y1 = data['Annual Income']"
   ]
  },
  {
   "cell_type": "code",
   "execution_count": 47,
   "id": "df8f36ff",
   "metadata": {
    "execution": {
     "iopub.execute_input": "2023-01-20T18:50:02.025921Z",
     "iopub.status.busy": "2023-01-20T18:50:02.025433Z",
     "iopub.status.idle": "2023-01-20T18:50:02.032425Z",
     "shell.execute_reply": "2023-01-20T18:50:02.029976Z"
    },
    "papermill": {
     "duration": 0.045397,
     "end_time": "2023-01-20T18:50:02.035285",
     "exception": false,
     "start_time": "2023-01-20T18:50:01.989888",
     "status": "completed"
    },
    "tags": []
   },
   "outputs": [],
   "source": [
    "from sklearn.preprocessing import LabelEncoder\n",
    "LE = LabelEncoder()  #used to convert string data into numeric values."
   ]
  },
  {
   "cell_type": "code",
   "execution_count": 48,
   "id": "a7c01f12",
   "metadata": {
    "execution": {
     "iopub.execute_input": "2023-01-20T18:50:02.104245Z",
     "iopub.status.busy": "2023-01-20T18:50:02.103384Z",
     "iopub.status.idle": "2023-01-20T18:50:02.129230Z",
     "shell.execute_reply": "2023-01-20T18:50:02.127649Z"
    },
    "papermill": {
     "duration": 0.063605,
     "end_time": "2023-01-20T18:50:02.132368",
     "exception": false,
     "start_time": "2023-01-20T18:50:02.068763",
     "status": "completed"
    },
    "tags": []
   },
   "outputs": [],
   "source": [
    "x1 = LE.fit_transform(x1)\n",
    "y1 = LE.fit_transform(y1)"
   ]
  },
  {
   "cell_type": "code",
   "execution_count": 49,
   "id": "b78fb7eb",
   "metadata": {
    "execution": {
     "iopub.execute_input": "2023-01-20T18:50:02.201572Z",
     "iopub.status.busy": "2023-01-20T18:50:02.200946Z",
     "iopub.status.idle": "2023-01-20T18:50:02.208553Z",
     "shell.execute_reply": "2023-01-20T18:50:02.206790Z"
    },
    "papermill": {
     "duration": 0.046048,
     "end_time": "2023-01-20T18:50:02.211986",
     "exception": false,
     "start_time": "2023-01-20T18:50:02.165938",
     "status": "completed"
    },
    "tags": []
   },
   "outputs": [],
   "source": [
    "x1 = pd.DataFrame(x1)\n",
    "y1 = pd.DataFrame(y1)"
   ]
  },
  {
   "cell_type": "code",
   "execution_count": 50,
   "id": "f98752f3",
   "metadata": {
    "execution": {
     "iopub.execute_input": "2023-01-20T18:50:02.282677Z",
     "iopub.status.busy": "2023-01-20T18:50:02.281760Z",
     "iopub.status.idle": "2023-01-20T18:50:02.289829Z",
     "shell.execute_reply": "2023-01-20T18:50:02.288307Z"
    },
    "papermill": {
     "duration": 0.046411,
     "end_time": "2023-01-20T18:50:02.292674",
     "exception": false,
     "start_time": "2023-01-20T18:50:02.246263",
     "status": "completed"
    },
    "tags": []
   },
   "outputs": [],
   "source": [
    "from sklearn.model_selection import train_test_split"
   ]
  },
  {
   "cell_type": "code",
   "execution_count": null,
   "id": "509814a6",
   "metadata": {
    "papermill": {
     "duration": 0.032399,
     "end_time": "2023-01-20T18:50:02.358457",
     "exception": false,
     "start_time": "2023-01-20T18:50:02.326058",
     "status": "completed"
    },
    "tags": []
   },
   "outputs": [],
   "source": []
  },
  {
   "cell_type": "code",
   "execution_count": null,
   "id": "83cdf07e",
   "metadata": {
    "papermill": {
     "duration": 0.034019,
     "end_time": "2023-01-20T18:50:02.424791",
     "exception": false,
     "start_time": "2023-01-20T18:50:02.390772",
     "status": "completed"
    },
    "tags": []
   },
   "outputs": [],
   "source": []
  },
  {
   "cell_type": "code",
   "execution_count": 51,
   "id": "0e944857",
   "metadata": {
    "execution": {
     "iopub.execute_input": "2023-01-20T18:50:02.499747Z",
     "iopub.status.busy": "2023-01-20T18:50:02.498311Z",
     "iopub.status.idle": "2023-01-20T18:50:02.506369Z",
     "shell.execute_reply": "2023-01-20T18:50:02.504464Z"
    },
    "papermill": {
     "duration": 0.049578,
     "end_time": "2023-01-20T18:50:02.509528",
     "exception": false,
     "start_time": "2023-01-20T18:50:02.459950",
     "status": "completed"
    },
    "tags": []
   },
   "outputs": [],
   "source": [
    "from sklearn import model_selection"
   ]
  },
  {
   "cell_type": "code",
   "execution_count": 52,
   "id": "8ba5a113",
   "metadata": {
    "execution": {
     "iopub.execute_input": "2023-01-20T18:50:02.579659Z",
     "iopub.status.busy": "2023-01-20T18:50:02.578923Z",
     "iopub.status.idle": "2023-01-20T18:50:02.586073Z",
     "shell.execute_reply": "2023-01-20T18:50:02.584262Z"
    },
    "papermill": {
     "duration": 0.044757,
     "end_time": "2023-01-20T18:50:02.589547",
     "exception": false,
     "start_time": "2023-01-20T18:50:02.544790",
     "status": "completed"
    },
    "tags": []
   },
   "outputs": [],
   "source": [
    "#dir(model_selection)"
   ]
  },
  {
   "cell_type": "code",
   "execution_count": null,
   "id": "7d32d820",
   "metadata": {
    "papermill": {
     "duration": 0.035053,
     "end_time": "2023-01-20T18:50:02.659059",
     "exception": false,
     "start_time": "2023-01-20T18:50:02.624006",
     "status": "completed"
    },
    "tags": []
   },
   "outputs": [],
   "source": []
  },
  {
   "cell_type": "code",
   "execution_count": 53,
   "id": "d4cd4d56",
   "metadata": {
    "execution": {
     "iopub.execute_input": "2023-01-20T18:50:02.730742Z",
     "iopub.status.busy": "2023-01-20T18:50:02.730237Z",
     "iopub.status.idle": "2023-01-20T18:50:02.742857Z",
     "shell.execute_reply": "2023-01-20T18:50:02.740985Z"
    },
    "papermill": {
     "duration": 0.052159,
     "end_time": "2023-01-20T18:50:02.746130",
     "exception": false,
     "start_time": "2023-01-20T18:50:02.693971",
     "status": "completed"
    },
    "tags": []
   },
   "outputs": [],
   "source": [
    "x_train,x_test,y_train,y_test = train_test_split(x1,y1,train_size = 0.65 , random_state = 10)"
   ]
  },
  {
   "cell_type": "code",
   "execution_count": 54,
   "id": "28ad056a",
   "metadata": {
    "execution": {
     "iopub.execute_input": "2023-01-20T18:50:02.817239Z",
     "iopub.status.busy": "2023-01-20T18:50:02.816790Z",
     "iopub.status.idle": "2023-01-20T18:50:02.823252Z",
     "shell.execute_reply": "2023-01-20T18:50:02.821817Z"
    },
    "papermill": {
     "duration": 0.047323,
     "end_time": "2023-01-20T18:50:02.826350",
     "exception": false,
     "start_time": "2023-01-20T18:50:02.779027",
     "status": "completed"
    },
    "tags": []
   },
   "outputs": [
    {
     "name": "stdout",
     "output_type": "stream",
     "text": [
      "(19605, 1)\n",
      "(10557, 1)\n",
      "(19605, 1)\n",
      "(10557, 1)\n"
     ]
    }
   ],
   "source": [
    "print(x_train.shape)\n",
    "print(x_test.shape)\n",
    "print(y_train.shape)\n",
    "print(y_test.shape)"
   ]
  },
  {
   "cell_type": "code",
   "execution_count": 55,
   "id": "7cea0d77",
   "metadata": {
    "execution": {
     "iopub.execute_input": "2023-01-20T18:50:02.895988Z",
     "iopub.status.busy": "2023-01-20T18:50:02.895529Z",
     "iopub.status.idle": "2023-01-20T18:50:02.900682Z",
     "shell.execute_reply": "2023-01-20T18:50:02.899755Z"
    },
    "papermill": {
     "duration": 0.042625,
     "end_time": "2023-01-20T18:50:02.903042",
     "exception": false,
     "start_time": "2023-01-20T18:50:02.860417",
     "status": "completed"
    },
    "tags": []
   },
   "outputs": [],
   "source": [
    "LG_model = LogisticRegression()"
   ]
  },
  {
   "cell_type": "code",
   "execution_count": 56,
   "id": "0ec87c2e",
   "metadata": {
    "execution": {
     "iopub.execute_input": "2023-01-20T18:50:02.971576Z",
     "iopub.status.busy": "2023-01-20T18:50:02.971139Z",
     "iopub.status.idle": "2023-01-20T18:50:02.976478Z",
     "shell.execute_reply": "2023-01-20T18:50:02.975393Z"
    },
    "papermill": {
     "duration": 0.042764,
     "end_time": "2023-01-20T18:50:02.979032",
     "exception": false,
     "start_time": "2023-01-20T18:50:02.936268",
     "status": "completed"
    },
    "tags": []
   },
   "outputs": [],
   "source": [
    "import warnings\n",
    "warnings.filterwarnings('ignore')"
   ]
  },
  {
   "cell_type": "code",
   "execution_count": 57,
   "id": "cb335832",
   "metadata": {
    "execution": {
     "iopub.execute_input": "2023-01-20T18:50:03.050663Z",
     "iopub.status.busy": "2023-01-20T18:50:03.049475Z",
     "iopub.status.idle": "2023-01-20T18:50:03.108316Z",
     "shell.execute_reply": "2023-01-20T18:50:03.106029Z"
    },
    "papermill": {
     "duration": 0.099257,
     "end_time": "2023-01-20T18:50:03.112891",
     "exception": false,
     "start_time": "2023-01-20T18:50:03.013634",
     "status": "completed"
    },
    "scrolled": true,
    "tags": []
   },
   "outputs": [
    {
     "data": {
      "text/plain": [
       "LogisticRegression()"
      ]
     },
     "execution_count": 57,
     "metadata": {},
     "output_type": "execute_result"
    }
   ],
   "source": [
    "LG_model.fit(x_train,y_train)"
   ]
  },
  {
   "cell_type": "code",
   "execution_count": 58,
   "id": "39f1e6d4",
   "metadata": {
    "execution": {
     "iopub.execute_input": "2023-01-20T18:50:03.249425Z",
     "iopub.status.busy": "2023-01-20T18:50:03.248962Z",
     "iopub.status.idle": "2023-01-20T18:50:03.257193Z",
     "shell.execute_reply": "2023-01-20T18:50:03.255855Z"
    },
    "papermill": {
     "duration": 0.056622,
     "end_time": "2023-01-20T18:50:03.260049",
     "exception": false,
     "start_time": "2023-01-20T18:50:03.203427",
     "status": "completed"
    },
    "tags": []
   },
   "outputs": [],
   "source": [
    "y_pred = LG_model.predict(x_test)"
   ]
  },
  {
   "cell_type": "code",
   "execution_count": 59,
   "id": "74c8a96f",
   "metadata": {
    "execution": {
     "iopub.execute_input": "2023-01-20T18:50:03.330766Z",
     "iopub.status.busy": "2023-01-20T18:50:03.330388Z",
     "iopub.status.idle": "2023-01-20T18:50:03.335944Z",
     "shell.execute_reply": "2023-01-20T18:50:03.334654Z"
    },
    "papermill": {
     "duration": 0.044811,
     "end_time": "2023-01-20T18:50:03.338854",
     "exception": false,
     "start_time": "2023-01-20T18:50:03.294043",
     "status": "completed"
    },
    "tags": []
   },
   "outputs": [
    {
     "name": "stdout",
     "output_type": "stream",
     "text": [
      "[0 0 0 ... 0 0 0]\n"
     ]
    }
   ],
   "source": [
    "print(y_pred)"
   ]
  },
  {
   "cell_type": "code",
   "execution_count": 60,
   "id": "63a03a6d",
   "metadata": {
    "execution": {
     "iopub.execute_input": "2023-01-20T18:50:03.409422Z",
     "iopub.status.busy": "2023-01-20T18:50:03.408805Z",
     "iopub.status.idle": "2023-01-20T18:50:03.414717Z",
     "shell.execute_reply": "2023-01-20T18:50:03.413559Z"
    },
    "papermill": {
     "duration": 0.044256,
     "end_time": "2023-01-20T18:50:03.418239",
     "exception": false,
     "start_time": "2023-01-20T18:50:03.373983",
     "status": "completed"
    },
    "tags": []
   },
   "outputs": [],
   "source": [
    "from sklearn.metrics import confusion_matrix,accuracy_score"
   ]
  },
  {
   "cell_type": "code",
   "execution_count": 61,
   "id": "e1547710",
   "metadata": {
    "execution": {
     "iopub.execute_input": "2023-01-20T18:50:03.487883Z",
     "iopub.status.busy": "2023-01-20T18:50:03.487412Z",
     "iopub.status.idle": "2023-01-20T18:50:03.502020Z",
     "shell.execute_reply": "2023-01-20T18:50:03.500473Z"
    },
    "papermill": {
     "duration": 0.052045,
     "end_time": "2023-01-20T18:50:03.505101",
     "exception": false,
     "start_time": "2023-01-20T18:50:03.453056",
     "status": "completed"
    },
    "tags": []
   },
   "outputs": [
    {
     "data": {
      "text/plain": [
       "array([[7903,    0],\n",
       "       [2654,    0]])"
      ]
     },
     "execution_count": 61,
     "metadata": {},
     "output_type": "execute_result"
    }
   ],
   "source": [
    "cf= confusion_matrix(y_test,y_pred)\n",
    "cf"
   ]
  },
  {
   "cell_type": "code",
   "execution_count": 62,
   "id": "706796ef",
   "metadata": {
    "execution": {
     "iopub.execute_input": "2023-01-20T18:50:03.576644Z",
     "iopub.status.busy": "2023-01-20T18:50:03.576181Z",
     "iopub.status.idle": "2023-01-20T18:50:03.584389Z",
     "shell.execute_reply": "2023-01-20T18:50:03.582703Z"
    },
    "papermill": {
     "duration": 0.047188,
     "end_time": "2023-01-20T18:50:03.586877",
     "exception": false,
     "start_time": "2023-01-20T18:50:03.539689",
     "status": "completed"
    },
    "tags": []
   },
   "outputs": [
    {
     "data": {
      "text/plain": [
       "0.7486028227716207"
      ]
     },
     "execution_count": 62,
     "metadata": {},
     "output_type": "execute_result"
    }
   ],
   "source": [
    "acc = accuracy_score(y_test,y_pred)\n",
    "acc"
   ]
  },
  {
   "cell_type": "code",
   "execution_count": null,
   "id": "b673fd95",
   "metadata": {
    "papermill": {
     "duration": 0.032101,
     "end_time": "2023-01-20T18:50:03.653402",
     "exception": false,
     "start_time": "2023-01-20T18:50:03.621301",
     "status": "completed"
    },
    "tags": []
   },
   "outputs": [],
   "source": []
  },
  {
   "cell_type": "markdown",
   "id": "f4310121",
   "metadata": {
    "papermill": {
     "duration": 0.033639,
     "end_time": "2023-01-20T18:50:03.720897",
     "exception": false,
     "start_time": "2023-01-20T18:50:03.687258",
     "status": "completed"
    },
    "tags": []
   },
   "source": [
    "## Multiple Logistic regression"
   ]
  },
  {
   "cell_type": "code",
   "execution_count": 63,
   "id": "34e20963",
   "metadata": {
    "execution": {
     "iopub.execute_input": "2023-01-20T18:50:03.805104Z",
     "iopub.status.busy": "2023-01-20T18:50:03.803681Z",
     "iopub.status.idle": "2023-01-20T18:50:03.812851Z",
     "shell.execute_reply": "2023-01-20T18:50:03.811860Z"
    },
    "papermill": {
     "duration": 0.059676,
     "end_time": "2023-01-20T18:50:03.816752",
     "exception": false,
     "start_time": "2023-01-20T18:50:03.757076",
     "status": "completed"
    },
    "tags": []
   },
   "outputs": [],
   "source": [
    "x2 = data[['age','workclass','education']]\n",
    "y2 = data['Annual Income']"
   ]
  },
  {
   "cell_type": "code",
   "execution_count": 64,
   "id": "b483716c",
   "metadata": {
    "execution": {
     "iopub.execute_input": "2023-01-20T18:50:03.894591Z",
     "iopub.status.busy": "2023-01-20T18:50:03.894074Z",
     "iopub.status.idle": "2023-01-20T18:50:03.907669Z",
     "shell.execute_reply": "2023-01-20T18:50:03.906441Z"
    },
    "papermill": {
     "duration": 0.053814,
     "end_time": "2023-01-20T18:50:03.910193",
     "exception": false,
     "start_time": "2023-01-20T18:50:03.856379",
     "status": "completed"
    },
    "tags": []
   },
   "outputs": [
    {
     "data": {
      "text/html": [
       "<div>\n",
       "<style scoped>\n",
       "    .dataframe tbody tr th:only-of-type {\n",
       "        vertical-align: middle;\n",
       "    }\n",
       "\n",
       "    .dataframe tbody tr th {\n",
       "        vertical-align: top;\n",
       "    }\n",
       "\n",
       "    .dataframe thead th {\n",
       "        text-align: right;\n",
       "    }\n",
       "</style>\n",
       "<table border=\"1\" class=\"dataframe\">\n",
       "  <thead>\n",
       "    <tr style=\"text-align: right;\">\n",
       "      <th></th>\n",
       "      <th>age</th>\n",
       "      <th>workclass</th>\n",
       "      <th>education</th>\n",
       "    </tr>\n",
       "  </thead>\n",
       "  <tbody>\n",
       "    <tr>\n",
       "      <th>0</th>\n",
       "      <td>39</td>\n",
       "      <td>State-gov</td>\n",
       "      <td>Bachelors</td>\n",
       "    </tr>\n",
       "    <tr>\n",
       "      <th>1</th>\n",
       "      <td>50</td>\n",
       "      <td>Self-emp-not-inc</td>\n",
       "      <td>Bachelors</td>\n",
       "    </tr>\n",
       "    <tr>\n",
       "      <th>2</th>\n",
       "      <td>38</td>\n",
       "      <td>Private</td>\n",
       "      <td>HS-grad</td>\n",
       "    </tr>\n",
       "    <tr>\n",
       "      <th>3</th>\n",
       "      <td>53</td>\n",
       "      <td>Private</td>\n",
       "      <td>11th</td>\n",
       "    </tr>\n",
       "    <tr>\n",
       "      <th>4</th>\n",
       "      <td>28</td>\n",
       "      <td>Private</td>\n",
       "      <td>Bachelors</td>\n",
       "    </tr>\n",
       "  </tbody>\n",
       "</table>\n",
       "</div>"
      ],
      "text/plain": [
       "   age         workclass  education\n",
       "0   39         State-gov  Bachelors\n",
       "1   50  Self-emp-not-inc  Bachelors\n",
       "2   38           Private    HS-grad\n",
       "3   53           Private       11th\n",
       "4   28           Private  Bachelors"
      ]
     },
     "execution_count": 64,
     "metadata": {},
     "output_type": "execute_result"
    }
   ],
   "source": [
    "x2.head()"
   ]
  },
  {
   "cell_type": "code",
   "execution_count": 65,
   "id": "5b3321e9",
   "metadata": {
    "execution": {
     "iopub.execute_input": "2023-01-20T18:50:03.984180Z",
     "iopub.status.busy": "2023-01-20T18:50:03.983073Z",
     "iopub.status.idle": "2023-01-20T18:50:04.031913Z",
     "shell.execute_reply": "2023-01-20T18:50:04.030584Z"
    },
    "papermill": {
     "duration": 0.088587,
     "end_time": "2023-01-20T18:50:04.034973",
     "exception": false,
     "start_time": "2023-01-20T18:50:03.946386",
     "status": "completed"
    },
    "tags": []
   },
   "outputs": [],
   "source": [
    "data['age'] = LE.fit_transform(data['age'])\n",
    "data['workclass'] = LE.fit_transform(data['workclass'])\n",
    "data['education'] = LE.fit_transform(data['education'])\n",
    "data['Annual Income'] = LE.fit_transform(data['Annual Income'])\n"
   ]
  },
  {
   "cell_type": "code",
   "execution_count": 66,
   "id": "52c17f16",
   "metadata": {
    "execution": {
     "iopub.execute_input": "2023-01-20T18:50:04.183550Z",
     "iopub.status.busy": "2023-01-20T18:50:04.183064Z",
     "iopub.status.idle": "2023-01-20T18:50:04.195285Z",
     "shell.execute_reply": "2023-01-20T18:50:04.193985Z"
    },
    "papermill": {
     "duration": 0.129816,
     "end_time": "2023-01-20T18:50:04.198060",
     "exception": false,
     "start_time": "2023-01-20T18:50:04.068244",
     "status": "completed"
    },
    "tags": []
   },
   "outputs": [],
   "source": [
    "x2 = data[['age','workclass','education']]\n",
    "y2 = data['Annual Income']"
   ]
  },
  {
   "cell_type": "code",
   "execution_count": 67,
   "id": "d5455c0d",
   "metadata": {
    "execution": {
     "iopub.execute_input": "2023-01-20T18:50:04.274168Z",
     "iopub.status.busy": "2023-01-20T18:50:04.273543Z",
     "iopub.status.idle": "2023-01-20T18:50:04.289366Z",
     "shell.execute_reply": "2023-01-20T18:50:04.286788Z"
    },
    "papermill": {
     "duration": 0.059338,
     "end_time": "2023-01-20T18:50:04.293538",
     "exception": false,
     "start_time": "2023-01-20T18:50:04.234200",
     "status": "completed"
    },
    "tags": []
   },
   "outputs": [
    {
     "data": {
      "text/html": [
       "<div>\n",
       "<style scoped>\n",
       "    .dataframe tbody tr th:only-of-type {\n",
       "        vertical-align: middle;\n",
       "    }\n",
       "\n",
       "    .dataframe tbody tr th {\n",
       "        vertical-align: top;\n",
       "    }\n",
       "\n",
       "    .dataframe thead th {\n",
       "        text-align: right;\n",
       "    }\n",
       "</style>\n",
       "<table border=\"1\" class=\"dataframe\">\n",
       "  <thead>\n",
       "    <tr style=\"text-align: right;\">\n",
       "      <th></th>\n",
       "      <th>age</th>\n",
       "      <th>workclass</th>\n",
       "      <th>education</th>\n",
       "    </tr>\n",
       "  </thead>\n",
       "  <tbody>\n",
       "    <tr>\n",
       "      <th>0</th>\n",
       "      <td>22</td>\n",
       "      <td>5</td>\n",
       "      <td>9</td>\n",
       "    </tr>\n",
       "    <tr>\n",
       "      <th>1</th>\n",
       "      <td>33</td>\n",
       "      <td>4</td>\n",
       "      <td>9</td>\n",
       "    </tr>\n",
       "    <tr>\n",
       "      <th>2</th>\n",
       "      <td>21</td>\n",
       "      <td>2</td>\n",
       "      <td>11</td>\n",
       "    </tr>\n",
       "    <tr>\n",
       "      <th>3</th>\n",
       "      <td>36</td>\n",
       "      <td>2</td>\n",
       "      <td>1</td>\n",
       "    </tr>\n",
       "    <tr>\n",
       "      <th>4</th>\n",
       "      <td>11</td>\n",
       "      <td>2</td>\n",
       "      <td>9</td>\n",
       "    </tr>\n",
       "  </tbody>\n",
       "</table>\n",
       "</div>"
      ],
      "text/plain": [
       "   age  workclass  education\n",
       "0   22          5          9\n",
       "1   33          4          9\n",
       "2   21          2         11\n",
       "3   36          2          1\n",
       "4   11          2          9"
      ]
     },
     "execution_count": 67,
     "metadata": {},
     "output_type": "execute_result"
    }
   ],
   "source": [
    "x2.head()"
   ]
  },
  {
   "cell_type": "code",
   "execution_count": 68,
   "id": "d70cf888",
   "metadata": {
    "execution": {
     "iopub.execute_input": "2023-01-20T18:50:04.363816Z",
     "iopub.status.busy": "2023-01-20T18:50:04.363393Z",
     "iopub.status.idle": "2023-01-20T18:50:04.373491Z",
     "shell.execute_reply": "2023-01-20T18:50:04.372278Z"
    },
    "papermill": {
     "duration": 0.048339,
     "end_time": "2023-01-20T18:50:04.376486",
     "exception": false,
     "start_time": "2023-01-20T18:50:04.328147",
     "status": "completed"
    },
    "tags": []
   },
   "outputs": [],
   "source": [
    "x_train,x_test,y_train,y_test = train_test_split(x2,y2,test_size = 0.2, random_state = 32)"
   ]
  },
  {
   "cell_type": "code",
   "execution_count": null,
   "id": "80eeb94a",
   "metadata": {
    "papermill": {
     "duration": 0.034151,
     "end_time": "2023-01-20T18:50:04.446140",
     "exception": false,
     "start_time": "2023-01-20T18:50:04.411989",
     "status": "completed"
    },
    "tags": []
   },
   "outputs": [],
   "source": []
  },
  {
   "cell_type": "code",
   "execution_count": 69,
   "id": "82ced9c6",
   "metadata": {
    "execution": {
     "iopub.execute_input": "2023-01-20T18:50:04.519810Z",
     "iopub.status.busy": "2023-01-20T18:50:04.519246Z",
     "iopub.status.idle": "2023-01-20T18:50:04.524602Z",
     "shell.execute_reply": "2023-01-20T18:50:04.523447Z"
    },
    "papermill": {
     "duration": 0.045167,
     "end_time": "2023-01-20T18:50:04.526864",
     "exception": false,
     "start_time": "2023-01-20T18:50:04.481697",
     "status": "completed"
    },
    "tags": []
   },
   "outputs": [],
   "source": [
    "from sklearn.linear_model import LogisticRegression"
   ]
  },
  {
   "cell_type": "code",
   "execution_count": 70,
   "id": "16bbb1a2",
   "metadata": {
    "execution": {
     "iopub.execute_input": "2023-01-20T18:50:04.593957Z",
     "iopub.status.busy": "2023-01-20T18:50:04.593556Z",
     "iopub.status.idle": "2023-01-20T18:50:04.597961Z",
     "shell.execute_reply": "2023-01-20T18:50:04.596988Z"
    },
    "papermill": {
     "duration": 0.041436,
     "end_time": "2023-01-20T18:50:04.600290",
     "exception": false,
     "start_time": "2023-01-20T18:50:04.558854",
     "status": "completed"
    },
    "tags": []
   },
   "outputs": [],
   "source": [
    "LOG = LogisticRegression()"
   ]
  },
  {
   "cell_type": "code",
   "execution_count": 71,
   "id": "e861c95e",
   "metadata": {
    "execution": {
     "iopub.execute_input": "2023-01-20T18:50:04.669144Z",
     "iopub.status.busy": "2023-01-20T18:50:04.668708Z",
     "iopub.status.idle": "2023-01-20T18:50:04.813161Z",
     "shell.execute_reply": "2023-01-20T18:50:04.811858Z"
    },
    "papermill": {
     "duration": 0.184974,
     "end_time": "2023-01-20T18:50:04.818358",
     "exception": false,
     "start_time": "2023-01-20T18:50:04.633384",
     "status": "completed"
    },
    "tags": []
   },
   "outputs": [
    {
     "data": {
      "text/plain": [
       "LogisticRegression()"
      ]
     },
     "execution_count": 71,
     "metadata": {},
     "output_type": "execute_result"
    }
   ],
   "source": [
    "LOG.fit(x_train,y_train)"
   ]
  },
  {
   "cell_type": "code",
   "execution_count": 72,
   "id": "1d2427a1",
   "metadata": {
    "execution": {
     "iopub.execute_input": "2023-01-20T18:50:04.954469Z",
     "iopub.status.busy": "2023-01-20T18:50:04.953997Z",
     "iopub.status.idle": "2023-01-20T18:50:04.968299Z",
     "shell.execute_reply": "2023-01-20T18:50:04.966005Z"
    },
    "papermill": {
     "duration": 0.064462,
     "end_time": "2023-01-20T18:50:04.972600",
     "exception": false,
     "start_time": "2023-01-20T18:50:04.908138",
     "status": "completed"
    },
    "tags": []
   },
   "outputs": [
    {
     "data": {
      "text/plain": [
       "array([0, 0, 0, ..., 1, 0, 0])"
      ]
     },
     "execution_count": 72,
     "metadata": {},
     "output_type": "execute_result"
    }
   ],
   "source": [
    "y_pred= LOG.predict(x_test)\n",
    "y_pred"
   ]
  },
  {
   "cell_type": "code",
   "execution_count": 73,
   "id": "0267931a",
   "metadata": {
    "execution": {
     "iopub.execute_input": "2023-01-20T18:50:05.110376Z",
     "iopub.status.busy": "2023-01-20T18:50:05.109918Z",
     "iopub.status.idle": "2023-01-20T18:50:05.121724Z",
     "shell.execute_reply": "2023-01-20T18:50:05.120577Z"
    },
    "papermill": {
     "duration": 0.061414,
     "end_time": "2023-01-20T18:50:05.124520",
     "exception": false,
     "start_time": "2023-01-20T18:50:05.063106",
     "status": "completed"
    },
    "tags": []
   },
   "outputs": [
    {
     "data": {
      "text/plain": [
       "array([[4432, 1392],\n",
       "       [ 151,   58]])"
      ]
     },
     "execution_count": 73,
     "metadata": {},
     "output_type": "execute_result"
    }
   ],
   "source": [
    "cf1 = confusion_matrix(y_pred,y_test)\n",
    "cf1"
   ]
  },
  {
   "cell_type": "code",
   "execution_count": 74,
   "id": "e302f0ac",
   "metadata": {
    "execution": {
     "iopub.execute_input": "2023-01-20T18:50:05.198861Z",
     "iopub.status.busy": "2023-01-20T18:50:05.198103Z",
     "iopub.status.idle": "2023-01-20T18:50:05.207266Z",
     "shell.execute_reply": "2023-01-20T18:50:05.205542Z"
    },
    "papermill": {
     "duration": 0.050486,
     "end_time": "2023-01-20T18:50:05.210267",
     "exception": false,
     "start_time": "2023-01-20T18:50:05.159781",
     "status": "completed"
    },
    "tags": []
   },
   "outputs": [
    {
     "data": {
      "text/plain": [
       "0.7442400132604011"
      ]
     },
     "execution_count": 74,
     "metadata": {},
     "output_type": "execute_result"
    }
   ],
   "source": [
    "acc1 = accuracy_score(y_pred,y_test)\n",
    "acc1"
   ]
  },
  {
   "cell_type": "markdown",
   "id": "3195062f",
   "metadata": {
    "papermill": {
     "duration": 0.034039,
     "end_time": "2023-01-20T18:50:05.280994",
     "exception": false,
     "start_time": "2023-01-20T18:50:05.246955",
     "status": "completed"
    },
    "tags": []
   },
   "source": [
    "# Decision Tree Model Fitting"
   ]
  },
  {
   "cell_type": "code",
   "execution_count": 75,
   "id": "b19d9ec6",
   "metadata": {
    "execution": {
     "iopub.execute_input": "2023-01-20T18:50:05.354096Z",
     "iopub.status.busy": "2023-01-20T18:50:05.353651Z",
     "iopub.status.idle": "2023-01-20T18:50:05.363223Z",
     "shell.execute_reply": "2023-01-20T18:50:05.361917Z"
    },
    "papermill": {
     "duration": 0.050407,
     "end_time": "2023-01-20T18:50:05.365539",
     "exception": false,
     "start_time": "2023-01-20T18:50:05.315132",
     "status": "completed"
    },
    "tags": []
   },
   "outputs": [],
   "source": [
    "x3 = data.drop(['Annual Income'], axis = 1)\n",
    "y3 = data['Annual Income']"
   ]
  },
  {
   "cell_type": "code",
   "execution_count": 76,
   "id": "50641a3c",
   "metadata": {
    "execution": {
     "iopub.execute_input": "2023-01-20T18:50:05.438274Z",
     "iopub.status.busy": "2023-01-20T18:50:05.437811Z",
     "iopub.status.idle": "2023-01-20T18:50:05.445470Z",
     "shell.execute_reply": "2023-01-20T18:50:05.443455Z"
    },
    "papermill": {
     "duration": 0.048312,
     "end_time": "2023-01-20T18:50:05.448077",
     "exception": false,
     "start_time": "2023-01-20T18:50:05.399765",
     "status": "completed"
    },
    "tags": []
   },
   "outputs": [
    {
     "name": "stdout",
     "output_type": "stream",
     "text": [
      "(30162, 14)\n",
      "(30162,)\n"
     ]
    }
   ],
   "source": [
    "print(x3.shape)\n",
    "print(y3.shape)"
   ]
  },
  {
   "cell_type": "code",
   "execution_count": 77,
   "id": "f2ea474b",
   "metadata": {
    "execution": {
     "iopub.execute_input": "2023-01-20T18:50:05.522290Z",
     "iopub.status.busy": "2023-01-20T18:50:05.521439Z",
     "iopub.status.idle": "2023-01-20T18:50:05.529456Z",
     "shell.execute_reply": "2023-01-20T18:50:05.528490Z"
    },
    "papermill": {
     "duration": 0.045597,
     "end_time": "2023-01-20T18:50:05.532386",
     "exception": false,
     "start_time": "2023-01-20T18:50:05.486789",
     "status": "completed"
    },
    "tags": []
   },
   "outputs": [
    {
     "data": {
      "text/plain": [
       "Index(['age', 'workclass', 'fnlwgt', 'education', 'education-num',\n",
       "       'marital-status', 'occupation', 'relationship', 'race', 'sex',\n",
       "       'capital-gain', 'capital-loss', 'hours-per-week', 'native-country',\n",
       "       'Annual Income'],\n",
       "      dtype='object')"
      ]
     },
     "execution_count": 77,
     "metadata": {},
     "output_type": "execute_result"
    }
   ],
   "source": [
    "data.columns"
   ]
  },
  {
   "cell_type": "code",
   "execution_count": 78,
   "id": "3cb09be8",
   "metadata": {
    "execution": {
     "iopub.execute_input": "2023-01-20T18:50:05.607716Z",
     "iopub.status.busy": "2023-01-20T18:50:05.607200Z",
     "iopub.status.idle": "2023-01-20T18:50:05.614427Z",
     "shell.execute_reply": "2023-01-20T18:50:05.613307Z"
    },
    "papermill": {
     "duration": 0.047687,
     "end_time": "2023-01-20T18:50:05.617910",
     "exception": false,
     "start_time": "2023-01-20T18:50:05.570223",
     "status": "completed"
    },
    "tags": []
   },
   "outputs": [],
   "source": [
    "col_list = list(x3.columns)"
   ]
  },
  {
   "cell_type": "code",
   "execution_count": 79,
   "id": "b141c754",
   "metadata": {
    "execution": {
     "iopub.execute_input": "2023-01-20T18:50:05.701925Z",
     "iopub.status.busy": "2023-01-20T18:50:05.701498Z",
     "iopub.status.idle": "2023-01-20T18:50:05.736154Z",
     "shell.execute_reply": "2023-01-20T18:50:05.734028Z"
    },
    "papermill": {
     "duration": 0.075468,
     "end_time": "2023-01-20T18:50:05.739370",
     "exception": false,
     "start_time": "2023-01-20T18:50:05.663902",
     "status": "completed"
    },
    "tags": []
   },
   "outputs": [
    {
     "name": "stdout",
     "output_type": "stream",
     "text": [
      "<class 'pandas.core.frame.DataFrame'>\n",
      "Int64Index: 30162 entries, 0 to 32560\n",
      "Data columns (total 14 columns):\n",
      " #   Column          Non-Null Count  Dtype \n",
      "---  ------          --------------  ----- \n",
      " 0   age             30162 non-null  int64 \n",
      " 1   workclass       30162 non-null  int64 \n",
      " 2   fnlwgt          30162 non-null  int64 \n",
      " 3   education       30162 non-null  int64 \n",
      " 4   education-num   30162 non-null  int64 \n",
      " 5   marital-status  30162 non-null  object\n",
      " 6   occupation      30162 non-null  object\n",
      " 7   relationship    30162 non-null  object\n",
      " 8   race            30162 non-null  object\n",
      " 9   sex             30162 non-null  object\n",
      " 10  capital-gain    30162 non-null  int64 \n",
      " 11  capital-loss    30162 non-null  int64 \n",
      " 12  hours-per-week  30162 non-null  int64 \n",
      " 13  native-country  30162 non-null  object\n",
      "dtypes: int64(8), object(6)\n",
      "memory usage: 4.5+ MB\n"
     ]
    }
   ],
   "source": [
    "x3.info()"
   ]
  },
  {
   "cell_type": "code",
   "execution_count": 80,
   "id": "3ac70c7d",
   "metadata": {
    "execution": {
     "iopub.execute_input": "2023-01-20T18:50:05.817617Z",
     "iopub.status.busy": "2023-01-20T18:50:05.816556Z",
     "iopub.status.idle": "2023-01-20T18:50:05.824533Z",
     "shell.execute_reply": "2023-01-20T18:50:05.822856Z"
    },
    "papermill": {
     "duration": 0.049894,
     "end_time": "2023-01-20T18:50:05.827960",
     "exception": false,
     "start_time": "2023-01-20T18:50:05.778066",
     "status": "completed"
    },
    "tags": []
   },
   "outputs": [
    {
     "data": {
      "text/plain": [
       "['age',\n",
       " 'workclass',\n",
       " 'fnlwgt',\n",
       " 'education',\n",
       " 'education-num',\n",
       " 'marital-status',\n",
       " 'occupation',\n",
       " 'relationship',\n",
       " 'race',\n",
       " 'sex',\n",
       " 'capital-gain',\n",
       " 'capital-loss',\n",
       " 'hours-per-week',\n",
       " 'native-country']"
      ]
     },
     "execution_count": 80,
     "metadata": {},
     "output_type": "execute_result"
    }
   ],
   "source": [
    "col_list"
   ]
  },
  {
   "cell_type": "code",
   "execution_count": 81,
   "id": "cbcfe4a2",
   "metadata": {
    "execution": {
     "iopub.execute_input": "2023-01-20T18:50:05.909156Z",
     "iopub.status.busy": "2023-01-20T18:50:05.908662Z",
     "iopub.status.idle": "2023-01-20T18:50:05.986474Z",
     "shell.execute_reply": "2023-01-20T18:50:05.984689Z"
    },
    "papermill": {
     "duration": 0.120564,
     "end_time": "2023-01-20T18:50:05.990314",
     "exception": false,
     "start_time": "2023-01-20T18:50:05.869750",
     "status": "completed"
    },
    "tags": []
   },
   "outputs": [],
   "source": [
    "for i in col_list:\n",
    "    x3[i].dtypes == 'object'\n",
    "    x3[i] = LE.fit_transform(x3[i])"
   ]
  },
  {
   "cell_type": "code",
   "execution_count": 82,
   "id": "704d8dcc",
   "metadata": {
    "execution": {
     "iopub.execute_input": "2023-01-20T18:50:06.067449Z",
     "iopub.status.busy": "2023-01-20T18:50:06.066986Z",
     "iopub.status.idle": "2023-01-20T18:50:06.087198Z",
     "shell.execute_reply": "2023-01-20T18:50:06.084998Z"
    },
    "papermill": {
     "duration": 0.060556,
     "end_time": "2023-01-20T18:50:06.091181",
     "exception": false,
     "start_time": "2023-01-20T18:50:06.030625",
     "status": "completed"
    },
    "tags": []
   },
   "outputs": [
    {
     "name": "stdout",
     "output_type": "stream",
     "text": [
      "<class 'pandas.core.frame.DataFrame'>\n",
      "Int64Index: 30162 entries, 0 to 32560\n",
      "Data columns (total 14 columns):\n",
      " #   Column          Non-Null Count  Dtype\n",
      "---  ------          --------------  -----\n",
      " 0   age             30162 non-null  int64\n",
      " 1   workclass       30162 non-null  int64\n",
      " 2   fnlwgt          30162 non-null  int64\n",
      " 3   education       30162 non-null  int64\n",
      " 4   education-num   30162 non-null  int64\n",
      " 5   marital-status  30162 non-null  int64\n",
      " 6   occupation      30162 non-null  int64\n",
      " 7   relationship    30162 non-null  int64\n",
      " 8   race            30162 non-null  int64\n",
      " 9   sex             30162 non-null  int64\n",
      " 10  capital-gain    30162 non-null  int64\n",
      " 11  capital-loss    30162 non-null  int64\n",
      " 12  hours-per-week  30162 non-null  int64\n",
      " 13  native-country  30162 non-null  int64\n",
      "dtypes: int64(14)\n",
      "memory usage: 4.5 MB\n"
     ]
    }
   ],
   "source": [
    "x3.info()"
   ]
  },
  {
   "cell_type": "code",
   "execution_count": 83,
   "id": "2e5945a6",
   "metadata": {
    "execution": {
     "iopub.execute_input": "2023-01-20T18:50:06.165024Z",
     "iopub.status.busy": "2023-01-20T18:50:06.164458Z",
     "iopub.status.idle": "2023-01-20T18:50:06.182965Z",
     "shell.execute_reply": "2023-01-20T18:50:06.181266Z"
    },
    "papermill": {
     "duration": 0.059575,
     "end_time": "2023-01-20T18:50:06.186630",
     "exception": false,
     "start_time": "2023-01-20T18:50:06.127055",
     "status": "completed"
    },
    "tags": []
   },
   "outputs": [
    {
     "data": {
      "text/html": [
       "<div>\n",
       "<style scoped>\n",
       "    .dataframe tbody tr th:only-of-type {\n",
       "        vertical-align: middle;\n",
       "    }\n",
       "\n",
       "    .dataframe tbody tr th {\n",
       "        vertical-align: top;\n",
       "    }\n",
       "\n",
       "    .dataframe thead th {\n",
       "        text-align: right;\n",
       "    }\n",
       "</style>\n",
       "<table border=\"1\" class=\"dataframe\">\n",
       "  <thead>\n",
       "    <tr style=\"text-align: right;\">\n",
       "      <th></th>\n",
       "      <th>age</th>\n",
       "      <th>workclass</th>\n",
       "      <th>fnlwgt</th>\n",
       "      <th>education</th>\n",
       "      <th>education-num</th>\n",
       "      <th>marital-status</th>\n",
       "      <th>occupation</th>\n",
       "      <th>relationship</th>\n",
       "      <th>race</th>\n",
       "      <th>sex</th>\n",
       "      <th>capital-gain</th>\n",
       "      <th>capital-loss</th>\n",
       "      <th>hours-per-week</th>\n",
       "      <th>native-country</th>\n",
       "    </tr>\n",
       "  </thead>\n",
       "  <tbody>\n",
       "    <tr>\n",
       "      <th>0</th>\n",
       "      <td>22</td>\n",
       "      <td>5</td>\n",
       "      <td>2491</td>\n",
       "      <td>9</td>\n",
       "      <td>12</td>\n",
       "      <td>4</td>\n",
       "      <td>0</td>\n",
       "      <td>1</td>\n",
       "      <td>4</td>\n",
       "      <td>1</td>\n",
       "      <td>24</td>\n",
       "      <td>0</td>\n",
       "      <td>39</td>\n",
       "      <td>38</td>\n",
       "    </tr>\n",
       "    <tr>\n",
       "      <th>1</th>\n",
       "      <td>33</td>\n",
       "      <td>4</td>\n",
       "      <td>2727</td>\n",
       "      <td>9</td>\n",
       "      <td>12</td>\n",
       "      <td>2</td>\n",
       "      <td>3</td>\n",
       "      <td>0</td>\n",
       "      <td>4</td>\n",
       "      <td>1</td>\n",
       "      <td>0</td>\n",
       "      <td>0</td>\n",
       "      <td>12</td>\n",
       "      <td>38</td>\n",
       "    </tr>\n",
       "    <tr>\n",
       "      <th>2</th>\n",
       "      <td>21</td>\n",
       "      <td>2</td>\n",
       "      <td>13188</td>\n",
       "      <td>11</td>\n",
       "      <td>8</td>\n",
       "      <td>0</td>\n",
       "      <td>5</td>\n",
       "      <td>1</td>\n",
       "      <td>4</td>\n",
       "      <td>1</td>\n",
       "      <td>0</td>\n",
       "      <td>0</td>\n",
       "      <td>39</td>\n",
       "      <td>38</td>\n",
       "    </tr>\n",
       "    <tr>\n",
       "      <th>3</th>\n",
       "      <td>36</td>\n",
       "      <td>2</td>\n",
       "      <td>14354</td>\n",
       "      <td>1</td>\n",
       "      <td>6</td>\n",
       "      <td>2</td>\n",
       "      <td>5</td>\n",
       "      <td>0</td>\n",
       "      <td>2</td>\n",
       "      <td>1</td>\n",
       "      <td>0</td>\n",
       "      <td>0</td>\n",
       "      <td>39</td>\n",
       "      <td>38</td>\n",
       "    </tr>\n",
       "    <tr>\n",
       "      <th>4</th>\n",
       "      <td>11</td>\n",
       "      <td>2</td>\n",
       "      <td>18120</td>\n",
       "      <td>9</td>\n",
       "      <td>12</td>\n",
       "      <td>2</td>\n",
       "      <td>9</td>\n",
       "      <td>5</td>\n",
       "      <td>2</td>\n",
       "      <td>0</td>\n",
       "      <td>0</td>\n",
       "      <td>0</td>\n",
       "      <td>39</td>\n",
       "      <td>4</td>\n",
       "    </tr>\n",
       "  </tbody>\n",
       "</table>\n",
       "</div>"
      ],
      "text/plain": [
       "   age  workclass  fnlwgt  education  education-num  marital-status  \\\n",
       "0   22          5    2491          9             12               4   \n",
       "1   33          4    2727          9             12               2   \n",
       "2   21          2   13188         11              8               0   \n",
       "3   36          2   14354          1              6               2   \n",
       "4   11          2   18120          9             12               2   \n",
       "\n",
       "   occupation  relationship  race  sex  capital-gain  capital-loss  \\\n",
       "0           0             1     4    1            24             0   \n",
       "1           3             0     4    1             0             0   \n",
       "2           5             1     4    1             0             0   \n",
       "3           5             0     2    1             0             0   \n",
       "4           9             5     2    0             0             0   \n",
       "\n",
       "   hours-per-week  native-country  \n",
       "0              39              38  \n",
       "1              12              38  \n",
       "2              39              38  \n",
       "3              39              38  \n",
       "4              39               4  "
      ]
     },
     "execution_count": 83,
     "metadata": {},
     "output_type": "execute_result"
    }
   ],
   "source": [
    "x3.head()"
   ]
  },
  {
   "cell_type": "code",
   "execution_count": null,
   "id": "4cc248c6",
   "metadata": {
    "papermill": {
     "duration": 0.036422,
     "end_time": "2023-01-20T18:50:06.259472",
     "exception": false,
     "start_time": "2023-01-20T18:50:06.223050",
     "status": "completed"
    },
    "tags": []
   },
   "outputs": [],
   "source": []
  },
  {
   "cell_type": "code",
   "execution_count": 84,
   "id": "a44a2ed3",
   "metadata": {
    "execution": {
     "iopub.execute_input": "2023-01-20T18:50:06.337390Z",
     "iopub.status.busy": "2023-01-20T18:50:06.336934Z",
     "iopub.status.idle": "2023-01-20T18:50:06.355823Z",
     "shell.execute_reply": "2023-01-20T18:50:06.354442Z"
    },
    "papermill": {
     "duration": 0.0612,
     "end_time": "2023-01-20T18:50:06.359678",
     "exception": false,
     "start_time": "2023-01-20T18:50:06.298478",
     "status": "completed"
    },
    "tags": []
   },
   "outputs": [],
   "source": [
    "x_train,x_test,y_train,y_test = train_test_split(x3,y3,test_size = 0.3, random_state = 42)"
   ]
  },
  {
   "cell_type": "code",
   "execution_count": 85,
   "id": "62a69923",
   "metadata": {
    "execution": {
     "iopub.execute_input": "2023-01-20T18:50:06.433262Z",
     "iopub.status.busy": "2023-01-20T18:50:06.432812Z",
     "iopub.status.idle": "2023-01-20T18:50:06.532647Z",
     "shell.execute_reply": "2023-01-20T18:50:06.531264Z"
    },
    "papermill": {
     "duration": 0.14076,
     "end_time": "2023-01-20T18:50:06.536075",
     "exception": false,
     "start_time": "2023-01-20T18:50:06.395315",
     "status": "completed"
    },
    "tags": []
   },
   "outputs": [],
   "source": [
    "from sklearn.tree import DecisionTreeClassifier"
   ]
  },
  {
   "cell_type": "code",
   "execution_count": 86,
   "id": "fd6ff9ac",
   "metadata": {
    "execution": {
     "iopub.execute_input": "2023-01-20T18:50:06.610022Z",
     "iopub.status.busy": "2023-01-20T18:50:06.609638Z",
     "iopub.status.idle": "2023-01-20T18:50:06.614786Z",
     "shell.execute_reply": "2023-01-20T18:50:06.613640Z"
    },
    "papermill": {
     "duration": 0.044326,
     "end_time": "2023-01-20T18:50:06.617045",
     "exception": false,
     "start_time": "2023-01-20T18:50:06.572719",
     "status": "completed"
    },
    "tags": []
   },
   "outputs": [],
   "source": [
    "DTC = DecisionTreeClassifier()"
   ]
  },
  {
   "cell_type": "code",
   "execution_count": 87,
   "id": "25065829",
   "metadata": {
    "execution": {
     "iopub.execute_input": "2023-01-20T18:50:06.691911Z",
     "iopub.status.busy": "2023-01-20T18:50:06.691516Z",
     "iopub.status.idle": "2023-01-20T18:50:06.847759Z",
     "shell.execute_reply": "2023-01-20T18:50:06.845499Z"
    },
    "papermill": {
     "duration": 0.200837,
     "end_time": "2023-01-20T18:50:06.852100",
     "exception": false,
     "start_time": "2023-01-20T18:50:06.651263",
     "status": "completed"
    },
    "tags": []
   },
   "outputs": [
    {
     "data": {
      "text/plain": [
       "DecisionTreeClassifier()"
      ]
     },
     "execution_count": 87,
     "metadata": {},
     "output_type": "execute_result"
    }
   ],
   "source": [
    "DTC.fit(x_train,y_train)"
   ]
  },
  {
   "cell_type": "code",
   "execution_count": 88,
   "id": "482e5dd8",
   "metadata": {
    "execution": {
     "iopub.execute_input": "2023-01-20T18:50:06.940224Z",
     "iopub.status.busy": "2023-01-20T18:50:06.939817Z",
     "iopub.status.idle": "2023-01-20T18:50:06.952573Z",
     "shell.execute_reply": "2023-01-20T18:50:06.951167Z"
    },
    "papermill": {
     "duration": 0.051714,
     "end_time": "2023-01-20T18:50:06.955434",
     "exception": false,
     "start_time": "2023-01-20T18:50:06.903720",
     "status": "completed"
    },
    "tags": []
   },
   "outputs": [
    {
     "data": {
      "text/plain": [
       "array([0, 1, 0, ..., 1, 0, 0])"
      ]
     },
     "execution_count": 88,
     "metadata": {},
     "output_type": "execute_result"
    }
   ],
   "source": [
    "y_pred  = DTC.predict(x_test)\n",
    "y_pred"
   ]
  },
  {
   "cell_type": "code",
   "execution_count": 89,
   "id": "84728084",
   "metadata": {
    "execution": {
     "iopub.execute_input": "2023-01-20T18:50:07.033166Z",
     "iopub.status.busy": "2023-01-20T18:50:07.032779Z",
     "iopub.status.idle": "2023-01-20T18:50:07.043958Z",
     "shell.execute_reply": "2023-01-20T18:50:07.042426Z"
    },
    "papermill": {
     "duration": 0.053551,
     "end_time": "2023-01-20T18:50:07.046861",
     "exception": false,
     "start_time": "2023-01-20T18:50:06.993310",
     "status": "completed"
    },
    "tags": []
   },
   "outputs": [
    {
     "data": {
      "text/plain": [
       "array([[5888,  885],\n",
       "       [ 879, 1397]])"
      ]
     },
     "execution_count": 89,
     "metadata": {},
     "output_type": "execute_result"
    }
   ],
   "source": [
    "cf3 = confusion_matrix(y_pred,y_test)\n",
    "cf3"
   ]
  },
  {
   "cell_type": "code",
   "execution_count": 90,
   "id": "ca76db4f",
   "metadata": {
    "execution": {
     "iopub.execute_input": "2023-01-20T18:50:07.122758Z",
     "iopub.status.busy": "2023-01-20T18:50:07.122311Z",
     "iopub.status.idle": "2023-01-20T18:50:07.132847Z",
     "shell.execute_reply": "2023-01-20T18:50:07.131269Z"
    },
    "papermill": {
     "duration": 0.05067,
     "end_time": "2023-01-20T18:50:07.135608",
     "exception": false,
     "start_time": "2023-01-20T18:50:07.084938",
     "status": "completed"
    },
    "tags": []
   },
   "outputs": [
    {
     "data": {
      "text/plain": [
       "0.8050613327439496"
      ]
     },
     "execution_count": 90,
     "metadata": {},
     "output_type": "execute_result"
    }
   ],
   "source": [
    "acc3 = accuracy_score(y_pred,y_test)\n",
    "acc3"
   ]
  },
  {
   "cell_type": "code",
   "execution_count": null,
   "id": "d78d35cc",
   "metadata": {
    "papermill": {
     "duration": 0.035695,
     "end_time": "2023-01-20T18:50:07.207666",
     "exception": false,
     "start_time": "2023-01-20T18:50:07.171971",
     "status": "completed"
    },
    "tags": []
   },
   "outputs": [],
   "source": []
  },
  {
   "cell_type": "markdown",
   "id": "3595cc2c",
   "metadata": {
    "papermill": {
     "duration": 0.038937,
     "end_time": "2023-01-20T18:50:07.282121",
     "exception": false,
     "start_time": "2023-01-20T18:50:07.243184",
     "status": "completed"
    },
    "tags": []
   },
   "source": [
    "#  Random Forest Model Fitting"
   ]
  },
  {
   "cell_type": "code",
   "execution_count": 91,
   "id": "c660da21",
   "metadata": {
    "execution": {
     "iopub.execute_input": "2023-01-20T18:50:07.353815Z",
     "iopub.status.busy": "2023-01-20T18:50:07.353418Z",
     "iopub.status.idle": "2023-01-20T18:50:07.359038Z",
     "shell.execute_reply": "2023-01-20T18:50:07.358015Z"
    },
    "papermill": {
     "duration": 0.045216,
     "end_time": "2023-01-20T18:50:07.361678",
     "exception": false,
     "start_time": "2023-01-20T18:50:07.316462",
     "status": "completed"
    },
    "tags": []
   },
   "outputs": [],
   "source": [
    "x4 = x3\n",
    "y4 = y3"
   ]
  },
  {
   "cell_type": "code",
   "execution_count": 92,
   "id": "84f05868",
   "metadata": {
    "execution": {
     "iopub.execute_input": "2023-01-20T18:50:07.435444Z",
     "iopub.status.busy": "2023-01-20T18:50:07.434934Z",
     "iopub.status.idle": "2023-01-20T18:50:07.450541Z",
     "shell.execute_reply": "2023-01-20T18:50:07.449429Z"
    },
    "papermill": {
     "duration": 0.057659,
     "end_time": "2023-01-20T18:50:07.453941",
     "exception": false,
     "start_time": "2023-01-20T18:50:07.396282",
     "status": "completed"
    },
    "tags": []
   },
   "outputs": [
    {
     "name": "stdout",
     "output_type": "stream",
     "text": [
      "<class 'pandas.core.frame.DataFrame'>\n",
      "Int64Index: 30162 entries, 0 to 32560\n",
      "Data columns (total 14 columns):\n",
      " #   Column          Non-Null Count  Dtype\n",
      "---  ------          --------------  -----\n",
      " 0   age             30162 non-null  int64\n",
      " 1   workclass       30162 non-null  int64\n",
      " 2   fnlwgt          30162 non-null  int64\n",
      " 3   education       30162 non-null  int64\n",
      " 4   education-num   30162 non-null  int64\n",
      " 5   marital-status  30162 non-null  int64\n",
      " 6   occupation      30162 non-null  int64\n",
      " 7   relationship    30162 non-null  int64\n",
      " 8   race            30162 non-null  int64\n",
      " 9   sex             30162 non-null  int64\n",
      " 10  capital-gain    30162 non-null  int64\n",
      " 11  capital-loss    30162 non-null  int64\n",
      " 12  hours-per-week  30162 non-null  int64\n",
      " 13  native-country  30162 non-null  int64\n",
      "dtypes: int64(14)\n",
      "memory usage: 4.5 MB\n"
     ]
    }
   ],
   "source": [
    "x4.info()"
   ]
  },
  {
   "cell_type": "code",
   "execution_count": 93,
   "id": "06e2d572",
   "metadata": {
    "execution": {
     "iopub.execute_input": "2023-01-20T18:50:07.529252Z",
     "iopub.status.busy": "2023-01-20T18:50:07.528784Z",
     "iopub.status.idle": "2023-01-20T18:50:07.544195Z",
     "shell.execute_reply": "2023-01-20T18:50:07.542880Z"
    },
    "papermill": {
     "duration": 0.057973,
     "end_time": "2023-01-20T18:50:07.547159",
     "exception": false,
     "start_time": "2023-01-20T18:50:07.489186",
     "status": "completed"
    },
    "tags": []
   },
   "outputs": [],
   "source": [
    "x_train,x_test,y_train,y_test = train_test_split(x4,y4,test_size = 0.2, random_state = 42)"
   ]
  },
  {
   "cell_type": "code",
   "execution_count": 94,
   "id": "f0b28941",
   "metadata": {
    "execution": {
     "iopub.execute_input": "2023-01-20T18:50:07.621385Z",
     "iopub.status.busy": "2023-01-20T18:50:07.620940Z",
     "iopub.status.idle": "2023-01-20T18:50:07.696869Z",
     "shell.execute_reply": "2023-01-20T18:50:07.695649Z"
    },
    "papermill": {
     "duration": 0.114964,
     "end_time": "2023-01-20T18:50:07.699413",
     "exception": false,
     "start_time": "2023-01-20T18:50:07.584449",
     "status": "completed"
    },
    "tags": []
   },
   "outputs": [],
   "source": [
    "from sklearn.ensemble import RandomForestClassifier"
   ]
  },
  {
   "cell_type": "code",
   "execution_count": 95,
   "id": "18a00a10",
   "metadata": {
    "execution": {
     "iopub.execute_input": "2023-01-20T18:50:07.773196Z",
     "iopub.status.busy": "2023-01-20T18:50:07.772744Z",
     "iopub.status.idle": "2023-01-20T18:50:07.777971Z",
     "shell.execute_reply": "2023-01-20T18:50:07.776743Z"
    },
    "papermill": {
     "duration": 0.044825,
     "end_time": "2023-01-20T18:50:07.780102",
     "exception": false,
     "start_time": "2023-01-20T18:50:07.735277",
     "status": "completed"
    },
    "tags": []
   },
   "outputs": [],
   "source": [
    "RFC = RandomForestClassifier(n_estimators=300)  #parametric constructor \n",
    "\n",
    "#by default 100 estimators if we do not define any value"
   ]
  },
  {
   "cell_type": "code",
   "execution_count": 96,
   "id": "5dafeced",
   "metadata": {
    "execution": {
     "iopub.execute_input": "2023-01-20T18:50:07.854774Z",
     "iopub.status.busy": "2023-01-20T18:50:07.853323Z",
     "iopub.status.idle": "2023-01-20T18:50:17.927543Z",
     "shell.execute_reply": "2023-01-20T18:50:17.925883Z"
    },
    "papermill": {
     "duration": 10.115363,
     "end_time": "2023-01-20T18:50:17.931323",
     "exception": false,
     "start_time": "2023-01-20T18:50:07.815960",
     "status": "completed"
    },
    "tags": []
   },
   "outputs": [
    {
     "data": {
      "text/plain": [
       "RandomForestClassifier(n_estimators=300)"
      ]
     },
     "execution_count": 96,
     "metadata": {},
     "output_type": "execute_result"
    }
   ],
   "source": [
    "RFC.fit(x_train,y_train)"
   ]
  },
  {
   "cell_type": "code",
   "execution_count": 97,
   "id": "2edaed69",
   "metadata": {
    "execution": {
     "iopub.execute_input": "2023-01-20T18:50:18.008556Z",
     "iopub.status.busy": "2023-01-20T18:50:18.008097Z",
     "iopub.status.idle": "2023-01-20T18:50:18.570795Z",
     "shell.execute_reply": "2023-01-20T18:50:18.569217Z"
    },
    "papermill": {
     "duration": 0.604834,
     "end_time": "2023-01-20T18:50:18.573769",
     "exception": false,
     "start_time": "2023-01-20T18:50:17.968935",
     "status": "completed"
    },
    "tags": []
   },
   "outputs": [
    {
     "data": {
      "text/plain": [
       "array([0, 0, 0, ..., 1, 1, 0])"
      ]
     },
     "execution_count": 97,
     "metadata": {},
     "output_type": "execute_result"
    }
   ],
   "source": [
    "y_pred = RFC.predict(x_test)\n",
    "y_pred"
   ]
  },
  {
   "cell_type": "code",
   "execution_count": 98,
   "id": "32fdf646",
   "metadata": {
    "execution": {
     "iopub.execute_input": "2023-01-20T18:50:18.647900Z",
     "iopub.status.busy": "2023-01-20T18:50:18.647481Z",
     "iopub.status.idle": "2023-01-20T18:50:18.658009Z",
     "shell.execute_reply": "2023-01-20T18:50:18.656788Z"
    },
    "papermill": {
     "duration": 0.051649,
     "end_time": "2023-01-20T18:50:18.661775",
     "exception": false,
     "start_time": "2023-01-20T18:50:18.610126",
     "status": "completed"
    },
    "tags": []
   },
   "outputs": [
    {
     "data": {
      "text/plain": [
       "array([[4165,  536],\n",
       "       [ 338,  994]])"
      ]
     },
     "execution_count": 98,
     "metadata": {},
     "output_type": "execute_result"
    }
   ],
   "source": [
    "cf4 = confusion_matrix(y_pred,y_test)\n",
    "cf4"
   ]
  },
  {
   "cell_type": "code",
   "execution_count": 99,
   "id": "2e84b613",
   "metadata": {
    "execution": {
     "iopub.execute_input": "2023-01-20T18:50:18.740624Z",
     "iopub.status.busy": "2023-01-20T18:50:18.740115Z",
     "iopub.status.idle": "2023-01-20T18:50:18.751887Z",
     "shell.execute_reply": "2023-01-20T18:50:18.750714Z"
    },
    "papermill": {
     "duration": 0.054965,
     "end_time": "2023-01-20T18:50:18.754413",
     "exception": false,
     "start_time": "2023-01-20T18:50:18.699448",
     "status": "completed"
    },
    "tags": []
   },
   "outputs": [
    {
     "data": {
      "text/plain": [
       "0.85513011768606"
      ]
     },
     "execution_count": 99,
     "metadata": {},
     "output_type": "execute_result"
    }
   ],
   "source": [
    "acc4 = accuracy_score(y_pred,y_test)\n",
    "acc4"
   ]
  },
  {
   "cell_type": "code",
   "execution_count": 100,
   "id": "645c1c63",
   "metadata": {
    "execution": {
     "iopub.execute_input": "2023-01-20T18:50:18.829035Z",
     "iopub.status.busy": "2023-01-20T18:50:18.828635Z",
     "iopub.status.idle": "2023-01-20T18:50:18.834199Z",
     "shell.execute_reply": "2023-01-20T18:50:18.832792Z"
    },
    "papermill": {
     "duration": 0.048636,
     "end_time": "2023-01-20T18:50:18.838058",
     "exception": false,
     "start_time": "2023-01-20T18:50:18.789422",
     "status": "completed"
    },
    "tags": []
   },
   "outputs": [],
   "source": [
    "from sklearn.metrics import classification_report"
   ]
  },
  {
   "cell_type": "code",
   "execution_count": 101,
   "id": "4fb2c1dd",
   "metadata": {
    "execution": {
     "iopub.execute_input": "2023-01-20T18:50:18.917981Z",
     "iopub.status.busy": "2023-01-20T18:50:18.917540Z",
     "iopub.status.idle": "2023-01-20T18:50:18.942934Z",
     "shell.execute_reply": "2023-01-20T18:50:18.940514Z"
    },
    "papermill": {
     "duration": 0.068304,
     "end_time": "2023-01-20T18:50:18.946940",
     "exception": false,
     "start_time": "2023-01-20T18:50:18.878636",
     "status": "completed"
    },
    "tags": []
   },
   "outputs": [
    {
     "name": "stdout",
     "output_type": "stream",
     "text": [
      "              precision    recall  f1-score   support\n",
      "\n",
      "           0       0.89      0.92      0.91      4503\n",
      "           1       0.75      0.65      0.69      1530\n",
      "\n",
      "    accuracy                           0.86      6033\n",
      "   macro avg       0.82      0.79      0.80      6033\n",
      "weighted avg       0.85      0.86      0.85      6033\n",
      "\n"
     ]
    }
   ],
   "source": [
    "print(classification_report(y_test,y_pred))"
   ]
  },
  {
   "cell_type": "code",
   "execution_count": null,
   "id": "729c09bc",
   "metadata": {
    "papermill": {
     "duration": 0.037146,
     "end_time": "2023-01-20T18:50:19.020467",
     "exception": false,
     "start_time": "2023-01-20T18:50:18.983321",
     "status": "completed"
    },
    "tags": []
   },
   "outputs": [],
   "source": []
  }
 ],
 "metadata": {
  "kernelspec": {
   "display_name": "Python 3",
   "language": "python",
   "name": "python3"
  },
  "language_info": {
   "codemirror_mode": {
    "name": "ipython",
    "version": 3
   },
   "file_extension": ".py",
   "mimetype": "text/x-python",
   "name": "python",
   "nbconvert_exporter": "python",
   "pygments_lexer": "ipython3",
   "version": "3.7.12"
  },
  "papermill": {
   "default_parameters": {},
   "duration": 35.659072,
   "end_time": "2023-01-20T18:50:19.979236",
   "environment_variables": {},
   "exception": null,
   "input_path": "__notebook__.ipynb",
   "output_path": "__notebook__.ipynb",
   "parameters": {},
   "start_time": "2023-01-20T18:49:44.320164",
   "version": "2.3.4"
  }
 },
 "nbformat": 4,
 "nbformat_minor": 5
}
